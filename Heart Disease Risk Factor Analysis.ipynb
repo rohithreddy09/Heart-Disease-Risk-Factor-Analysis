{
  "nbformat": 4,
  "nbformat_minor": 0,
  "metadata": {
    "colab": {
      "provenance": []
    },
    "kernelspec": {
      "name": "python3",
      "display_name": "Python 3"
    },
    "language_info": {
      "name": "python"
    }
  },
  "cells": [
    {
      "cell_type": "markdown",
      "source": [
        "# **Heart Disease Risk Factor Analysis**"
      ],
      "metadata": {
        "id": "6Zcmr3mMayaR"
      }
    },
    {
      "cell_type": "code",
      "source": [
        "from google.colab import drive\n",
        "drive.mount('/content/drive')"
      ],
      "metadata": {
        "id": "C3U2jPuqapUn",
        "colab": {
          "base_uri": "https://localhost:8080/"
        },
        "outputId": "2cf968f5-8427-44b8-c781-12cc854cec79"
      },
      "execution_count": null,
      "outputs": [
        {
          "output_type": "stream",
          "name": "stdout",
          "text": [
            "Mounted at /content/drive\n"
          ]
        }
      ]
    },
    {
      "cell_type": "code",
      "source": [
        "!pip install pyspark"
      ],
      "metadata": {
        "colab": {
          "base_uri": "https://localhost:8080/"
        },
        "id": "AW7udYSUSzS9",
        "outputId": "b013ccd6-a88d-4bb6-fe52-2cf229ec7d70"
      },
      "execution_count": null,
      "outputs": [
        {
          "output_type": "stream",
          "name": "stdout",
          "text": [
            "Collecting pyspark\n",
            "  Downloading pyspark-3.5.0.tar.gz (316.9 MB)\n",
            "\u001b[2K     \u001b[90m━━━━━━━━━━━━━━━━━━━━━━━━━━━━━━━━━━━━━━━━\u001b[0m \u001b[32m316.9/316.9 MB\u001b[0m \u001b[31m3.9 MB/s\u001b[0m eta \u001b[36m0:00:00\u001b[0m\n",
            "\u001b[?25h  Preparing metadata (setup.py) ... \u001b[?25l\u001b[?25hdone\n",
            "Requirement already satisfied: py4j==0.10.9.7 in /usr/local/lib/python3.10/dist-packages (from pyspark) (0.10.9.7)\n",
            "Building wheels for collected packages: pyspark\n",
            "  Building wheel for pyspark (setup.py) ... \u001b[?25l\u001b[?25hdone\n",
            "  Created wheel for pyspark: filename=pyspark-3.5.0-py2.py3-none-any.whl size=317425345 sha256=def64faa94ee723e1c91f95e3cde512781132f51fe05edee8ce80db2c6d2779d\n",
            "  Stored in directory: /root/.cache/pip/wheels/41/4e/10/c2cf2467f71c678cfc8a6b9ac9241e5e44a01940da8fbb17fc\n",
            "Successfully built pyspark\n",
            "Installing collected packages: pyspark\n",
            "Successfully installed pyspark-3.5.0\n"
          ]
        }
      ]
    },
    {
      "cell_type": "code",
      "source": [
        "from pyspark.sql import SparkSession\n",
        "\n",
        "spark = SparkSession.builder.master(\"local[1]\").appName(\"SparkByExamples.com\").getOrCreate()\n",
        "\n",
        "spark"
      ],
      "metadata": {
        "colab": {
          "base_uri": "https://localhost:8080/",
          "height": 222
        },
        "id": "dRvpXZLdeUl8",
        "outputId": "743992e0-473e-407e-8ee8-b65d7927d423"
      },
      "execution_count": null,
      "outputs": [
        {
          "output_type": "execute_result",
          "data": {
            "text/plain": [
              "<pyspark.sql.session.SparkSession at 0x78653c59d060>"
            ],
            "text/html": [
              "\n",
              "            <div>\n",
              "                <p><b>SparkSession - in-memory</b></p>\n",
              "                \n",
              "        <div>\n",
              "            <p><b>SparkContext</b></p>\n",
              "\n",
              "            <p><a href=\"http://1cb3ce1e7ef1:4040\">Spark UI</a></p>\n",
              "\n",
              "            <dl>\n",
              "              <dt>Version</dt>\n",
              "                <dd><code>v3.5.0</code></dd>\n",
              "              <dt>Master</dt>\n",
              "                <dd><code>local[1]</code></dd>\n",
              "              <dt>AppName</dt>\n",
              "                <dd><code>SparkByExamples.com</code></dd>\n",
              "            </dl>\n",
              "        </div>\n",
              "        \n",
              "            </div>\n",
              "        "
            ]
          },
          "metadata": {},
          "execution_count": 4
        }
      ]
    },
    {
      "cell_type": "markdown",
      "source": [
        "# 1.Read csv,json,excel,Parquet file in spark SQL"
      ],
      "metadata": {
        "id": "QkUVKBIMeaw3"
      }
    },
    {
      "cell_type": "code",
      "source": [
        "#Reading CSV File\n",
        "df = spark.read.csv(\"/content/drive/MyDrive/heart.csv\")\n",
        "df.printSchema()\n",
        "\n",
        "# #Reading JSON File\n",
        "# df1 = spark.read.json(\"\")\n",
        "# df1.printSchema()\n",
        "\n",
        "# #Reading Excel File\n",
        "import pandas as pd\n",
        "df2 = pd.read_excel('/content/drive/MyDrive/heart.xlsx', engine='openpyxl',dtype='float64')\n",
        "df2 = spark.createDataFrame(df2)\n",
        "df2.printSchema()\n",
        "\n",
        "# #Reading Parquet\n",
        "# df3= spark.read.parquet(\"\")\n",
        "# df3.printSchema()"
      ],
      "metadata": {
        "colab": {
          "base_uri": "https://localhost:8080/"
        },
        "id": "tMzvXFSveXkq",
        "outputId": "8f884dbc-ed70-4525-d320-eb86fe7cd8d2"
      },
      "execution_count": null,
      "outputs": [
        {
          "output_type": "stream",
          "name": "stdout",
          "text": [
            "root\n",
            " |-- _c0: string (nullable = true)\n",
            " |-- _c1: string (nullable = true)\n",
            " |-- _c2: string (nullable = true)\n",
            " |-- _c3: string (nullable = true)\n",
            " |-- _c4: string (nullable = true)\n",
            " |-- _c5: string (nullable = true)\n",
            " |-- _c6: string (nullable = true)\n",
            " |-- _c7: string (nullable = true)\n",
            " |-- _c8: string (nullable = true)\n",
            " |-- _c9: string (nullable = true)\n",
            " |-- _c10: string (nullable = true)\n",
            " |-- _c11: string (nullable = true)\n",
            " |-- _c12: string (nullable = true)\n",
            " |-- _c13: string (nullable = true)\n",
            "\n",
            "root\n",
            " |-- age: double (nullable = true)\n",
            " |-- sex: double (nullable = true)\n",
            " |-- cp: double (nullable = true)\n",
            " |-- trestbps: double (nullable = true)\n",
            " |-- chol: double (nullable = true)\n",
            " |-- fbs: double (nullable = true)\n",
            " |-- restecg: double (nullable = true)\n",
            " |-- thalach: double (nullable = true)\n",
            " |-- exang: double (nullable = true)\n",
            " |-- oldpeak: double (nullable = true)\n",
            " |-- slope: double (nullable = true)\n",
            " |-- ca: double (nullable = true)\n",
            " |-- thal: double (nullable = true)\n",
            " |-- target: double (nullable = true)\n",
            "\n"
          ]
        }
      ]
    },
    {
      "cell_type": "markdown",
      "source": [
        "# 2. Perform any 5 queries in spark SQL"
      ],
      "metadata": {
        "id": "LkZcMUNTfJSl"
      }
    },
    {
      "cell_type": "code",
      "source": [
        "df2.show()"
      ],
      "metadata": {
        "colab": {
          "base_uri": "https://localhost:8080/"
        },
        "id": "eGzg7NVkfGnT",
        "outputId": "e422daff-f27f-48e3-945f-653e20f7d7f0"
      },
      "execution_count": null,
      "outputs": [
        {
          "output_type": "stream",
          "name": "stdout",
          "text": [
            "+----+---+---+--------+-----+---+-------+-------+-----+-------+-----+---+----+------+\n",
            "| age|sex| cp|trestbps| chol|fbs|restecg|thalach|exang|oldpeak|slope| ca|thal|target|\n",
            "+----+---+---+--------+-----+---+-------+-------+-----+-------+-----+---+----+------+\n",
            "|52.0|1.0|0.0|   125.0|212.0|0.0|    1.0|  168.0|  0.0|    1.0|  2.0|2.0| 3.0|   0.0|\n",
            "|53.0|1.0|0.0|   140.0|203.0|1.0|    0.0|  155.0|  1.0|    3.1|  0.0|0.0| 3.0|   0.0|\n",
            "|70.0|1.0|0.0|   145.0|174.0|0.0|    1.0|  125.0|  1.0|    2.6|  0.0|0.0| 3.0|   0.0|\n",
            "|61.0|1.0|0.0|   148.0|203.0|0.0|    1.0|  161.0|  0.0|    0.0|  2.0|1.0| 3.0|   0.0|\n",
            "|62.0|0.0|0.0|   138.0|294.0|1.0|    1.0|  106.0|  0.0|    1.9|  1.0|3.0| 2.0|   0.0|\n",
            "|58.0|0.0|0.0|   100.0|248.0|0.0|    0.0|  122.0|  0.0|    1.0|  1.0|0.0| 2.0|   1.0|\n",
            "|58.0|1.0|0.0|   114.0|318.0|0.0|    2.0|  140.0|  0.0|    4.4|  0.0|3.0| 1.0|   0.0|\n",
            "|55.0|1.0|0.0|   160.0|289.0|0.0|    0.0|  145.0|  1.0|    0.8|  1.0|1.0| 3.0|   0.0|\n",
            "|46.0|1.0|0.0|   120.0|249.0|0.0|    0.0|  144.0|  0.0|    0.8|  2.0|0.0| 3.0|   0.0|\n",
            "|54.0|1.0|0.0|   122.0|286.0|0.0|    0.0|  116.0|  1.0|    3.2|  1.0|2.0| 2.0|   0.0|\n",
            "|71.0|0.0|0.0|   112.0|149.0|0.0|    1.0|  125.0|  0.0|    1.6|  1.0|0.0| 2.0|   1.0|\n",
            "|43.0|0.0|0.0|   132.0|341.0|1.0|    0.0|  136.0|  1.0|    3.0|  1.0|0.0| 3.0|   0.0|\n",
            "|34.0|0.0|1.0|   118.0|210.0|0.0|    1.0|  192.0|  0.0|    0.7|  2.0|0.0| 2.0|   1.0|\n",
            "|51.0|1.0|0.0|   140.0|298.0|0.0|    1.0|  122.0|  1.0|    4.2|  1.0|3.0| 3.0|   0.0|\n",
            "|52.0|1.0|0.0|   128.0|204.0|1.0|    1.0|  156.0|  1.0|    1.0|  1.0|0.0| 0.0|   0.0|\n",
            "|34.0|0.0|1.0|   118.0|210.0|0.0|    1.0|  192.0|  0.0|    0.7|  2.0|0.0| 2.0|   1.0|\n",
            "|51.0|0.0|2.0|   140.0|308.0|0.0|    0.0|  142.0|  0.0|    1.5|  2.0|1.0| 2.0|   1.0|\n",
            "|54.0|1.0|0.0|   124.0|266.0|0.0|    0.0|  109.0|  1.0|    2.2|  1.0|1.0| 3.0|   0.0|\n",
            "|50.0|0.0|1.0|   120.0|244.0|0.0|    1.0|  162.0|  0.0|    1.1|  2.0|0.0| 2.0|   1.0|\n",
            "|58.0|1.0|2.0|   140.0|211.0|1.0|    0.0|  165.0|  0.0|    0.0|  2.0|0.0| 2.0|   1.0|\n",
            "+----+---+---+--------+-----+---+-------+-------+-----+-------+-----+---+----+------+\n",
            "only showing top 20 rows\n",
            "\n"
          ]
        }
      ]
    },
    {
      "cell_type": "code",
      "source": [
        "#Map\n",
        "rdd2=df2.rdd.map(lambda x:\n",
        "    (x[1],x[2],x[3]*2)\n",
        "    )"
      ],
      "metadata": {
        "id": "GcLVM8axfdY3"
      },
      "execution_count": null,
      "outputs": []
    },
    {
      "cell_type": "code",
      "source": [
        "#Converte RDD to Data Frame\n",
        "data=rdd2.toDF([\"age\",\"bp\",\"sg\"]   )\n",
        "data.show()"
      ],
      "metadata": {
        "colab": {
          "base_uri": "https://localhost:8080/"
        },
        "id": "ch3LKuUAflAs",
        "outputId": "b30e1b5c-1f05-48fd-e8d6-2ac3fe3c58d5"
      },
      "execution_count": null,
      "outputs": [
        {
          "output_type": "stream",
          "name": "stdout",
          "text": [
            "+---+---+-----+\n",
            "|age| bp|   sg|\n",
            "+---+---+-----+\n",
            "|1.0|0.0|250.0|\n",
            "|1.0|0.0|280.0|\n",
            "|1.0|0.0|290.0|\n",
            "|1.0|0.0|296.0|\n",
            "|0.0|0.0|276.0|\n",
            "|0.0|0.0|200.0|\n",
            "|1.0|0.0|228.0|\n",
            "|1.0|0.0|320.0|\n",
            "|1.0|0.0|240.0|\n",
            "|1.0|0.0|244.0|\n",
            "|0.0|0.0|224.0|\n",
            "|0.0|0.0|264.0|\n",
            "|0.0|1.0|236.0|\n",
            "|1.0|0.0|280.0|\n",
            "|1.0|0.0|256.0|\n",
            "|0.0|1.0|236.0|\n",
            "|0.0|2.0|280.0|\n",
            "|1.0|0.0|248.0|\n",
            "|0.0|1.0|240.0|\n",
            "|1.0|2.0|280.0|\n",
            "+---+---+-----+\n",
            "only showing top 20 rows\n",
            "\n"
          ]
        }
      ]
    },
    {
      "cell_type": "code",
      "source": [
        "#Group By\n",
        "df2.groupBy(\"chol\").count().show(truncate=False)"
      ],
      "metadata": {
        "colab": {
          "base_uri": "https://localhost:8080/"
        },
        "id": "O_wWtywVgD1p",
        "outputId": "e279ecb6-feb6-4605-a8a4-9e11b11d7e16"
      },
      "execution_count": null,
      "outputs": [
        {
          "output_type": "stream",
          "name": "stdout",
          "text": [
            "+-----+-----+\n",
            "|chol |count|\n",
            "+-----+-----+\n",
            "|299.0|7    |\n",
            "|305.0|3    |\n",
            "|184.0|3    |\n",
            "|169.0|4    |\n",
            "|160.0|3    |\n",
            "|311.0|4    |\n",
            "|168.0|3    |\n",
            "|206.0|8    |\n",
            "|249.0|11   |\n",
            "|232.0|7    |\n",
            "|303.0|9    |\n",
            "|253.0|7    |\n",
            "|201.0|9    |\n",
            "|235.0|6    |\n",
            "|353.0|4    |\n",
            "|180.0|4    |\n",
            "|271.0|6    |\n",
            "|255.0|6    |\n",
            "|234.0|21   |\n",
            "|286.0|8    |\n",
            "+-----+-----+\n",
            "only showing top 20 rows\n",
            "\n"
          ]
        }
      ]
    },
    {
      "cell_type": "code",
      "source": [
        "#Select\n",
        "from pyspark.sql.functions import col\n",
        "df2.select(col(\"chol\"),col(\"age\")).show()"
      ],
      "metadata": {
        "colab": {
          "base_uri": "https://localhost:8080/"
        },
        "id": "rkJnsmOJgI09",
        "outputId": "3a6a5a21-8453-4a2e-dc67-8aefd871cdec"
      },
      "execution_count": null,
      "outputs": [
        {
          "output_type": "stream",
          "name": "stdout",
          "text": [
            "+-----+----+\n",
            "| chol| age|\n",
            "+-----+----+\n",
            "|212.0|52.0|\n",
            "|203.0|53.0|\n",
            "|174.0|70.0|\n",
            "|203.0|61.0|\n",
            "|294.0|62.0|\n",
            "|248.0|58.0|\n",
            "|318.0|58.0|\n",
            "|289.0|55.0|\n",
            "|249.0|46.0|\n",
            "|286.0|54.0|\n",
            "|149.0|71.0|\n",
            "|341.0|43.0|\n",
            "|210.0|34.0|\n",
            "|298.0|51.0|\n",
            "|204.0|52.0|\n",
            "|210.0|34.0|\n",
            "|308.0|51.0|\n",
            "|266.0|54.0|\n",
            "|244.0|50.0|\n",
            "|211.0|58.0|\n",
            "+-----+----+\n",
            "only showing top 20 rows\n",
            "\n"
          ]
        }
      ]
    },
    {
      "cell_type": "code",
      "source": [
        "#Collect\n",
        "dataCollect = df2.collect()\n",
        "print(dataCollect)"
      ],
      "metadata": {
        "colab": {
          "base_uri": "https://localhost:8080/"
        },
        "id": "66zCzvlogSOO",
        "outputId": "b4a3a4c3-caae-4115-a869-ff51b7225496"
      },
      "execution_count": null,
      "outputs": [
        {
          "output_type": "stream",
          "name": "stdout",
          "text": [
            "[Row(age=52.0, sex=1.0, cp=0.0, trestbps=125.0, chol=212.0, fbs=0.0, restecg=1.0, thalach=168.0, exang=0.0, oldpeak=1.0, slope=2.0, ca=2.0, thal=3.0, target=0.0), Row(age=53.0, sex=1.0, cp=0.0, trestbps=140.0, chol=203.0, fbs=1.0, restecg=0.0, thalach=155.0, exang=1.0, oldpeak=3.1, slope=0.0, ca=0.0, thal=3.0, target=0.0), Row(age=70.0, sex=1.0, cp=0.0, trestbps=145.0, chol=174.0, fbs=0.0, restecg=1.0, thalach=125.0, exang=1.0, oldpeak=2.6, slope=0.0, ca=0.0, thal=3.0, target=0.0), Row(age=61.0, sex=1.0, cp=0.0, trestbps=148.0, chol=203.0, fbs=0.0, restecg=1.0, thalach=161.0, exang=0.0, oldpeak=0.0, slope=2.0, ca=1.0, thal=3.0, target=0.0), Row(age=62.0, sex=0.0, cp=0.0, trestbps=138.0, chol=294.0, fbs=1.0, restecg=1.0, thalach=106.0, exang=0.0, oldpeak=1.9, slope=1.0, ca=3.0, thal=2.0, target=0.0), Row(age=58.0, sex=0.0, cp=0.0, trestbps=100.0, chol=248.0, fbs=0.0, restecg=0.0, thalach=122.0, exang=0.0, oldpeak=1.0, slope=1.0, ca=0.0, thal=2.0, target=1.0), Row(age=58.0, sex=1.0, cp=0.0, trestbps=114.0, chol=318.0, fbs=0.0, restecg=2.0, thalach=140.0, exang=0.0, oldpeak=4.4, slope=0.0, ca=3.0, thal=1.0, target=0.0), Row(age=55.0, sex=1.0, cp=0.0, trestbps=160.0, chol=289.0, fbs=0.0, restecg=0.0, thalach=145.0, exang=1.0, oldpeak=0.8, slope=1.0, ca=1.0, thal=3.0, target=0.0), Row(age=46.0, sex=1.0, cp=0.0, trestbps=120.0, chol=249.0, fbs=0.0, restecg=0.0, thalach=144.0, exang=0.0, oldpeak=0.8, slope=2.0, ca=0.0, thal=3.0, target=0.0), Row(age=54.0, sex=1.0, cp=0.0, trestbps=122.0, chol=286.0, fbs=0.0, restecg=0.0, thalach=116.0, exang=1.0, oldpeak=3.2, slope=1.0, ca=2.0, thal=2.0, target=0.0), Row(age=71.0, sex=0.0, cp=0.0, trestbps=112.0, chol=149.0, fbs=0.0, restecg=1.0, thalach=125.0, exang=0.0, oldpeak=1.6, slope=1.0, ca=0.0, thal=2.0, target=1.0), Row(age=43.0, sex=0.0, cp=0.0, trestbps=132.0, chol=341.0, fbs=1.0, restecg=0.0, thalach=136.0, exang=1.0, oldpeak=3.0, slope=1.0, ca=0.0, thal=3.0, target=0.0), Row(age=34.0, sex=0.0, cp=1.0, trestbps=118.0, chol=210.0, fbs=0.0, restecg=1.0, thalach=192.0, exang=0.0, oldpeak=0.7, slope=2.0, ca=0.0, thal=2.0, target=1.0), Row(age=51.0, sex=1.0, cp=0.0, trestbps=140.0, chol=298.0, fbs=0.0, restecg=1.0, thalach=122.0, exang=1.0, oldpeak=4.2, slope=1.0, ca=3.0, thal=3.0, target=0.0), Row(age=52.0, sex=1.0, cp=0.0, trestbps=128.0, chol=204.0, fbs=1.0, restecg=1.0, thalach=156.0, exang=1.0, oldpeak=1.0, slope=1.0, ca=0.0, thal=0.0, target=0.0), Row(age=34.0, sex=0.0, cp=1.0, trestbps=118.0, chol=210.0, fbs=0.0, restecg=1.0, thalach=192.0, exang=0.0, oldpeak=0.7, slope=2.0, ca=0.0, thal=2.0, target=1.0), Row(age=51.0, sex=0.0, cp=2.0, trestbps=140.0, chol=308.0, fbs=0.0, restecg=0.0, thalach=142.0, exang=0.0, oldpeak=1.5, slope=2.0, ca=1.0, thal=2.0, target=1.0), Row(age=54.0, sex=1.0, cp=0.0, trestbps=124.0, chol=266.0, fbs=0.0, restecg=0.0, thalach=109.0, exang=1.0, oldpeak=2.2, slope=1.0, ca=1.0, thal=3.0, target=0.0), Row(age=50.0, sex=0.0, cp=1.0, trestbps=120.0, chol=244.0, fbs=0.0, restecg=1.0, thalach=162.0, exang=0.0, oldpeak=1.1, slope=2.0, ca=0.0, thal=2.0, target=1.0), Row(age=58.0, sex=1.0, cp=2.0, trestbps=140.0, chol=211.0, fbs=1.0, restecg=0.0, thalach=165.0, exang=0.0, oldpeak=0.0, slope=2.0, ca=0.0, thal=2.0, target=1.0), Row(age=60.0, sex=1.0, cp=2.0, trestbps=140.0, chol=185.0, fbs=0.0, restecg=0.0, thalach=155.0, exang=0.0, oldpeak=3.0, slope=1.0, ca=0.0, thal=2.0, target=0.0), Row(age=67.0, sex=0.0, cp=0.0, trestbps=106.0, chol=223.0, fbs=0.0, restecg=1.0, thalach=142.0, exang=0.0, oldpeak=0.3, slope=2.0, ca=2.0, thal=2.0, target=1.0), Row(age=45.0, sex=1.0, cp=0.0, trestbps=104.0, chol=208.0, fbs=0.0, restecg=0.0, thalach=148.0, exang=1.0, oldpeak=3.0, slope=1.0, ca=0.0, thal=2.0, target=1.0), Row(age=63.0, sex=0.0, cp=2.0, trestbps=135.0, chol=252.0, fbs=0.0, restecg=0.0, thalach=172.0, exang=0.0, oldpeak=0.0, slope=2.0, ca=0.0, thal=2.0, target=1.0), Row(age=42.0, sex=0.0, cp=2.0, trestbps=120.0, chol=209.0, fbs=0.0, restecg=1.0, thalach=173.0, exang=0.0, oldpeak=0.0, slope=1.0, ca=0.0, thal=2.0, target=1.0), Row(age=61.0, sex=0.0, cp=0.0, trestbps=145.0, chol=307.0, fbs=0.0, restecg=0.0, thalach=146.0, exang=1.0, oldpeak=1.0, slope=1.0, ca=0.0, thal=3.0, target=0.0), Row(age=44.0, sex=1.0, cp=2.0, trestbps=130.0, chol=233.0, fbs=0.0, restecg=1.0, thalach=179.0, exang=1.0, oldpeak=0.4, slope=2.0, ca=0.0, thal=2.0, target=1.0), Row(age=58.0, sex=0.0, cp=1.0, trestbps=136.0, chol=319.0, fbs=1.0, restecg=0.0, thalach=152.0, exang=0.0, oldpeak=0.0, slope=2.0, ca=2.0, thal=2.0, target=0.0), Row(age=56.0, sex=1.0, cp=2.0, trestbps=130.0, chol=256.0, fbs=1.0, restecg=0.0, thalach=142.0, exang=1.0, oldpeak=0.6, slope=1.0, ca=1.0, thal=1.0, target=0.0), Row(age=55.0, sex=0.0, cp=0.0, trestbps=180.0, chol=327.0, fbs=0.0, restecg=2.0, thalach=117.0, exang=1.0, oldpeak=3.4, slope=1.0, ca=0.0, thal=2.0, target=0.0), Row(age=44.0, sex=1.0, cp=0.0, trestbps=120.0, chol=169.0, fbs=0.0, restecg=1.0, thalach=144.0, exang=1.0, oldpeak=2.8, slope=0.0, ca=0.0, thal=1.0, target=0.0), Row(age=50.0, sex=0.0, cp=1.0, trestbps=120.0, chol=244.0, fbs=0.0, restecg=1.0, thalach=162.0, exang=0.0, oldpeak=1.1, slope=2.0, ca=0.0, thal=2.0, target=1.0), Row(age=57.0, sex=1.0, cp=0.0, trestbps=130.0, chol=131.0, fbs=0.0, restecg=1.0, thalach=115.0, exang=1.0, oldpeak=1.2, slope=1.0, ca=1.0, thal=3.0, target=0.0), Row(age=70.0, sex=1.0, cp=2.0, trestbps=160.0, chol=269.0, fbs=0.0, restecg=1.0, thalach=112.0, exang=1.0, oldpeak=2.9, slope=1.0, ca=1.0, thal=3.0, target=0.0), Row(age=50.0, sex=1.0, cp=2.0, trestbps=129.0, chol=196.0, fbs=0.0, restecg=1.0, thalach=163.0, exang=0.0, oldpeak=0.0, slope=2.0, ca=0.0, thal=2.0, target=1.0), Row(age=46.0, sex=1.0, cp=2.0, trestbps=150.0, chol=231.0, fbs=0.0, restecg=1.0, thalach=147.0, exang=0.0, oldpeak=3.6, slope=1.0, ca=0.0, thal=2.0, target=0.0), Row(age=51.0, sex=1.0, cp=3.0, trestbps=125.0, chol=213.0, fbs=0.0, restecg=0.0, thalach=125.0, exang=1.0, oldpeak=1.4, slope=2.0, ca=1.0, thal=2.0, target=1.0), Row(age=59.0, sex=1.0, cp=0.0, trestbps=138.0, chol=271.0, fbs=0.0, restecg=0.0, thalach=182.0, exang=0.0, oldpeak=0.0, slope=2.0, ca=0.0, thal=2.0, target=1.0), Row(age=64.0, sex=1.0, cp=0.0, trestbps=128.0, chol=263.0, fbs=0.0, restecg=1.0, thalach=105.0, exang=1.0, oldpeak=0.2, slope=1.0, ca=1.0, thal=3.0, target=1.0), Row(age=57.0, sex=1.0, cp=2.0, trestbps=128.0, chol=229.0, fbs=0.0, restecg=0.0, thalach=150.0, exang=0.0, oldpeak=0.4, slope=1.0, ca=1.0, thal=3.0, target=0.0), Row(age=65.0, sex=0.0, cp=2.0, trestbps=160.0, chol=360.0, fbs=0.0, restecg=0.0, thalach=151.0, exang=0.0, oldpeak=0.8, slope=2.0, ca=0.0, thal=2.0, target=1.0), Row(age=54.0, sex=1.0, cp=2.0, trestbps=120.0, chol=258.0, fbs=0.0, restecg=0.0, thalach=147.0, exang=0.0, oldpeak=0.4, slope=1.0, ca=0.0, thal=3.0, target=1.0), Row(age=61.0, sex=0.0, cp=0.0, trestbps=130.0, chol=330.0, fbs=0.0, restecg=0.0, thalach=169.0, exang=0.0, oldpeak=0.0, slope=2.0, ca=0.0, thal=2.0, target=0.0), Row(age=46.0, sex=1.0, cp=0.0, trestbps=120.0, chol=249.0, fbs=0.0, restecg=0.0, thalach=144.0, exang=0.0, oldpeak=0.8, slope=2.0, ca=0.0, thal=3.0, target=0.0), Row(age=55.0, sex=0.0, cp=1.0, trestbps=132.0, chol=342.0, fbs=0.0, restecg=1.0, thalach=166.0, exang=0.0, oldpeak=1.2, slope=2.0, ca=0.0, thal=2.0, target=1.0), Row(age=42.0, sex=1.0, cp=0.0, trestbps=140.0, chol=226.0, fbs=0.0, restecg=1.0, thalach=178.0, exang=0.0, oldpeak=0.0, slope=2.0, ca=0.0, thal=2.0, target=1.0), Row(age=41.0, sex=1.0, cp=1.0, trestbps=135.0, chol=203.0, fbs=0.0, restecg=1.0, thalach=132.0, exang=0.0, oldpeak=0.0, slope=1.0, ca=0.0, thal=1.0, target=1.0), Row(age=66.0, sex=0.0, cp=0.0, trestbps=178.0, chol=228.0, fbs=1.0, restecg=1.0, thalach=165.0, exang=1.0, oldpeak=1.0, slope=1.0, ca=2.0, thal=3.0, target=0.0), Row(age=66.0, sex=0.0, cp=2.0, trestbps=146.0, chol=278.0, fbs=0.0, restecg=0.0, thalach=152.0, exang=0.0, oldpeak=0.0, slope=1.0, ca=1.0, thal=2.0, target=1.0), Row(age=60.0, sex=1.0, cp=0.0, trestbps=117.0, chol=230.0, fbs=1.0, restecg=1.0, thalach=160.0, exang=1.0, oldpeak=1.4, slope=2.0, ca=2.0, thal=3.0, target=0.0), Row(age=58.0, sex=0.0, cp=3.0, trestbps=150.0, chol=283.0, fbs=1.0, restecg=0.0, thalach=162.0, exang=0.0, oldpeak=1.0, slope=2.0, ca=0.0, thal=2.0, target=1.0), Row(age=57.0, sex=0.0, cp=0.0, trestbps=140.0, chol=241.0, fbs=0.0, restecg=1.0, thalach=123.0, exang=1.0, oldpeak=0.2, slope=1.0, ca=0.0, thal=3.0, target=0.0), Row(age=38.0, sex=1.0, cp=2.0, trestbps=138.0, chol=175.0, fbs=0.0, restecg=1.0, thalach=173.0, exang=0.0, oldpeak=0.0, slope=2.0, ca=4.0, thal=2.0, target=1.0), Row(age=49.0, sex=1.0, cp=2.0, trestbps=120.0, chol=188.0, fbs=0.0, restecg=1.0, thalach=139.0, exang=0.0, oldpeak=2.0, slope=1.0, ca=3.0, thal=3.0, target=0.0), Row(age=55.0, sex=1.0, cp=0.0, trestbps=140.0, chol=217.0, fbs=0.0, restecg=1.0, thalach=111.0, exang=1.0, oldpeak=5.6, slope=0.0, ca=0.0, thal=3.0, target=0.0), Row(age=55.0, sex=1.0, cp=0.0, trestbps=140.0, chol=217.0, fbs=0.0, restecg=1.0, thalach=111.0, exang=1.0, oldpeak=5.6, slope=0.0, ca=0.0, thal=3.0, target=0.0), Row(age=56.0, sex=1.0, cp=3.0, trestbps=120.0, chol=193.0, fbs=0.0, restecg=0.0, thalach=162.0, exang=0.0, oldpeak=1.9, slope=1.0, ca=0.0, thal=3.0, target=1.0), Row(age=48.0, sex=1.0, cp=1.0, trestbps=130.0, chol=245.0, fbs=0.0, restecg=0.0, thalach=180.0, exang=0.0, oldpeak=0.2, slope=1.0, ca=0.0, thal=2.0, target=1.0), Row(age=67.0, sex=1.0, cp=2.0, trestbps=152.0, chol=212.0, fbs=0.0, restecg=0.0, thalach=150.0, exang=0.0, oldpeak=0.8, slope=1.0, ca=0.0, thal=3.0, target=0.0), Row(age=57.0, sex=1.0, cp=1.0, trestbps=154.0, chol=232.0, fbs=0.0, restecg=0.0, thalach=164.0, exang=0.0, oldpeak=0.0, slope=2.0, ca=1.0, thal=2.0, target=0.0), Row(age=29.0, sex=1.0, cp=1.0, trestbps=130.0, chol=204.0, fbs=0.0, restecg=0.0, thalach=202.0, exang=0.0, oldpeak=0.0, slope=2.0, ca=0.0, thal=2.0, target=1.0), Row(age=66.0, sex=0.0, cp=2.0, trestbps=146.0, chol=278.0, fbs=0.0, restecg=0.0, thalach=152.0, exang=0.0, oldpeak=0.0, slope=1.0, ca=1.0, thal=2.0, target=1.0), Row(age=67.0, sex=1.0, cp=0.0, trestbps=100.0, chol=299.0, fbs=0.0, restecg=0.0, thalach=125.0, exang=1.0, oldpeak=0.9, slope=1.0, ca=2.0, thal=2.0, target=0.0), Row(age=59.0, sex=1.0, cp=2.0, trestbps=150.0, chol=212.0, fbs=1.0, restecg=1.0, thalach=157.0, exang=0.0, oldpeak=1.6, slope=2.0, ca=0.0, thal=2.0, target=1.0), Row(age=29.0, sex=1.0, cp=1.0, trestbps=130.0, chol=204.0, fbs=0.0, restecg=0.0, thalach=202.0, exang=0.0, oldpeak=0.0, slope=2.0, ca=0.0, thal=2.0, target=1.0), Row(age=59.0, sex=1.0, cp=3.0, trestbps=170.0, chol=288.0, fbs=0.0, restecg=0.0, thalach=159.0, exang=0.0, oldpeak=0.2, slope=1.0, ca=0.0, thal=3.0, target=0.0), Row(age=53.0, sex=1.0, cp=2.0, trestbps=130.0, chol=197.0, fbs=1.0, restecg=0.0, thalach=152.0, exang=0.0, oldpeak=1.2, slope=0.0, ca=0.0, thal=2.0, target=1.0), Row(age=42.0, sex=1.0, cp=0.0, trestbps=136.0, chol=315.0, fbs=0.0, restecg=1.0, thalach=125.0, exang=1.0, oldpeak=1.8, slope=1.0, ca=0.0, thal=1.0, target=0.0), Row(age=37.0, sex=0.0, cp=2.0, trestbps=120.0, chol=215.0, fbs=0.0, restecg=1.0, thalach=170.0, exang=0.0, oldpeak=0.0, slope=2.0, ca=0.0, thal=2.0, target=1.0), Row(age=62.0, sex=0.0, cp=0.0, trestbps=160.0, chol=164.0, fbs=0.0, restecg=0.0, thalach=145.0, exang=0.0, oldpeak=6.2, slope=0.0, ca=3.0, thal=3.0, target=0.0), Row(age=59.0, sex=1.0, cp=0.0, trestbps=170.0, chol=326.0, fbs=0.0, restecg=0.0, thalach=140.0, exang=1.0, oldpeak=3.4, slope=0.0, ca=0.0, thal=3.0, target=0.0), Row(age=61.0, sex=1.0, cp=0.0, trestbps=140.0, chol=207.0, fbs=0.0, restecg=0.0, thalach=138.0, exang=1.0, oldpeak=1.9, slope=2.0, ca=1.0, thal=3.0, target=0.0), Row(age=56.0, sex=1.0, cp=0.0, trestbps=125.0, chol=249.0, fbs=1.0, restecg=0.0, thalach=144.0, exang=1.0, oldpeak=1.2, slope=1.0, ca=1.0, thal=2.0, target=0.0), Row(age=59.0, sex=1.0, cp=0.0, trestbps=140.0, chol=177.0, fbs=0.0, restecg=1.0, thalach=162.0, exang=1.0, oldpeak=0.0, slope=2.0, ca=1.0, thal=3.0, target=0.0), Row(age=48.0, sex=1.0, cp=0.0, trestbps=130.0, chol=256.0, fbs=1.0, restecg=0.0, thalach=150.0, exang=1.0, oldpeak=0.0, slope=2.0, ca=2.0, thal=3.0, target=0.0), Row(age=47.0, sex=1.0, cp=2.0, trestbps=138.0, chol=257.0, fbs=0.0, restecg=0.0, thalach=156.0, exang=0.0, oldpeak=0.0, slope=2.0, ca=0.0, thal=2.0, target=1.0), Row(age=48.0, sex=1.0, cp=2.0, trestbps=124.0, chol=255.0, fbs=1.0, restecg=1.0, thalach=175.0, exang=0.0, oldpeak=0.0, slope=2.0, ca=2.0, thal=2.0, target=1.0), Row(age=63.0, sex=1.0, cp=0.0, trestbps=140.0, chol=187.0, fbs=0.0, restecg=0.0, thalach=144.0, exang=1.0, oldpeak=4.0, slope=2.0, ca=2.0, thal=3.0, target=0.0), Row(age=52.0, sex=1.0, cp=1.0, trestbps=134.0, chol=201.0, fbs=0.0, restecg=1.0, thalach=158.0, exang=0.0, oldpeak=0.8, slope=2.0, ca=1.0, thal=2.0, target=1.0), Row(age=52.0, sex=1.0, cp=1.0, trestbps=134.0, chol=201.0, fbs=0.0, restecg=1.0, thalach=158.0, exang=0.0, oldpeak=0.8, slope=2.0, ca=1.0, thal=2.0, target=1.0), Row(age=50.0, sex=1.0, cp=2.0, trestbps=140.0, chol=233.0, fbs=0.0, restecg=1.0, thalach=163.0, exang=0.0, oldpeak=0.6, slope=1.0, ca=1.0, thal=3.0, target=0.0), Row(age=49.0, sex=1.0, cp=2.0, trestbps=118.0, chol=149.0, fbs=0.0, restecg=0.0, thalach=126.0, exang=0.0, oldpeak=0.8, slope=2.0, ca=3.0, thal=2.0, target=0.0), Row(age=46.0, sex=1.0, cp=2.0, trestbps=150.0, chol=231.0, fbs=0.0, restecg=1.0, thalach=147.0, exang=0.0, oldpeak=3.6, slope=1.0, ca=0.0, thal=2.0, target=0.0), Row(age=38.0, sex=1.0, cp=2.0, trestbps=138.0, chol=175.0, fbs=0.0, restecg=1.0, thalach=173.0, exang=0.0, oldpeak=0.0, slope=2.0, ca=4.0, thal=2.0, target=1.0), Row(age=37.0, sex=0.0, cp=2.0, trestbps=120.0, chol=215.0, fbs=0.0, restecg=1.0, thalach=170.0, exang=0.0, oldpeak=0.0, slope=2.0, ca=0.0, thal=2.0, target=1.0), Row(age=44.0, sex=1.0, cp=1.0, trestbps=120.0, chol=220.0, fbs=0.0, restecg=1.0, thalach=170.0, exang=0.0, oldpeak=0.0, slope=2.0, ca=0.0, thal=2.0, target=1.0), Row(age=58.0, sex=1.0, cp=2.0, trestbps=140.0, chol=211.0, fbs=1.0, restecg=0.0, thalach=165.0, exang=0.0, oldpeak=0.0, slope=2.0, ca=0.0, thal=2.0, target=1.0), Row(age=59.0, sex=0.0, cp=0.0, trestbps=174.0, chol=249.0, fbs=0.0, restecg=1.0, thalach=143.0, exang=1.0, oldpeak=0.0, slope=1.0, ca=0.0, thal=2.0, target=0.0), Row(age=62.0, sex=0.0, cp=0.0, trestbps=140.0, chol=268.0, fbs=0.0, restecg=0.0, thalach=160.0, exang=0.0, oldpeak=3.6, slope=0.0, ca=2.0, thal=2.0, target=0.0), Row(age=68.0, sex=1.0, cp=0.0, trestbps=144.0, chol=193.0, fbs=1.0, restecg=1.0, thalach=141.0, exang=0.0, oldpeak=3.4, slope=1.0, ca=2.0, thal=3.0, target=0.0), Row(age=54.0, sex=0.0, cp=2.0, trestbps=108.0, chol=267.0, fbs=0.0, restecg=0.0, thalach=167.0, exang=0.0, oldpeak=0.0, slope=2.0, ca=0.0, thal=2.0, target=1.0), Row(age=62.0, sex=0.0, cp=0.0, trestbps=124.0, chol=209.0, fbs=0.0, restecg=1.0, thalach=163.0, exang=0.0, oldpeak=0.0, slope=2.0, ca=0.0, thal=2.0, target=1.0), Row(age=63.0, sex=1.0, cp=0.0, trestbps=140.0, chol=187.0, fbs=0.0, restecg=0.0, thalach=144.0, exang=1.0, oldpeak=4.0, slope=2.0, ca=2.0, thal=3.0, target=0.0), Row(age=44.0, sex=1.0, cp=0.0, trestbps=120.0, chol=169.0, fbs=0.0, restecg=1.0, thalach=144.0, exang=1.0, oldpeak=2.8, slope=0.0, ca=0.0, thal=1.0, target=0.0), Row(age=62.0, sex=1.0, cp=1.0, trestbps=128.0, chol=208.0, fbs=1.0, restecg=0.0, thalach=140.0, exang=0.0, oldpeak=0.0, slope=2.0, ca=0.0, thal=2.0, target=1.0), Row(age=45.0, sex=0.0, cp=0.0, trestbps=138.0, chol=236.0, fbs=0.0, restecg=0.0, thalach=152.0, exang=1.0, oldpeak=0.2, slope=1.0, ca=0.0, thal=2.0, target=1.0), Row(age=57.0, sex=0.0, cp=0.0, trestbps=128.0, chol=303.0, fbs=0.0, restecg=0.0, thalach=159.0, exang=0.0, oldpeak=0.0, slope=2.0, ca=1.0, thal=2.0, target=1.0), Row(age=53.0, sex=1.0, cp=0.0, trestbps=123.0, chol=282.0, fbs=0.0, restecg=1.0, thalach=95.0, exang=1.0, oldpeak=2.0, slope=1.0, ca=2.0, thal=3.0, target=0.0), Row(age=65.0, sex=1.0, cp=0.0, trestbps=110.0, chol=248.0, fbs=0.0, restecg=0.0, thalach=158.0, exang=0.0, oldpeak=0.6, slope=2.0, ca=2.0, thal=1.0, target=0.0), Row(age=76.0, sex=0.0, cp=2.0, trestbps=140.0, chol=197.0, fbs=0.0, restecg=2.0, thalach=116.0, exang=0.0, oldpeak=1.1, slope=1.0, ca=0.0, thal=2.0, target=1.0), Row(age=43.0, sex=0.0, cp=2.0, trestbps=122.0, chol=213.0, fbs=0.0, restecg=1.0, thalach=165.0, exang=0.0, oldpeak=0.2, slope=1.0, ca=0.0, thal=2.0, target=1.0), Row(age=57.0, sex=1.0, cp=2.0, trestbps=150.0, chol=126.0, fbs=1.0, restecg=1.0, thalach=173.0, exang=0.0, oldpeak=0.2, slope=2.0, ca=1.0, thal=3.0, target=1.0), Row(age=54.0, sex=1.0, cp=1.0, trestbps=108.0, chol=309.0, fbs=0.0, restecg=1.0, thalach=156.0, exang=0.0, oldpeak=0.0, slope=2.0, ca=0.0, thal=3.0, target=1.0), Row(age=47.0, sex=1.0, cp=2.0, trestbps=138.0, chol=257.0, fbs=0.0, restecg=0.0, thalach=156.0, exang=0.0, oldpeak=0.0, slope=2.0, ca=0.0, thal=2.0, target=1.0), Row(age=52.0, sex=1.0, cp=3.0, trestbps=118.0, chol=186.0, fbs=0.0, restecg=0.0, thalach=190.0, exang=0.0, oldpeak=0.0, slope=1.0, ca=0.0, thal=1.0, target=1.0), Row(age=47.0, sex=1.0, cp=0.0, trestbps=110.0, chol=275.0, fbs=0.0, restecg=0.0, thalach=118.0, exang=1.0, oldpeak=1.0, slope=1.0, ca=1.0, thal=2.0, target=0.0), Row(age=51.0, sex=1.0, cp=0.0, trestbps=140.0, chol=299.0, fbs=0.0, restecg=1.0, thalach=173.0, exang=1.0, oldpeak=1.6, slope=2.0, ca=0.0, thal=3.0, target=0.0), Row(age=62.0, sex=1.0, cp=1.0, trestbps=120.0, chol=281.0, fbs=0.0, restecg=0.0, thalach=103.0, exang=0.0, oldpeak=1.4, slope=1.0, ca=1.0, thal=3.0, target=0.0), Row(age=40.0, sex=1.0, cp=0.0, trestbps=152.0, chol=223.0, fbs=0.0, restecg=1.0, thalach=181.0, exang=0.0, oldpeak=0.0, slope=2.0, ca=0.0, thal=3.0, target=0.0), Row(age=54.0, sex=1.0, cp=0.0, trestbps=110.0, chol=206.0, fbs=0.0, restecg=0.0, thalach=108.0, exang=1.0, oldpeak=0.0, slope=1.0, ca=1.0, thal=2.0, target=0.0), Row(age=44.0, sex=1.0, cp=0.0, trestbps=110.0, chol=197.0, fbs=0.0, restecg=0.0, thalach=177.0, exang=0.0, oldpeak=0.0, slope=2.0, ca=1.0, thal=2.0, target=0.0), Row(age=53.0, sex=1.0, cp=0.0, trestbps=142.0, chol=226.0, fbs=0.0, restecg=0.0, thalach=111.0, exang=1.0, oldpeak=0.0, slope=2.0, ca=0.0, thal=3.0, target=1.0), Row(age=48.0, sex=1.0, cp=0.0, trestbps=130.0, chol=256.0, fbs=1.0, restecg=0.0, thalach=150.0, exang=1.0, oldpeak=0.0, slope=2.0, ca=2.0, thal=3.0, target=0.0), Row(age=57.0, sex=1.0, cp=0.0, trestbps=110.0, chol=335.0, fbs=0.0, restecg=1.0, thalach=143.0, exang=1.0, oldpeak=3.0, slope=1.0, ca=1.0, thal=3.0, target=0.0), Row(age=59.0, sex=1.0, cp=2.0, trestbps=126.0, chol=218.0, fbs=1.0, restecg=1.0, thalach=134.0, exang=0.0, oldpeak=2.2, slope=1.0, ca=1.0, thal=1.0, target=0.0), Row(age=61.0, sex=0.0, cp=0.0, trestbps=145.0, chol=307.0, fbs=0.0, restecg=0.0, thalach=146.0, exang=1.0, oldpeak=1.0, slope=1.0, ca=0.0, thal=3.0, target=0.0), Row(age=63.0, sex=1.0, cp=0.0, trestbps=130.0, chol=254.0, fbs=0.0, restecg=0.0, thalach=147.0, exang=0.0, oldpeak=1.4, slope=1.0, ca=1.0, thal=3.0, target=0.0), Row(age=43.0, sex=1.0, cp=0.0, trestbps=120.0, chol=177.0, fbs=0.0, restecg=0.0, thalach=120.0, exang=1.0, oldpeak=2.5, slope=1.0, ca=0.0, thal=3.0, target=0.0), Row(age=29.0, sex=1.0, cp=1.0, trestbps=130.0, chol=204.0, fbs=0.0, restecg=0.0, thalach=202.0, exang=0.0, oldpeak=0.0, slope=2.0, ca=0.0, thal=2.0, target=1.0), Row(age=42.0, sex=1.0, cp=1.0, trestbps=120.0, chol=295.0, fbs=0.0, restecg=1.0, thalach=162.0, exang=0.0, oldpeak=0.0, slope=2.0, ca=0.0, thal=2.0, target=1.0), Row(age=54.0, sex=1.0, cp=1.0, trestbps=108.0, chol=309.0, fbs=0.0, restecg=1.0, thalach=156.0, exang=0.0, oldpeak=0.0, slope=2.0, ca=0.0, thal=3.0, target=1.0), Row(age=44.0, sex=1.0, cp=0.0, trestbps=120.0, chol=169.0, fbs=0.0, restecg=1.0, thalach=144.0, exang=1.0, oldpeak=2.8, slope=0.0, ca=0.0, thal=1.0, target=0.0), Row(age=60.0, sex=1.0, cp=0.0, trestbps=145.0, chol=282.0, fbs=0.0, restecg=0.0, thalach=142.0, exang=1.0, oldpeak=2.8, slope=1.0, ca=2.0, thal=3.0, target=0.0), Row(age=65.0, sex=0.0, cp=2.0, trestbps=140.0, chol=417.0, fbs=1.0, restecg=0.0, thalach=157.0, exang=0.0, oldpeak=0.8, slope=2.0, ca=1.0, thal=2.0, target=1.0), Row(age=61.0, sex=1.0, cp=0.0, trestbps=120.0, chol=260.0, fbs=0.0, restecg=1.0, thalach=140.0, exang=1.0, oldpeak=3.6, slope=1.0, ca=1.0, thal=3.0, target=0.0), Row(age=60.0, sex=0.0, cp=3.0, trestbps=150.0, chol=240.0, fbs=0.0, restecg=1.0, thalach=171.0, exang=0.0, oldpeak=0.9, slope=2.0, ca=0.0, thal=2.0, target=1.0), Row(age=66.0, sex=1.0, cp=0.0, trestbps=120.0, chol=302.0, fbs=0.0, restecg=0.0, thalach=151.0, exang=0.0, oldpeak=0.4, slope=1.0, ca=0.0, thal=2.0, target=1.0), Row(age=53.0, sex=1.0, cp=2.0, trestbps=130.0, chol=197.0, fbs=1.0, restecg=0.0, thalach=152.0, exang=0.0, oldpeak=1.2, slope=0.0, ca=0.0, thal=2.0, target=1.0), Row(age=52.0, sex=1.0, cp=2.0, trestbps=138.0, chol=223.0, fbs=0.0, restecg=1.0, thalach=169.0, exang=0.0, oldpeak=0.0, slope=2.0, ca=4.0, thal=2.0, target=1.0), Row(age=57.0, sex=1.0, cp=0.0, trestbps=140.0, chol=192.0, fbs=0.0, restecg=1.0, thalach=148.0, exang=0.0, oldpeak=0.4, slope=1.0, ca=0.0, thal=1.0, target=1.0), Row(age=60.0, sex=0.0, cp=3.0, trestbps=150.0, chol=240.0, fbs=0.0, restecg=1.0, thalach=171.0, exang=0.0, oldpeak=0.9, slope=2.0, ca=0.0, thal=2.0, target=1.0), Row(age=51.0, sex=0.0, cp=2.0, trestbps=130.0, chol=256.0, fbs=0.0, restecg=0.0, thalach=149.0, exang=0.0, oldpeak=0.5, slope=2.0, ca=0.0, thal=2.0, target=1.0), Row(age=41.0, sex=1.0, cp=1.0, trestbps=135.0, chol=203.0, fbs=0.0, restecg=1.0, thalach=132.0, exang=0.0, oldpeak=0.0, slope=1.0, ca=0.0, thal=1.0, target=1.0), Row(age=50.0, sex=1.0, cp=2.0, trestbps=129.0, chol=196.0, fbs=0.0, restecg=1.0, thalach=163.0, exang=0.0, oldpeak=0.0, slope=2.0, ca=0.0, thal=2.0, target=1.0), Row(age=54.0, sex=1.0, cp=1.0, trestbps=108.0, chol=309.0, fbs=0.0, restecg=1.0, thalach=156.0, exang=0.0, oldpeak=0.0, slope=2.0, ca=0.0, thal=3.0, target=1.0), Row(age=58.0, sex=0.0, cp=0.0, trestbps=170.0, chol=225.0, fbs=1.0, restecg=0.0, thalach=146.0, exang=1.0, oldpeak=2.8, slope=1.0, ca=2.0, thal=1.0, target=0.0), Row(age=55.0, sex=0.0, cp=1.0, trestbps=132.0, chol=342.0, fbs=0.0, restecg=1.0, thalach=166.0, exang=0.0, oldpeak=1.2, slope=2.0, ca=0.0, thal=2.0, target=1.0), Row(age=64.0, sex=0.0, cp=0.0, trestbps=180.0, chol=325.0, fbs=0.0, restecg=1.0, thalach=154.0, exang=1.0, oldpeak=0.0, slope=2.0, ca=0.0, thal=2.0, target=1.0), Row(age=47.0, sex=1.0, cp=2.0, trestbps=138.0, chol=257.0, fbs=0.0, restecg=0.0, thalach=156.0, exang=0.0, oldpeak=0.0, slope=2.0, ca=0.0, thal=2.0, target=1.0), Row(age=41.0, sex=1.0, cp=1.0, trestbps=110.0, chol=235.0, fbs=0.0, restecg=1.0, thalach=153.0, exang=0.0, oldpeak=0.0, slope=2.0, ca=0.0, thal=2.0, target=1.0), Row(age=57.0, sex=1.0, cp=0.0, trestbps=152.0, chol=274.0, fbs=0.0, restecg=1.0, thalach=88.0, exang=1.0, oldpeak=1.2, slope=1.0, ca=1.0, thal=3.0, target=0.0), Row(age=63.0, sex=0.0, cp=0.0, trestbps=124.0, chol=197.0, fbs=0.0, restecg=1.0, thalach=136.0, exang=1.0, oldpeak=0.0, slope=1.0, ca=0.0, thal=2.0, target=0.0), Row(age=61.0, sex=1.0, cp=3.0, trestbps=134.0, chol=234.0, fbs=0.0, restecg=1.0, thalach=145.0, exang=0.0, oldpeak=2.6, slope=1.0, ca=2.0, thal=2.0, target=0.0), Row(age=34.0, sex=1.0, cp=3.0, trestbps=118.0, chol=182.0, fbs=0.0, restecg=0.0, thalach=174.0, exang=0.0, oldpeak=0.0, slope=2.0, ca=0.0, thal=2.0, target=1.0), Row(age=47.0, sex=1.0, cp=0.0, trestbps=112.0, chol=204.0, fbs=0.0, restecg=1.0, thalach=143.0, exang=0.0, oldpeak=0.1, slope=2.0, ca=0.0, thal=2.0, target=1.0), Row(age=40.0, sex=1.0, cp=0.0, trestbps=110.0, chol=167.0, fbs=0.0, restecg=0.0, thalach=114.0, exang=1.0, oldpeak=2.0, slope=1.0, ca=0.0, thal=3.0, target=0.0), Row(age=51.0, sex=0.0, cp=2.0, trestbps=120.0, chol=295.0, fbs=0.0, restecg=0.0, thalach=157.0, exang=0.0, oldpeak=0.6, slope=2.0, ca=0.0, thal=2.0, target=1.0), Row(age=41.0, sex=1.0, cp=0.0, trestbps=110.0, chol=172.0, fbs=0.0, restecg=0.0, thalach=158.0, exang=0.0, oldpeak=0.0, slope=2.0, ca=0.0, thal=3.0, target=0.0), Row(age=52.0, sex=1.0, cp=3.0, trestbps=152.0, chol=298.0, fbs=1.0, restecg=1.0, thalach=178.0, exang=0.0, oldpeak=1.2, slope=1.0, ca=0.0, thal=3.0, target=1.0), Row(age=39.0, sex=1.0, cp=2.0, trestbps=140.0, chol=321.0, fbs=0.0, restecg=0.0, thalach=182.0, exang=0.0, oldpeak=0.0, slope=2.0, ca=0.0, thal=2.0, target=1.0), Row(age=58.0, sex=1.0, cp=0.0, trestbps=114.0, chol=318.0, fbs=0.0, restecg=2.0, thalach=140.0, exang=0.0, oldpeak=4.4, slope=0.0, ca=3.0, thal=1.0, target=0.0), Row(age=54.0, sex=1.0, cp=1.0, trestbps=192.0, chol=283.0, fbs=0.0, restecg=0.0, thalach=195.0, exang=0.0, oldpeak=0.0, slope=2.0, ca=1.0, thal=3.0, target=0.0), Row(age=58.0, sex=1.0, cp=0.0, trestbps=125.0, chol=300.0, fbs=0.0, restecg=0.0, thalach=171.0, exang=0.0, oldpeak=0.0, slope=2.0, ca=2.0, thal=3.0, target=0.0), Row(age=54.0, sex=1.0, cp=2.0, trestbps=120.0, chol=258.0, fbs=0.0, restecg=0.0, thalach=147.0, exang=0.0, oldpeak=0.4, slope=1.0, ca=0.0, thal=3.0, target=1.0), Row(age=63.0, sex=1.0, cp=0.0, trestbps=130.0, chol=330.0, fbs=1.0, restecg=0.0, thalach=132.0, exang=1.0, oldpeak=1.8, slope=2.0, ca=3.0, thal=3.0, target=0.0), Row(age=54.0, sex=1.0, cp=1.0, trestbps=108.0, chol=309.0, fbs=0.0, restecg=1.0, thalach=156.0, exang=0.0, oldpeak=0.0, slope=2.0, ca=0.0, thal=3.0, target=1.0), Row(age=40.0, sex=1.0, cp=3.0, trestbps=140.0, chol=199.0, fbs=0.0, restecg=1.0, thalach=178.0, exang=1.0, oldpeak=1.4, slope=2.0, ca=0.0, thal=3.0, target=1.0), Row(age=54.0, sex=1.0, cp=2.0, trestbps=120.0, chol=258.0, fbs=0.0, restecg=0.0, thalach=147.0, exang=0.0, oldpeak=0.4, slope=1.0, ca=0.0, thal=3.0, target=1.0), Row(age=67.0, sex=0.0, cp=2.0, trestbps=115.0, chol=564.0, fbs=0.0, restecg=0.0, thalach=160.0, exang=0.0, oldpeak=1.6, slope=1.0, ca=0.0, thal=3.0, target=1.0), Row(age=41.0, sex=1.0, cp=1.0, trestbps=120.0, chol=157.0, fbs=0.0, restecg=1.0, thalach=182.0, exang=0.0, oldpeak=0.0, slope=2.0, ca=0.0, thal=2.0, target=1.0), Row(age=77.0, sex=1.0, cp=0.0, trestbps=125.0, chol=304.0, fbs=0.0, restecg=0.0, thalach=162.0, exang=1.0, oldpeak=0.0, slope=2.0, ca=3.0, thal=2.0, target=0.0), Row(age=51.0, sex=1.0, cp=2.0, trestbps=100.0, chol=222.0, fbs=0.0, restecg=1.0, thalach=143.0, exang=1.0, oldpeak=1.2, slope=1.0, ca=0.0, thal=2.0, target=1.0), Row(age=77.0, sex=1.0, cp=0.0, trestbps=125.0, chol=304.0, fbs=0.0, restecg=0.0, thalach=162.0, exang=1.0, oldpeak=0.0, slope=2.0, ca=3.0, thal=2.0, target=0.0), Row(age=48.0, sex=1.0, cp=0.0, trestbps=124.0, chol=274.0, fbs=0.0, restecg=0.0, thalach=166.0, exang=0.0, oldpeak=0.5, slope=1.0, ca=0.0, thal=3.0, target=0.0), Row(age=56.0, sex=1.0, cp=0.0, trestbps=125.0, chol=249.0, fbs=1.0, restecg=0.0, thalach=144.0, exang=1.0, oldpeak=1.2, slope=1.0, ca=1.0, thal=2.0, target=0.0), Row(age=59.0, sex=1.0, cp=0.0, trestbps=170.0, chol=326.0, fbs=0.0, restecg=0.0, thalach=140.0, exang=1.0, oldpeak=3.4, slope=0.0, ca=0.0, thal=3.0, target=0.0), Row(age=56.0, sex=1.0, cp=0.0, trestbps=132.0, chol=184.0, fbs=0.0, restecg=0.0, thalach=105.0, exang=1.0, oldpeak=2.1, slope=1.0, ca=1.0, thal=1.0, target=0.0), Row(age=57.0, sex=0.0, cp=0.0, trestbps=120.0, chol=354.0, fbs=0.0, restecg=1.0, thalach=163.0, exang=1.0, oldpeak=0.6, slope=2.0, ca=0.0, thal=2.0, target=1.0), Row(age=43.0, sex=1.0, cp=2.0, trestbps=130.0, chol=315.0, fbs=0.0, restecg=1.0, thalach=162.0, exang=0.0, oldpeak=1.9, slope=2.0, ca=1.0, thal=2.0, target=1.0), Row(age=45.0, sex=0.0, cp=1.0, trestbps=112.0, chol=160.0, fbs=0.0, restecg=1.0, thalach=138.0, exang=0.0, oldpeak=0.0, slope=1.0, ca=0.0, thal=2.0, target=1.0), Row(age=43.0, sex=1.0, cp=0.0, trestbps=150.0, chol=247.0, fbs=0.0, restecg=1.0, thalach=171.0, exang=0.0, oldpeak=1.5, slope=2.0, ca=0.0, thal=2.0, target=1.0), Row(age=56.0, sex=1.0, cp=0.0, trestbps=130.0, chol=283.0, fbs=1.0, restecg=0.0, thalach=103.0, exang=1.0, oldpeak=1.6, slope=0.0, ca=0.0, thal=3.0, target=0.0), Row(age=56.0, sex=1.0, cp=1.0, trestbps=120.0, chol=240.0, fbs=0.0, restecg=1.0, thalach=169.0, exang=0.0, oldpeak=0.0, slope=0.0, ca=0.0, thal=2.0, target=1.0), Row(age=39.0, sex=0.0, cp=2.0, trestbps=94.0, chol=199.0, fbs=0.0, restecg=1.0, thalach=179.0, exang=0.0, oldpeak=0.0, slope=2.0, ca=0.0, thal=2.0, target=1.0), Row(age=54.0, sex=1.0, cp=0.0, trestbps=110.0, chol=239.0, fbs=0.0, restecg=1.0, thalach=126.0, exang=1.0, oldpeak=2.8, slope=1.0, ca=1.0, thal=3.0, target=0.0), Row(age=56.0, sex=0.0, cp=0.0, trestbps=200.0, chol=288.0, fbs=1.0, restecg=0.0, thalach=133.0, exang=1.0, oldpeak=4.0, slope=0.0, ca=2.0, thal=3.0, target=0.0), Row(age=56.0, sex=1.0, cp=0.0, trestbps=130.0, chol=283.0, fbs=1.0, restecg=0.0, thalach=103.0, exang=1.0, oldpeak=1.6, slope=0.0, ca=0.0, thal=3.0, target=0.0), Row(age=64.0, sex=1.0, cp=0.0, trestbps=120.0, chol=246.0, fbs=0.0, restecg=0.0, thalach=96.0, exang=1.0, oldpeak=2.2, slope=0.0, ca=1.0, thal=2.0, target=0.0), Row(age=44.0, sex=1.0, cp=0.0, trestbps=110.0, chol=197.0, fbs=0.0, restecg=0.0, thalach=177.0, exang=0.0, oldpeak=0.0, slope=2.0, ca=1.0, thal=2.0, target=0.0), Row(age=56.0, sex=0.0, cp=0.0, trestbps=134.0, chol=409.0, fbs=0.0, restecg=0.0, thalach=150.0, exang=1.0, oldpeak=1.9, slope=1.0, ca=2.0, thal=3.0, target=0.0), Row(age=63.0, sex=1.0, cp=0.0, trestbps=140.0, chol=187.0, fbs=0.0, restecg=0.0, thalach=144.0, exang=1.0, oldpeak=4.0, slope=2.0, ca=2.0, thal=3.0, target=0.0), Row(age=64.0, sex=1.0, cp=3.0, trestbps=110.0, chol=211.0, fbs=0.0, restecg=0.0, thalach=144.0, exang=1.0, oldpeak=1.8, slope=1.0, ca=0.0, thal=2.0, target=1.0), Row(age=60.0, sex=1.0, cp=0.0, trestbps=140.0, chol=293.0, fbs=0.0, restecg=0.0, thalach=170.0, exang=0.0, oldpeak=1.2, slope=1.0, ca=2.0, thal=3.0, target=0.0), Row(age=42.0, sex=1.0, cp=2.0, trestbps=130.0, chol=180.0, fbs=0.0, restecg=1.0, thalach=150.0, exang=0.0, oldpeak=0.0, slope=2.0, ca=0.0, thal=2.0, target=1.0), Row(age=45.0, sex=1.0, cp=1.0, trestbps=128.0, chol=308.0, fbs=0.0, restecg=0.0, thalach=170.0, exang=0.0, oldpeak=0.0, slope=2.0, ca=0.0, thal=2.0, target=1.0), Row(age=57.0, sex=1.0, cp=0.0, trestbps=165.0, chol=289.0, fbs=1.0, restecg=0.0, thalach=124.0, exang=0.0, oldpeak=1.0, slope=1.0, ca=3.0, thal=3.0, target=0.0), Row(age=40.0, sex=1.0, cp=0.0, trestbps=110.0, chol=167.0, fbs=0.0, restecg=0.0, thalach=114.0, exang=1.0, oldpeak=2.0, slope=1.0, ca=0.0, thal=3.0, target=0.0), Row(age=56.0, sex=1.0, cp=0.0, trestbps=125.0, chol=249.0, fbs=1.0, restecg=0.0, thalach=144.0, exang=1.0, oldpeak=1.2, slope=1.0, ca=1.0, thal=2.0, target=0.0), Row(age=63.0, sex=1.0, cp=0.0, trestbps=130.0, chol=254.0, fbs=0.0, restecg=0.0, thalach=147.0, exang=0.0, oldpeak=1.4, slope=1.0, ca=1.0, thal=3.0, target=0.0), Row(age=64.0, sex=1.0, cp=2.0, trestbps=125.0, chol=309.0, fbs=0.0, restecg=1.0, thalach=131.0, exang=1.0, oldpeak=1.8, slope=1.0, ca=0.0, thal=3.0, target=0.0), Row(age=41.0, sex=1.0, cp=2.0, trestbps=112.0, chol=250.0, fbs=0.0, restecg=1.0, thalach=179.0, exang=0.0, oldpeak=0.0, slope=2.0, ca=0.0, thal=2.0, target=1.0), Row(age=56.0, sex=1.0, cp=1.0, trestbps=130.0, chol=221.0, fbs=0.0, restecg=0.0, thalach=163.0, exang=0.0, oldpeak=0.0, slope=2.0, ca=0.0, thal=3.0, target=1.0), Row(age=67.0, sex=0.0, cp=2.0, trestbps=115.0, chol=564.0, fbs=0.0, restecg=0.0, thalach=160.0, exang=0.0, oldpeak=1.6, slope=1.0, ca=0.0, thal=3.0, target=1.0), Row(age=69.0, sex=1.0, cp=3.0, trestbps=160.0, chol=234.0, fbs=1.0, restecg=0.0, thalach=131.0, exang=0.0, oldpeak=0.1, slope=1.0, ca=1.0, thal=2.0, target=1.0), Row(age=67.0, sex=1.0, cp=0.0, trestbps=160.0, chol=286.0, fbs=0.0, restecg=0.0, thalach=108.0, exang=1.0, oldpeak=1.5, slope=1.0, ca=3.0, thal=2.0, target=0.0), Row(age=59.0, sex=1.0, cp=2.0, trestbps=150.0, chol=212.0, fbs=1.0, restecg=1.0, thalach=157.0, exang=0.0, oldpeak=1.6, slope=2.0, ca=0.0, thal=2.0, target=1.0), Row(age=58.0, sex=1.0, cp=0.0, trestbps=100.0, chol=234.0, fbs=0.0, restecg=1.0, thalach=156.0, exang=0.0, oldpeak=0.1, slope=2.0, ca=1.0, thal=3.0, target=0.0), Row(age=45.0, sex=1.0, cp=0.0, trestbps=115.0, chol=260.0, fbs=0.0, restecg=0.0, thalach=185.0, exang=0.0, oldpeak=0.0, slope=2.0, ca=0.0, thal=2.0, target=1.0), Row(age=60.0, sex=0.0, cp=2.0, trestbps=102.0, chol=318.0, fbs=0.0, restecg=1.0, thalach=160.0, exang=0.0, oldpeak=0.0, slope=2.0, ca=1.0, thal=2.0, target=1.0), Row(age=50.0, sex=1.0, cp=0.0, trestbps=144.0, chol=200.0, fbs=0.0, restecg=0.0, thalach=126.0, exang=1.0, oldpeak=0.9, slope=1.0, ca=0.0, thal=3.0, target=0.0), Row(age=62.0, sex=0.0, cp=0.0, trestbps=124.0, chol=209.0, fbs=0.0, restecg=1.0, thalach=163.0, exang=0.0, oldpeak=0.0, slope=2.0, ca=0.0, thal=2.0, target=1.0), Row(age=34.0, sex=1.0, cp=3.0, trestbps=118.0, chol=182.0, fbs=0.0, restecg=0.0, thalach=174.0, exang=0.0, oldpeak=0.0, slope=2.0, ca=0.0, thal=2.0, target=1.0), Row(age=52.0, sex=1.0, cp=3.0, trestbps=152.0, chol=298.0, fbs=1.0, restecg=1.0, thalach=178.0, exang=0.0, oldpeak=1.2, slope=1.0, ca=0.0, thal=3.0, target=1.0), Row(age=64.0, sex=1.0, cp=3.0, trestbps=170.0, chol=227.0, fbs=0.0, restecg=0.0, thalach=155.0, exang=0.0, oldpeak=0.6, slope=1.0, ca=0.0, thal=3.0, target=1.0), Row(age=66.0, sex=0.0, cp=2.0, trestbps=146.0, chol=278.0, fbs=0.0, restecg=0.0, thalach=152.0, exang=0.0, oldpeak=0.0, slope=1.0, ca=1.0, thal=2.0, target=1.0), Row(age=42.0, sex=1.0, cp=3.0, trestbps=148.0, chol=244.0, fbs=0.0, restecg=0.0, thalach=178.0, exang=0.0, oldpeak=0.8, slope=2.0, ca=2.0, thal=2.0, target=1.0), Row(age=59.0, sex=1.0, cp=2.0, trestbps=126.0, chol=218.0, fbs=1.0, restecg=1.0, thalach=134.0, exang=0.0, oldpeak=2.2, slope=1.0, ca=1.0, thal=1.0, target=0.0), Row(age=41.0, sex=1.0, cp=2.0, trestbps=112.0, chol=250.0, fbs=0.0, restecg=1.0, thalach=179.0, exang=0.0, oldpeak=0.0, slope=2.0, ca=0.0, thal=2.0, target=1.0), Row(age=38.0, sex=1.0, cp=2.0, trestbps=138.0, chol=175.0, fbs=0.0, restecg=1.0, thalach=173.0, exang=0.0, oldpeak=0.0, slope=2.0, ca=4.0, thal=2.0, target=1.0), Row(age=62.0, sex=1.0, cp=1.0, trestbps=120.0, chol=281.0, fbs=0.0, restecg=0.0, thalach=103.0, exang=0.0, oldpeak=1.4, slope=1.0, ca=1.0, thal=3.0, target=0.0), Row(age=42.0, sex=1.0, cp=2.0, trestbps=120.0, chol=240.0, fbs=1.0, restecg=1.0, thalach=194.0, exang=0.0, oldpeak=0.8, slope=0.0, ca=0.0, thal=3.0, target=1.0), Row(age=67.0, sex=1.0, cp=0.0, trestbps=100.0, chol=299.0, fbs=0.0, restecg=0.0, thalach=125.0, exang=1.0, oldpeak=0.9, slope=1.0, ca=2.0, thal=2.0, target=0.0), Row(age=50.0, sex=1.0, cp=0.0, trestbps=150.0, chol=243.0, fbs=0.0, restecg=0.0, thalach=128.0, exang=0.0, oldpeak=2.6, slope=1.0, ca=0.0, thal=3.0, target=0.0), Row(age=43.0, sex=1.0, cp=2.0, trestbps=130.0, chol=315.0, fbs=0.0, restecg=1.0, thalach=162.0, exang=0.0, oldpeak=1.9, slope=2.0, ca=1.0, thal=2.0, target=1.0), Row(age=45.0, sex=1.0, cp=1.0, trestbps=128.0, chol=308.0, fbs=0.0, restecg=0.0, thalach=170.0, exang=0.0, oldpeak=0.0, slope=2.0, ca=0.0, thal=2.0, target=1.0), Row(age=49.0, sex=1.0, cp=1.0, trestbps=130.0, chol=266.0, fbs=0.0, restecg=1.0, thalach=171.0, exang=0.0, oldpeak=0.6, slope=2.0, ca=0.0, thal=2.0, target=1.0), Row(age=65.0, sex=1.0, cp=0.0, trestbps=135.0, chol=254.0, fbs=0.0, restecg=0.0, thalach=127.0, exang=0.0, oldpeak=2.8, slope=1.0, ca=1.0, thal=3.0, target=0.0), Row(age=41.0, sex=1.0, cp=1.0, trestbps=120.0, chol=157.0, fbs=0.0, restecg=1.0, thalach=182.0, exang=0.0, oldpeak=0.0, slope=2.0, ca=0.0, thal=2.0, target=1.0), Row(age=46.0, sex=1.0, cp=0.0, trestbps=140.0, chol=311.0, fbs=0.0, restecg=1.0, thalach=120.0, exang=1.0, oldpeak=1.8, slope=1.0, ca=2.0, thal=3.0, target=0.0), Row(age=54.0, sex=1.0, cp=0.0, trestbps=122.0, chol=286.0, fbs=0.0, restecg=0.0, thalach=116.0, exang=1.0, oldpeak=3.2, slope=1.0, ca=2.0, thal=2.0, target=0.0), Row(age=57.0, sex=0.0, cp=1.0, trestbps=130.0, chol=236.0, fbs=0.0, restecg=0.0, thalach=174.0, exang=0.0, oldpeak=0.0, slope=1.0, ca=1.0, thal=2.0, target=0.0), Row(age=63.0, sex=1.0, cp=0.0, trestbps=130.0, chol=254.0, fbs=0.0, restecg=0.0, thalach=147.0, exang=0.0, oldpeak=1.4, slope=1.0, ca=1.0, thal=3.0, target=0.0), Row(age=64.0, sex=1.0, cp=3.0, trestbps=110.0, chol=211.0, fbs=0.0, restecg=0.0, thalach=144.0, exang=1.0, oldpeak=1.8, slope=1.0, ca=0.0, thal=2.0, target=1.0), Row(age=39.0, sex=0.0, cp=2.0, trestbps=94.0, chol=199.0, fbs=0.0, restecg=1.0, thalach=179.0, exang=0.0, oldpeak=0.0, slope=2.0, ca=0.0, thal=2.0, target=1.0), Row(age=51.0, sex=1.0, cp=0.0, trestbps=140.0, chol=261.0, fbs=0.0, restecg=0.0, thalach=186.0, exang=1.0, oldpeak=0.0, slope=2.0, ca=0.0, thal=2.0, target=1.0), Row(age=54.0, sex=1.0, cp=2.0, trestbps=150.0, chol=232.0, fbs=0.0, restecg=0.0, thalach=165.0, exang=0.0, oldpeak=1.6, slope=2.0, ca=0.0, thal=3.0, target=1.0), Row(age=49.0, sex=1.0, cp=2.0, trestbps=118.0, chol=149.0, fbs=0.0, restecg=0.0, thalach=126.0, exang=0.0, oldpeak=0.8, slope=2.0, ca=3.0, thal=2.0, target=0.0), Row(age=44.0, sex=0.0, cp=2.0, trestbps=118.0, chol=242.0, fbs=0.0, restecg=1.0, thalach=149.0, exang=0.0, oldpeak=0.3, slope=1.0, ca=1.0, thal=2.0, target=1.0), Row(age=52.0, sex=1.0, cp=1.0, trestbps=128.0, chol=205.0, fbs=1.0, restecg=1.0, thalach=184.0, exang=0.0, oldpeak=0.0, slope=2.0, ca=0.0, thal=2.0, target=1.0), Row(age=66.0, sex=0.0, cp=0.0, trestbps=178.0, chol=228.0, fbs=1.0, restecg=1.0, thalach=165.0, exang=1.0, oldpeak=1.0, slope=1.0, ca=2.0, thal=3.0, target=0.0), Row(age=58.0, sex=1.0, cp=0.0, trestbps=125.0, chol=300.0, fbs=0.0, restecg=0.0, thalach=171.0, exang=0.0, oldpeak=0.0, slope=2.0, ca=2.0, thal=3.0, target=0.0), Row(age=56.0, sex=1.0, cp=1.0, trestbps=120.0, chol=236.0, fbs=0.0, restecg=1.0, thalach=178.0, exang=0.0, oldpeak=0.8, slope=2.0, ca=0.0, thal=2.0, target=1.0), Row(age=60.0, sex=1.0, cp=0.0, trestbps=125.0, chol=258.0, fbs=0.0, restecg=0.0, thalach=141.0, exang=1.0, oldpeak=2.8, slope=1.0, ca=1.0, thal=3.0, target=0.0), Row(age=41.0, sex=0.0, cp=1.0, trestbps=126.0, chol=306.0, fbs=0.0, restecg=1.0, thalach=163.0, exang=0.0, oldpeak=0.0, slope=2.0, ca=0.0, thal=2.0, target=1.0), Row(age=49.0, sex=0.0, cp=0.0, trestbps=130.0, chol=269.0, fbs=0.0, restecg=1.0, thalach=163.0, exang=0.0, oldpeak=0.0, slope=2.0, ca=0.0, thal=2.0, target=1.0), Row(age=64.0, sex=1.0, cp=3.0, trestbps=170.0, chol=227.0, fbs=0.0, restecg=0.0, thalach=155.0, exang=0.0, oldpeak=0.6, slope=1.0, ca=0.0, thal=3.0, target=1.0), Row(age=49.0, sex=1.0, cp=2.0, trestbps=118.0, chol=149.0, fbs=0.0, restecg=0.0, thalach=126.0, exang=0.0, oldpeak=0.8, slope=2.0, ca=3.0, thal=2.0, target=0.0), Row(age=57.0, sex=1.0, cp=1.0, trestbps=124.0, chol=261.0, fbs=0.0, restecg=1.0, thalach=141.0, exang=0.0, oldpeak=0.3, slope=2.0, ca=0.0, thal=3.0, target=0.0), Row(age=60.0, sex=1.0, cp=0.0, trestbps=117.0, chol=230.0, fbs=1.0, restecg=1.0, thalach=160.0, exang=1.0, oldpeak=1.4, slope=2.0, ca=2.0, thal=3.0, target=0.0), Row(age=62.0, sex=0.0, cp=0.0, trestbps=150.0, chol=244.0, fbs=0.0, restecg=1.0, thalach=154.0, exang=1.0, oldpeak=1.4, slope=1.0, ca=0.0, thal=2.0, target=0.0), Row(age=54.0, sex=0.0, cp=1.0, trestbps=132.0, chol=288.0, fbs=1.0, restecg=0.0, thalach=159.0, exang=1.0, oldpeak=0.0, slope=2.0, ca=1.0, thal=2.0, target=1.0), Row(age=67.0, sex=1.0, cp=2.0, trestbps=152.0, chol=212.0, fbs=0.0, restecg=0.0, thalach=150.0, exang=0.0, oldpeak=0.8, slope=1.0, ca=0.0, thal=3.0, target=0.0), Row(age=38.0, sex=1.0, cp=2.0, trestbps=138.0, chol=175.0, fbs=0.0, restecg=1.0, thalach=173.0, exang=0.0, oldpeak=0.0, slope=2.0, ca=4.0, thal=2.0, target=1.0), Row(age=60.0, sex=1.0, cp=2.0, trestbps=140.0, chol=185.0, fbs=0.0, restecg=0.0, thalach=155.0, exang=0.0, oldpeak=3.0, slope=1.0, ca=0.0, thal=2.0, target=0.0), Row(age=51.0, sex=1.0, cp=2.0, trestbps=125.0, chol=245.0, fbs=1.0, restecg=0.0, thalach=166.0, exang=0.0, oldpeak=2.4, slope=1.0, ca=0.0, thal=2.0, target=1.0), Row(age=44.0, sex=1.0, cp=1.0, trestbps=130.0, chol=219.0, fbs=0.0, restecg=0.0, thalach=188.0, exang=0.0, oldpeak=0.0, slope=2.0, ca=0.0, thal=2.0, target=1.0), Row(age=54.0, sex=1.0, cp=1.0, trestbps=192.0, chol=283.0, fbs=0.0, restecg=0.0, thalach=195.0, exang=0.0, oldpeak=0.0, slope=2.0, ca=1.0, thal=3.0, target=0.0), Row(age=46.0, sex=1.0, cp=0.0, trestbps=140.0, chol=311.0, fbs=0.0, restecg=1.0, thalach=120.0, exang=1.0, oldpeak=1.8, slope=1.0, ca=2.0, thal=3.0, target=0.0), Row(age=39.0, sex=0.0, cp=2.0, trestbps=138.0, chol=220.0, fbs=0.0, restecg=1.0, thalach=152.0, exang=0.0, oldpeak=0.0, slope=1.0, ca=0.0, thal=2.0, target=1.0), Row(age=42.0, sex=1.0, cp=2.0, trestbps=130.0, chol=180.0, fbs=0.0, restecg=1.0, thalach=150.0, exang=0.0, oldpeak=0.0, slope=2.0, ca=0.0, thal=2.0, target=1.0), Row(age=47.0, sex=1.0, cp=0.0, trestbps=110.0, chol=275.0, fbs=0.0, restecg=0.0, thalach=118.0, exang=1.0, oldpeak=1.0, slope=1.0, ca=1.0, thal=2.0, target=0.0), Row(age=45.0, sex=0.0, cp=1.0, trestbps=112.0, chol=160.0, fbs=0.0, restecg=1.0, thalach=138.0, exang=0.0, oldpeak=0.0, slope=1.0, ca=0.0, thal=2.0, target=1.0), Row(age=55.0, sex=1.0, cp=0.0, trestbps=132.0, chol=353.0, fbs=0.0, restecg=1.0, thalach=132.0, exang=1.0, oldpeak=1.2, slope=1.0, ca=1.0, thal=3.0, target=0.0), Row(age=57.0, sex=1.0, cp=0.0, trestbps=165.0, chol=289.0, fbs=1.0, restecg=0.0, thalach=124.0, exang=0.0, oldpeak=1.0, slope=1.0, ca=3.0, thal=3.0, target=0.0), Row(age=35.0, sex=1.0, cp=0.0, trestbps=120.0, chol=198.0, fbs=0.0, restecg=1.0, thalach=130.0, exang=1.0, oldpeak=1.6, slope=1.0, ca=0.0, thal=3.0, target=0.0), Row(age=62.0, sex=0.0, cp=0.0, trestbps=140.0, chol=394.0, fbs=0.0, restecg=0.0, thalach=157.0, exang=0.0, oldpeak=1.2, slope=1.0, ca=0.0, thal=2.0, target=1.0), Row(age=35.0, sex=0.0, cp=0.0, trestbps=138.0, chol=183.0, fbs=0.0, restecg=1.0, thalach=182.0, exang=0.0, oldpeak=1.4, slope=2.0, ca=0.0, thal=2.0, target=1.0), Row(age=64.0, sex=0.0, cp=0.0, trestbps=180.0, chol=325.0, fbs=0.0, restecg=1.0, thalach=154.0, exang=1.0, oldpeak=0.0, slope=2.0, ca=0.0, thal=2.0, target=1.0), Row(age=38.0, sex=1.0, cp=3.0, trestbps=120.0, chol=231.0, fbs=0.0, restecg=1.0, thalach=182.0, exang=1.0, oldpeak=3.8, slope=1.0, ca=0.0, thal=3.0, target=0.0), Row(age=66.0, sex=1.0, cp=0.0, trestbps=120.0, chol=302.0, fbs=0.0, restecg=0.0, thalach=151.0, exang=0.0, oldpeak=0.4, slope=1.0, ca=0.0, thal=2.0, target=1.0), Row(age=44.0, sex=1.0, cp=2.0, trestbps=120.0, chol=226.0, fbs=0.0, restecg=1.0, thalach=169.0, exang=0.0, oldpeak=0.0, slope=2.0, ca=0.0, thal=2.0, target=1.0), Row(age=54.0, sex=1.0, cp=2.0, trestbps=150.0, chol=232.0, fbs=0.0, restecg=0.0, thalach=165.0, exang=0.0, oldpeak=1.6, slope=2.0, ca=0.0, thal=3.0, target=1.0), Row(age=48.0, sex=1.0, cp=0.0, trestbps=122.0, chol=222.0, fbs=0.0, restecg=0.0, thalach=186.0, exang=0.0, oldpeak=0.0, slope=2.0, ca=0.0, thal=2.0, target=1.0), Row(age=55.0, sex=0.0, cp=1.0, trestbps=132.0, chol=342.0, fbs=0.0, restecg=1.0, thalach=166.0, exang=0.0, oldpeak=1.2, slope=2.0, ca=0.0, thal=2.0, target=1.0), Row(age=58.0, sex=0.0, cp=0.0, trestbps=170.0, chol=225.0, fbs=1.0, restecg=0.0, thalach=146.0, exang=1.0, oldpeak=2.8, slope=1.0, ca=2.0, thal=1.0, target=0.0), Row(age=45.0, sex=1.0, cp=0.0, trestbps=104.0, chol=208.0, fbs=0.0, restecg=0.0, thalach=148.0, exang=1.0, oldpeak=3.0, slope=1.0, ca=0.0, thal=2.0, target=1.0), Row(age=53.0, sex=1.0, cp=0.0, trestbps=123.0, chol=282.0, fbs=0.0, restecg=1.0, thalach=95.0, exang=1.0, oldpeak=2.0, slope=1.0, ca=2.0, thal=3.0, target=0.0), Row(age=67.0, sex=1.0, cp=0.0, trestbps=120.0, chol=237.0, fbs=0.0, restecg=1.0, thalach=71.0, exang=0.0, oldpeak=1.0, slope=1.0, ca=0.0, thal=2.0, target=0.0), Row(age=58.0, sex=1.0, cp=2.0, trestbps=132.0, chol=224.0, fbs=0.0, restecg=0.0, thalach=173.0, exang=0.0, oldpeak=3.2, slope=2.0, ca=2.0, thal=3.0, target=0.0), Row(age=71.0, sex=0.0, cp=2.0, trestbps=110.0, chol=265.0, fbs=1.0, restecg=0.0, thalach=130.0, exang=0.0, oldpeak=0.0, slope=2.0, ca=1.0, thal=2.0, target=1.0), Row(age=43.0, sex=1.0, cp=0.0, trestbps=110.0, chol=211.0, fbs=0.0, restecg=1.0, thalach=161.0, exang=0.0, oldpeak=0.0, slope=2.0, ca=0.0, thal=3.0, target=1.0), Row(age=44.0, sex=1.0, cp=1.0, trestbps=120.0, chol=263.0, fbs=0.0, restecg=1.0, thalach=173.0, exang=0.0, oldpeak=0.0, slope=2.0, ca=0.0, thal=3.0, target=1.0), Row(age=39.0, sex=0.0, cp=2.0, trestbps=138.0, chol=220.0, fbs=0.0, restecg=1.0, thalach=152.0, exang=0.0, oldpeak=0.0, slope=1.0, ca=0.0, thal=2.0, target=1.0), Row(age=54.0, sex=1.0, cp=0.0, trestbps=110.0, chol=206.0, fbs=0.0, restecg=0.0, thalach=108.0, exang=1.0, oldpeak=0.0, slope=1.0, ca=1.0, thal=2.0, target=0.0), Row(age=66.0, sex=1.0, cp=0.0, trestbps=160.0, chol=228.0, fbs=0.0, restecg=0.0, thalach=138.0, exang=0.0, oldpeak=2.3, slope=2.0, ca=0.0, thal=1.0, target=1.0), Row(age=56.0, sex=1.0, cp=0.0, trestbps=130.0, chol=283.0, fbs=1.0, restecg=0.0, thalach=103.0, exang=1.0, oldpeak=1.6, slope=0.0, ca=0.0, thal=3.0, target=0.0), Row(age=57.0, sex=1.0, cp=0.0, trestbps=132.0, chol=207.0, fbs=0.0, restecg=1.0, thalach=168.0, exang=1.0, oldpeak=0.0, slope=2.0, ca=0.0, thal=3.0, target=1.0), Row(age=44.0, sex=1.0, cp=1.0, trestbps=130.0, chol=219.0, fbs=0.0, restecg=0.0, thalach=188.0, exang=0.0, oldpeak=0.0, slope=2.0, ca=0.0, thal=2.0, target=1.0), Row(age=55.0, sex=1.0, cp=0.0, trestbps=160.0, chol=289.0, fbs=0.0, restecg=0.0, thalach=145.0, exang=1.0, oldpeak=0.8, slope=1.0, ca=1.0, thal=3.0, target=0.0), Row(age=41.0, sex=0.0, cp=1.0, trestbps=105.0, chol=198.0, fbs=0.0, restecg=1.0, thalach=168.0, exang=0.0, oldpeak=0.0, slope=2.0, ca=1.0, thal=2.0, target=1.0), Row(age=45.0, sex=0.0, cp=1.0, trestbps=130.0, chol=234.0, fbs=0.0, restecg=0.0, thalach=175.0, exang=0.0, oldpeak=0.6, slope=1.0, ca=0.0, thal=2.0, target=1.0), Row(age=35.0, sex=1.0, cp=1.0, trestbps=122.0, chol=192.0, fbs=0.0, restecg=1.0, thalach=174.0, exang=0.0, oldpeak=0.0, slope=2.0, ca=0.0, thal=2.0, target=1.0), Row(age=41.0, sex=0.0, cp=1.0, trestbps=130.0, chol=204.0, fbs=0.0, restecg=0.0, thalach=172.0, exang=0.0, oldpeak=1.4, slope=2.0, ca=0.0, thal=2.0, target=1.0), Row(age=64.0, sex=1.0, cp=3.0, trestbps=110.0, chol=211.0, fbs=0.0, restecg=0.0, thalach=144.0, exang=1.0, oldpeak=1.8, slope=1.0, ca=0.0, thal=2.0, target=1.0), Row(age=58.0, sex=1.0, cp=2.0, trestbps=132.0, chol=224.0, fbs=0.0, restecg=0.0, thalach=173.0, exang=0.0, oldpeak=3.2, slope=2.0, ca=2.0, thal=3.0, target=0.0), Row(age=71.0, sex=0.0, cp=2.0, trestbps=110.0, chol=265.0, fbs=1.0, restecg=0.0, thalach=130.0, exang=0.0, oldpeak=0.0, slope=2.0, ca=1.0, thal=2.0, target=1.0), Row(age=64.0, sex=0.0, cp=2.0, trestbps=140.0, chol=313.0, fbs=0.0, restecg=1.0, thalach=133.0, exang=0.0, oldpeak=0.2, slope=2.0, ca=0.0, thal=3.0, target=1.0), Row(age=71.0, sex=0.0, cp=1.0, trestbps=160.0, chol=302.0, fbs=0.0, restecg=1.0, thalach=162.0, exang=0.0, oldpeak=0.4, slope=2.0, ca=2.0, thal=2.0, target=1.0), Row(age=58.0, sex=0.0, cp=2.0, trestbps=120.0, chol=340.0, fbs=0.0, restecg=1.0, thalach=172.0, exang=0.0, oldpeak=0.0, slope=2.0, ca=0.0, thal=2.0, target=1.0), Row(age=40.0, sex=1.0, cp=0.0, trestbps=152.0, chol=223.0, fbs=0.0, restecg=1.0, thalach=181.0, exang=0.0, oldpeak=0.0, slope=2.0, ca=0.0, thal=3.0, target=0.0), Row(age=52.0, sex=1.0, cp=2.0, trestbps=138.0, chol=223.0, fbs=0.0, restecg=1.0, thalach=169.0, exang=0.0, oldpeak=0.0, slope=2.0, ca=4.0, thal=2.0, target=1.0), Row(age=58.0, sex=1.0, cp=0.0, trestbps=128.0, chol=259.0, fbs=0.0, restecg=0.0, thalach=130.0, exang=1.0, oldpeak=3.0, slope=1.0, ca=2.0, thal=3.0, target=0.0), Row(age=61.0, sex=1.0, cp=2.0, trestbps=150.0, chol=243.0, fbs=1.0, restecg=1.0, thalach=137.0, exang=1.0, oldpeak=1.0, slope=1.0, ca=0.0, thal=2.0, target=1.0), Row(age=59.0, sex=1.0, cp=2.0, trestbps=150.0, chol=212.0, fbs=1.0, restecg=1.0, thalach=157.0, exang=0.0, oldpeak=1.6, slope=2.0, ca=0.0, thal=2.0, target=1.0), Row(age=56.0, sex=0.0, cp=0.0, trestbps=200.0, chol=288.0, fbs=1.0, restecg=0.0, thalach=133.0, exang=1.0, oldpeak=4.0, slope=0.0, ca=2.0, thal=3.0, target=0.0), Row(age=67.0, sex=1.0, cp=0.0, trestbps=100.0, chol=299.0, fbs=0.0, restecg=0.0, thalach=125.0, exang=1.0, oldpeak=0.9, slope=1.0, ca=2.0, thal=2.0, target=0.0), Row(age=67.0, sex=1.0, cp=0.0, trestbps=120.0, chol=237.0, fbs=0.0, restecg=1.0, thalach=71.0, exang=0.0, oldpeak=1.0, slope=1.0, ca=0.0, thal=2.0, target=0.0), Row(age=58.0, sex=1.0, cp=0.0, trestbps=150.0, chol=270.0, fbs=0.0, restecg=0.0, thalach=111.0, exang=1.0, oldpeak=0.8, slope=2.0, ca=0.0, thal=3.0, target=0.0), Row(age=35.0, sex=1.0, cp=1.0, trestbps=122.0, chol=192.0, fbs=0.0, restecg=1.0, thalach=174.0, exang=0.0, oldpeak=0.0, slope=2.0, ca=0.0, thal=2.0, target=1.0), Row(age=52.0, sex=1.0, cp=1.0, trestbps=120.0, chol=325.0, fbs=0.0, restecg=1.0, thalach=172.0, exang=0.0, oldpeak=0.2, slope=2.0, ca=0.0, thal=2.0, target=1.0), Row(age=46.0, sex=0.0, cp=1.0, trestbps=105.0, chol=204.0, fbs=0.0, restecg=1.0, thalach=172.0, exang=0.0, oldpeak=0.0, slope=2.0, ca=0.0, thal=2.0, target=1.0), Row(age=51.0, sex=1.0, cp=2.0, trestbps=94.0, chol=227.0, fbs=0.0, restecg=1.0, thalach=154.0, exang=1.0, oldpeak=0.0, slope=2.0, ca=1.0, thal=3.0, target=1.0), Row(age=55.0, sex=0.0, cp=1.0, trestbps=132.0, chol=342.0, fbs=0.0, restecg=1.0, thalach=166.0, exang=0.0, oldpeak=1.2, slope=2.0, ca=0.0, thal=2.0, target=1.0), Row(age=60.0, sex=1.0, cp=0.0, trestbps=145.0, chol=282.0, fbs=0.0, restecg=0.0, thalach=142.0, exang=1.0, oldpeak=2.8, slope=1.0, ca=2.0, thal=3.0, target=0.0), Row(age=52.0, sex=0.0, cp=2.0, trestbps=136.0, chol=196.0, fbs=0.0, restecg=0.0, thalach=169.0, exang=0.0, oldpeak=0.1, slope=1.0, ca=0.0, thal=2.0, target=1.0), Row(age=62.0, sex=1.0, cp=0.0, trestbps=120.0, chol=267.0, fbs=0.0, restecg=1.0, thalach=99.0, exang=1.0, oldpeak=1.8, slope=1.0, ca=2.0, thal=3.0, target=0.0), Row(age=44.0, sex=0.0, cp=2.0, trestbps=118.0, chol=242.0, fbs=0.0, restecg=1.0, thalach=149.0, exang=0.0, oldpeak=0.3, slope=1.0, ca=1.0, thal=2.0, target=1.0), Row(age=44.0, sex=1.0, cp=1.0, trestbps=120.0, chol=220.0, fbs=0.0, restecg=1.0, thalach=170.0, exang=0.0, oldpeak=0.0, slope=2.0, ca=0.0, thal=2.0, target=1.0), Row(age=59.0, sex=1.0, cp=2.0, trestbps=126.0, chol=218.0, fbs=1.0, restecg=1.0, thalach=134.0, exang=0.0, oldpeak=2.2, slope=1.0, ca=1.0, thal=1.0, target=0.0), Row(age=56.0, sex=0.0, cp=1.0, trestbps=140.0, chol=294.0, fbs=0.0, restecg=0.0, thalach=153.0, exang=0.0, oldpeak=1.3, slope=1.0, ca=0.0, thal=2.0, target=1.0), Row(age=61.0, sex=1.0, cp=0.0, trestbps=120.0, chol=260.0, fbs=0.0, restecg=1.0, thalach=140.0, exang=1.0, oldpeak=3.6, slope=1.0, ca=1.0, thal=3.0, target=0.0), Row(age=48.0, sex=1.0, cp=0.0, trestbps=130.0, chol=256.0, fbs=1.0, restecg=0.0, thalach=150.0, exang=1.0, oldpeak=0.0, slope=2.0, ca=2.0, thal=3.0, target=0.0), Row(age=70.0, sex=1.0, cp=2.0, trestbps=160.0, chol=269.0, fbs=0.0, restecg=1.0, thalach=112.0, exang=1.0, oldpeak=2.9, slope=1.0, ca=1.0, thal=3.0, target=0.0), Row(age=74.0, sex=0.0, cp=1.0, trestbps=120.0, chol=269.0, fbs=0.0, restecg=0.0, thalach=121.0, exang=1.0, oldpeak=0.2, slope=2.0, ca=1.0, thal=2.0, target=1.0), Row(age=40.0, sex=1.0, cp=3.0, trestbps=140.0, chol=199.0, fbs=0.0, restecg=1.0, thalach=178.0, exang=1.0, oldpeak=1.4, slope=2.0, ca=0.0, thal=3.0, target=1.0), Row(age=42.0, sex=1.0, cp=3.0, trestbps=148.0, chol=244.0, fbs=0.0, restecg=0.0, thalach=178.0, exang=0.0, oldpeak=0.8, slope=2.0, ca=2.0, thal=2.0, target=1.0), Row(age=64.0, sex=0.0, cp=2.0, trestbps=140.0, chol=313.0, fbs=0.0, restecg=1.0, thalach=133.0, exang=0.0, oldpeak=0.2, slope=2.0, ca=0.0, thal=3.0, target=1.0), Row(age=63.0, sex=0.0, cp=2.0, trestbps=135.0, chol=252.0, fbs=0.0, restecg=0.0, thalach=172.0, exang=0.0, oldpeak=0.0, slope=2.0, ca=0.0, thal=2.0, target=1.0), Row(age=59.0, sex=1.0, cp=0.0, trestbps=140.0, chol=177.0, fbs=0.0, restecg=1.0, thalach=162.0, exang=1.0, oldpeak=0.0, slope=2.0, ca=1.0, thal=3.0, target=0.0), Row(age=53.0, sex=0.0, cp=2.0, trestbps=128.0, chol=216.0, fbs=0.0, restecg=0.0, thalach=115.0, exang=0.0, oldpeak=0.0, slope=2.0, ca=0.0, thal=0.0, target=1.0), Row(age=53.0, sex=0.0, cp=0.0, trestbps=130.0, chol=264.0, fbs=0.0, restecg=0.0, thalach=143.0, exang=0.0, oldpeak=0.4, slope=1.0, ca=0.0, thal=2.0, target=1.0), Row(age=48.0, sex=0.0, cp=2.0, trestbps=130.0, chol=275.0, fbs=0.0, restecg=1.0, thalach=139.0, exang=0.0, oldpeak=0.2, slope=2.0, ca=0.0, thal=2.0, target=1.0), Row(age=45.0, sex=1.0, cp=0.0, trestbps=142.0, chol=309.0, fbs=0.0, restecg=0.0, thalach=147.0, exang=1.0, oldpeak=0.0, slope=1.0, ca=3.0, thal=3.0, target=0.0), Row(age=66.0, sex=1.0, cp=1.0, trestbps=160.0, chol=246.0, fbs=0.0, restecg=1.0, thalach=120.0, exang=1.0, oldpeak=0.0, slope=1.0, ca=3.0, thal=1.0, target=0.0), Row(age=48.0, sex=1.0, cp=1.0, trestbps=130.0, chol=245.0, fbs=0.0, restecg=0.0, thalach=180.0, exang=0.0, oldpeak=0.2, slope=1.0, ca=0.0, thal=2.0, target=1.0), Row(age=56.0, sex=0.0, cp=1.0, trestbps=140.0, chol=294.0, fbs=0.0, restecg=0.0, thalach=153.0, exang=0.0, oldpeak=1.3, slope=1.0, ca=0.0, thal=2.0, target=1.0), Row(age=54.0, sex=1.0, cp=1.0, trestbps=192.0, chol=283.0, fbs=0.0, restecg=0.0, thalach=195.0, exang=0.0, oldpeak=0.0, slope=2.0, ca=1.0, thal=3.0, target=0.0), Row(age=57.0, sex=1.0, cp=0.0, trestbps=150.0, chol=276.0, fbs=0.0, restecg=0.0, thalach=112.0, exang=1.0, oldpeak=0.6, slope=1.0, ca=1.0, thal=1.0, target=0.0), Row(age=70.0, sex=1.0, cp=0.0, trestbps=130.0, chol=322.0, fbs=0.0, restecg=0.0, thalach=109.0, exang=0.0, oldpeak=2.4, slope=1.0, ca=3.0, thal=2.0, target=0.0), Row(age=53.0, sex=0.0, cp=2.0, trestbps=128.0, chol=216.0, fbs=0.0, restecg=0.0, thalach=115.0, exang=0.0, oldpeak=0.0, slope=2.0, ca=0.0, thal=0.0, target=1.0), Row(age=37.0, sex=0.0, cp=2.0, trestbps=120.0, chol=215.0, fbs=0.0, restecg=1.0, thalach=170.0, exang=0.0, oldpeak=0.0, slope=2.0, ca=0.0, thal=2.0, target=1.0), Row(age=63.0, sex=0.0, cp=0.0, trestbps=108.0, chol=269.0, fbs=0.0, restecg=1.0, thalach=169.0, exang=1.0, oldpeak=1.8, slope=1.0, ca=2.0, thal=2.0, target=0.0), Row(age=37.0, sex=1.0, cp=2.0, trestbps=130.0, chol=250.0, fbs=0.0, restecg=1.0, thalach=187.0, exang=0.0, oldpeak=3.5, slope=0.0, ca=0.0, thal=2.0, target=1.0), Row(age=54.0, sex=0.0, cp=2.0, trestbps=110.0, chol=214.0, fbs=0.0, restecg=1.0, thalach=158.0, exang=0.0, oldpeak=1.6, slope=1.0, ca=0.0, thal=2.0, target=1.0), Row(age=60.0, sex=1.0, cp=0.0, trestbps=130.0, chol=206.0, fbs=0.0, restecg=0.0, thalach=132.0, exang=1.0, oldpeak=2.4, slope=1.0, ca=2.0, thal=3.0, target=0.0), Row(age=58.0, sex=1.0, cp=0.0, trestbps=150.0, chol=270.0, fbs=0.0, restecg=0.0, thalach=111.0, exang=1.0, oldpeak=0.8, slope=2.0, ca=0.0, thal=3.0, target=0.0), Row(age=57.0, sex=1.0, cp=2.0, trestbps=150.0, chol=126.0, fbs=1.0, restecg=1.0, thalach=173.0, exang=0.0, oldpeak=0.2, slope=2.0, ca=1.0, thal=3.0, target=1.0), Row(age=54.0, sex=1.0, cp=2.0, trestbps=125.0, chol=273.0, fbs=0.0, restecg=0.0, thalach=152.0, exang=0.0, oldpeak=0.5, slope=0.0, ca=1.0, thal=2.0, target=1.0), Row(age=56.0, sex=1.0, cp=2.0, trestbps=130.0, chol=256.0, fbs=1.0, restecg=0.0, thalach=142.0, exang=1.0, oldpeak=0.6, slope=1.0, ca=1.0, thal=1.0, target=0.0), Row(age=60.0, sex=1.0, cp=0.0, trestbps=130.0, chol=253.0, fbs=0.0, restecg=1.0, thalach=144.0, exang=1.0, oldpeak=1.4, slope=2.0, ca=1.0, thal=3.0, target=0.0), Row(age=38.0, sex=1.0, cp=2.0, trestbps=138.0, chol=175.0, fbs=0.0, restecg=1.0, thalach=173.0, exang=0.0, oldpeak=0.0, slope=2.0, ca=4.0, thal=2.0, target=1.0), Row(age=44.0, sex=1.0, cp=2.0, trestbps=120.0, chol=226.0, fbs=0.0, restecg=1.0, thalach=169.0, exang=0.0, oldpeak=0.0, slope=2.0, ca=0.0, thal=2.0, target=1.0), Row(age=65.0, sex=0.0, cp=2.0, trestbps=155.0, chol=269.0, fbs=0.0, restecg=1.0, thalach=148.0, exang=0.0, oldpeak=0.8, slope=2.0, ca=0.0, thal=2.0, target=1.0), Row(age=52.0, sex=1.0, cp=2.0, trestbps=172.0, chol=199.0, fbs=1.0, restecg=1.0, thalach=162.0, exang=0.0, oldpeak=0.5, slope=2.0, ca=0.0, thal=3.0, target=1.0), Row(age=41.0, sex=1.0, cp=1.0, trestbps=120.0, chol=157.0, fbs=0.0, restecg=1.0, thalach=182.0, exang=0.0, oldpeak=0.0, slope=2.0, ca=0.0, thal=2.0, target=1.0), Row(age=66.0, sex=1.0, cp=1.0, trestbps=160.0, chol=246.0, fbs=0.0, restecg=1.0, thalach=120.0, exang=1.0, oldpeak=0.0, slope=1.0, ca=3.0, thal=1.0, target=0.0), Row(age=50.0, sex=1.0, cp=0.0, trestbps=150.0, chol=243.0, fbs=0.0, restecg=0.0, thalach=128.0, exang=0.0, oldpeak=2.6, slope=1.0, ca=0.0, thal=3.0, target=0.0), Row(age=54.0, sex=0.0, cp=2.0, trestbps=108.0, chol=267.0, fbs=0.0, restecg=0.0, thalach=167.0, exang=0.0, oldpeak=0.0, slope=2.0, ca=0.0, thal=2.0, target=1.0), Row(age=43.0, sex=1.0, cp=0.0, trestbps=132.0, chol=247.0, fbs=1.0, restecg=0.0, thalach=143.0, exang=1.0, oldpeak=0.1, slope=1.0, ca=4.0, thal=3.0, target=0.0), Row(age=62.0, sex=0.0, cp=2.0, trestbps=130.0, chol=263.0, fbs=0.0, restecg=1.0, thalach=97.0, exang=0.0, oldpeak=1.2, slope=1.0, ca=1.0, thal=3.0, target=0.0), Row(age=66.0, sex=1.0, cp=0.0, trestbps=120.0, chol=302.0, fbs=0.0, restecg=0.0, thalach=151.0, exang=0.0, oldpeak=0.4, slope=1.0, ca=0.0, thal=2.0, target=1.0), Row(age=50.0, sex=1.0, cp=0.0, trestbps=144.0, chol=200.0, fbs=0.0, restecg=0.0, thalach=126.0, exang=1.0, oldpeak=0.9, slope=1.0, ca=0.0, thal=3.0, target=0.0), Row(age=57.0, sex=1.0, cp=0.0, trestbps=110.0, chol=335.0, fbs=0.0, restecg=1.0, thalach=143.0, exang=1.0, oldpeak=3.0, slope=1.0, ca=1.0, thal=3.0, target=0.0), Row(age=57.0, sex=1.0, cp=0.0, trestbps=110.0, chol=201.0, fbs=0.0, restecg=1.0, thalach=126.0, exang=1.0, oldpeak=1.5, slope=1.0, ca=0.0, thal=1.0, target=1.0), Row(age=57.0, sex=1.0, cp=1.0, trestbps=124.0, chol=261.0, fbs=0.0, restecg=1.0, thalach=141.0, exang=0.0, oldpeak=0.3, slope=2.0, ca=0.0, thal=3.0, target=0.0), Row(age=46.0, sex=0.0, cp=0.0, trestbps=138.0, chol=243.0, fbs=0.0, restecg=0.0, thalach=152.0, exang=1.0, oldpeak=0.0, slope=1.0, ca=0.0, thal=2.0, target=1.0), Row(age=59.0, sex=1.0, cp=0.0, trestbps=164.0, chol=176.0, fbs=1.0, restecg=0.0, thalach=90.0, exang=0.0, oldpeak=1.0, slope=1.0, ca=2.0, thal=1.0, target=0.0), Row(age=67.0, sex=1.0, cp=0.0, trestbps=160.0, chol=286.0, fbs=0.0, restecg=0.0, thalach=108.0, exang=1.0, oldpeak=1.5, slope=1.0, ca=3.0, thal=2.0, target=0.0), Row(age=59.0, sex=1.0, cp=3.0, trestbps=134.0, chol=204.0, fbs=0.0, restecg=1.0, thalach=162.0, exang=0.0, oldpeak=0.8, slope=2.0, ca=2.0, thal=2.0, target=0.0), Row(age=53.0, sex=0.0, cp=2.0, trestbps=128.0, chol=216.0, fbs=0.0, restecg=0.0, thalach=115.0, exang=0.0, oldpeak=0.0, slope=2.0, ca=0.0, thal=0.0, target=1.0), Row(age=48.0, sex=1.0, cp=0.0, trestbps=122.0, chol=222.0, fbs=0.0, restecg=0.0, thalach=186.0, exang=0.0, oldpeak=0.0, slope=2.0, ca=0.0, thal=2.0, target=1.0), Row(age=62.0, sex=1.0, cp=2.0, trestbps=130.0, chol=231.0, fbs=0.0, restecg=1.0, thalach=146.0, exang=0.0, oldpeak=1.8, slope=1.0, ca=3.0, thal=3.0, target=1.0), Row(age=43.0, sex=0.0, cp=2.0, trestbps=122.0, chol=213.0, fbs=0.0, restecg=1.0, thalach=165.0, exang=0.0, oldpeak=0.2, slope=1.0, ca=0.0, thal=2.0, target=1.0), Row(age=53.0, sex=1.0, cp=2.0, trestbps=130.0, chol=246.0, fbs=1.0, restecg=0.0, thalach=173.0, exang=0.0, oldpeak=0.0, slope=2.0, ca=3.0, thal=2.0, target=1.0), Row(age=57.0, sex=0.0, cp=1.0, trestbps=130.0, chol=236.0, fbs=0.0, restecg=0.0, thalach=174.0, exang=0.0, oldpeak=0.0, slope=1.0, ca=1.0, thal=2.0, target=0.0), Row(age=53.0, sex=1.0, cp=2.0, trestbps=130.0, chol=246.0, fbs=1.0, restecg=0.0, thalach=173.0, exang=0.0, oldpeak=0.0, slope=2.0, ca=3.0, thal=2.0, target=1.0), Row(age=58.0, sex=1.0, cp=2.0, trestbps=112.0, chol=230.0, fbs=0.0, restecg=0.0, thalach=165.0, exang=0.0, oldpeak=2.5, slope=1.0, ca=1.0, thal=3.0, target=0.0), Row(age=48.0, sex=1.0, cp=1.0, trestbps=110.0, chol=229.0, fbs=0.0, restecg=1.0, thalach=168.0, exang=0.0, oldpeak=1.0, slope=0.0, ca=0.0, thal=3.0, target=0.0), Row(age=58.0, sex=1.0, cp=2.0, trestbps=105.0, chol=240.0, fbs=0.0, restecg=0.0, thalach=154.0, exang=1.0, oldpeak=0.6, slope=1.0, ca=0.0, thal=3.0, target=1.0), Row(age=51.0, sex=1.0, cp=2.0, trestbps=110.0, chol=175.0, fbs=0.0, restecg=1.0, thalach=123.0, exang=0.0, oldpeak=0.6, slope=2.0, ca=0.0, thal=2.0, target=1.0), Row(age=43.0, sex=0.0, cp=0.0, trestbps=132.0, chol=341.0, fbs=1.0, restecg=0.0, thalach=136.0, exang=1.0, oldpeak=3.0, slope=1.0, ca=0.0, thal=3.0, target=0.0), Row(age=55.0, sex=1.0, cp=0.0, trestbps=132.0, chol=353.0, fbs=0.0, restecg=1.0, thalach=132.0, exang=1.0, oldpeak=1.2, slope=1.0, ca=1.0, thal=3.0, target=0.0), Row(age=54.0, sex=0.0, cp=2.0, trestbps=110.0, chol=214.0, fbs=0.0, restecg=1.0, thalach=158.0, exang=0.0, oldpeak=1.6, slope=1.0, ca=0.0, thal=2.0, target=1.0), Row(age=58.0, sex=1.0, cp=1.0, trestbps=120.0, chol=284.0, fbs=0.0, restecg=0.0, thalach=160.0, exang=0.0, oldpeak=1.8, slope=1.0, ca=0.0, thal=2.0, target=0.0), Row(age=46.0, sex=0.0, cp=2.0, trestbps=142.0, chol=177.0, fbs=0.0, restecg=0.0, thalach=160.0, exang=1.0, oldpeak=1.4, slope=0.0, ca=0.0, thal=2.0, target=1.0), Row(age=66.0, sex=1.0, cp=0.0, trestbps=160.0, chol=228.0, fbs=0.0, restecg=0.0, thalach=138.0, exang=0.0, oldpeak=2.3, slope=2.0, ca=0.0, thal=1.0, target=1.0), Row(age=59.0, sex=1.0, cp=1.0, trestbps=140.0, chol=221.0, fbs=0.0, restecg=1.0, thalach=164.0, exang=1.0, oldpeak=0.0, slope=2.0, ca=0.0, thal=2.0, target=1.0), Row(age=64.0, sex=0.0, cp=0.0, trestbps=130.0, chol=303.0, fbs=0.0, restecg=1.0, thalach=122.0, exang=0.0, oldpeak=2.0, slope=1.0, ca=2.0, thal=2.0, target=1.0), Row(age=67.0, sex=1.0, cp=0.0, trestbps=120.0, chol=237.0, fbs=0.0, restecg=1.0, thalach=71.0, exang=0.0, oldpeak=1.0, slope=1.0, ca=0.0, thal=2.0, target=0.0), Row(age=52.0, sex=1.0, cp=3.0, trestbps=118.0, chol=186.0, fbs=0.0, restecg=0.0, thalach=190.0, exang=0.0, oldpeak=0.0, slope=1.0, ca=0.0, thal=1.0, target=1.0), Row(age=58.0, sex=1.0, cp=0.0, trestbps=146.0, chol=218.0, fbs=0.0, restecg=1.0, thalach=105.0, exang=0.0, oldpeak=2.0, slope=1.0, ca=1.0, thal=3.0, target=0.0), Row(age=58.0, sex=1.0, cp=2.0, trestbps=132.0, chol=224.0, fbs=0.0, restecg=0.0, thalach=173.0, exang=0.0, oldpeak=3.2, slope=2.0, ca=2.0, thal=3.0, target=0.0), Row(age=59.0, sex=1.0, cp=0.0, trestbps=110.0, chol=239.0, fbs=0.0, restecg=0.0, thalach=142.0, exang=1.0, oldpeak=1.2, slope=1.0, ca=1.0, thal=3.0, target=0.0), Row(age=58.0, sex=1.0, cp=0.0, trestbps=150.0, chol=270.0, fbs=0.0, restecg=0.0, thalach=111.0, exang=1.0, oldpeak=0.8, slope=2.0, ca=0.0, thal=3.0, target=0.0), Row(age=35.0, sex=1.0, cp=0.0, trestbps=126.0, chol=282.0, fbs=0.0, restecg=0.0, thalach=156.0, exang=1.0, oldpeak=0.0, slope=2.0, ca=0.0, thal=3.0, target=0.0), Row(age=51.0, sex=1.0, cp=2.0, trestbps=110.0, chol=175.0, fbs=0.0, restecg=1.0, thalach=123.0, exang=0.0, oldpeak=0.6, slope=2.0, ca=0.0, thal=2.0, target=1.0), Row(age=42.0, sex=0.0, cp=2.0, trestbps=120.0, chol=209.0, fbs=0.0, restecg=1.0, thalach=173.0, exang=0.0, oldpeak=0.0, slope=1.0, ca=0.0, thal=2.0, target=1.0), Row(age=77.0, sex=1.0, cp=0.0, trestbps=125.0, chol=304.0, fbs=0.0, restecg=0.0, thalach=162.0, exang=1.0, oldpeak=0.0, slope=2.0, ca=3.0, thal=2.0, target=0.0), Row(age=64.0, sex=1.0, cp=0.0, trestbps=120.0, chol=246.0, fbs=0.0, restecg=0.0, thalach=96.0, exang=1.0, oldpeak=2.2, slope=0.0, ca=1.0, thal=2.0, target=0.0), Row(age=63.0, sex=1.0, cp=3.0, trestbps=145.0, chol=233.0, fbs=1.0, restecg=0.0, thalach=150.0, exang=0.0, oldpeak=2.3, slope=0.0, ca=0.0, thal=1.0, target=1.0), Row(age=58.0, sex=0.0, cp=1.0, trestbps=136.0, chol=319.0, fbs=1.0, restecg=0.0, thalach=152.0, exang=0.0, oldpeak=0.0, slope=2.0, ca=2.0, thal=2.0, target=0.0), Row(age=45.0, sex=1.0, cp=3.0, trestbps=110.0, chol=264.0, fbs=0.0, restecg=1.0, thalach=132.0, exang=0.0, oldpeak=1.2, slope=1.0, ca=0.0, thal=3.0, target=0.0), Row(age=51.0, sex=1.0, cp=2.0, trestbps=110.0, chol=175.0, fbs=0.0, restecg=1.0, thalach=123.0, exang=0.0, oldpeak=0.6, slope=2.0, ca=0.0, thal=2.0, target=1.0), Row(age=62.0, sex=0.0, cp=0.0, trestbps=160.0, chol=164.0, fbs=0.0, restecg=0.0, thalach=145.0, exang=0.0, oldpeak=6.2, slope=0.0, ca=3.0, thal=3.0, target=0.0), Row(age=63.0, sex=1.0, cp=0.0, trestbps=130.0, chol=330.0, fbs=1.0, restecg=0.0, thalach=132.0, exang=1.0, oldpeak=1.8, slope=2.0, ca=3.0, thal=3.0, target=0.0), Row(age=66.0, sex=0.0, cp=2.0, trestbps=146.0, chol=278.0, fbs=0.0, restecg=0.0, thalach=152.0, exang=0.0, oldpeak=0.0, slope=1.0, ca=1.0, thal=2.0, target=1.0), Row(age=68.0, sex=1.0, cp=2.0, trestbps=180.0, chol=274.0, fbs=1.0, restecg=0.0, thalach=150.0, exang=1.0, oldpeak=1.6, slope=1.0, ca=0.0, thal=3.0, target=0.0), Row(age=40.0, sex=1.0, cp=0.0, trestbps=110.0, chol=167.0, fbs=0.0, restecg=0.0, thalach=114.0, exang=1.0, oldpeak=2.0, slope=1.0, ca=0.0, thal=3.0, target=0.0), Row(age=66.0, sex=1.0, cp=0.0, trestbps=160.0, chol=228.0, fbs=0.0, restecg=0.0, thalach=138.0, exang=0.0, oldpeak=2.3, slope=2.0, ca=0.0, thal=1.0, target=1.0), Row(age=63.0, sex=1.0, cp=3.0, trestbps=145.0, chol=233.0, fbs=1.0, restecg=0.0, thalach=150.0, exang=0.0, oldpeak=2.3, slope=0.0, ca=0.0, thal=1.0, target=1.0), Row(age=49.0, sex=1.0, cp=2.0, trestbps=120.0, chol=188.0, fbs=0.0, restecg=1.0, thalach=139.0, exang=0.0, oldpeak=2.0, slope=1.0, ca=3.0, thal=3.0, target=0.0), Row(age=71.0, sex=0.0, cp=0.0, trestbps=112.0, chol=149.0, fbs=0.0, restecg=1.0, thalach=125.0, exang=0.0, oldpeak=1.6, slope=1.0, ca=0.0, thal=2.0, target=1.0), Row(age=70.0, sex=1.0, cp=1.0, trestbps=156.0, chol=245.0, fbs=0.0, restecg=0.0, thalach=143.0, exang=0.0, oldpeak=0.0, slope=2.0, ca=0.0, thal=2.0, target=1.0), Row(age=46.0, sex=0.0, cp=1.0, trestbps=105.0, chol=204.0, fbs=0.0, restecg=1.0, thalach=172.0, exang=0.0, oldpeak=0.0, slope=2.0, ca=0.0, thal=2.0, target=1.0), Row(age=61.0, sex=1.0, cp=0.0, trestbps=140.0, chol=207.0, fbs=0.0, restecg=0.0, thalach=138.0, exang=1.0, oldpeak=1.9, slope=2.0, ca=1.0, thal=3.0, target=0.0), Row(age=56.0, sex=1.0, cp=2.0, trestbps=130.0, chol=256.0, fbs=1.0, restecg=0.0, thalach=142.0, exang=1.0, oldpeak=0.6, slope=1.0, ca=1.0, thal=1.0, target=0.0), Row(age=58.0, sex=1.0, cp=2.0, trestbps=140.0, chol=211.0, fbs=1.0, restecg=0.0, thalach=165.0, exang=0.0, oldpeak=0.0, slope=2.0, ca=0.0, thal=2.0, target=1.0), Row(age=58.0, sex=1.0, cp=0.0, trestbps=100.0, chol=234.0, fbs=0.0, restecg=1.0, thalach=156.0, exang=0.0, oldpeak=0.1, slope=2.0, ca=1.0, thal=3.0, target=0.0), Row(age=46.0, sex=0.0, cp=0.0, trestbps=138.0, chol=243.0, fbs=0.0, restecg=0.0, thalach=152.0, exang=1.0, oldpeak=0.0, slope=1.0, ca=0.0, thal=2.0, target=1.0), Row(age=46.0, sex=1.0, cp=2.0, trestbps=150.0, chol=231.0, fbs=0.0, restecg=1.0, thalach=147.0, exang=0.0, oldpeak=3.6, slope=1.0, ca=0.0, thal=2.0, target=0.0), Row(age=41.0, sex=0.0, cp=1.0, trestbps=105.0, chol=198.0, fbs=0.0, restecg=1.0, thalach=168.0, exang=0.0, oldpeak=0.0, slope=2.0, ca=1.0, thal=2.0, target=1.0), Row(age=56.0, sex=1.0, cp=0.0, trestbps=125.0, chol=249.0, fbs=1.0, restecg=0.0, thalach=144.0, exang=1.0, oldpeak=1.2, slope=1.0, ca=1.0, thal=2.0, target=0.0), Row(age=57.0, sex=1.0, cp=0.0, trestbps=150.0, chol=276.0, fbs=0.0, restecg=0.0, thalach=112.0, exang=1.0, oldpeak=0.6, slope=1.0, ca=1.0, thal=1.0, target=0.0), Row(age=70.0, sex=1.0, cp=0.0, trestbps=130.0, chol=322.0, fbs=0.0, restecg=0.0, thalach=109.0, exang=0.0, oldpeak=2.4, slope=1.0, ca=3.0, thal=2.0, target=0.0), Row(age=59.0, sex=1.0, cp=3.0, trestbps=170.0, chol=288.0, fbs=0.0, restecg=0.0, thalach=159.0, exang=0.0, oldpeak=0.2, slope=1.0, ca=0.0, thal=3.0, target=0.0), Row(age=41.0, sex=0.0, cp=1.0, trestbps=130.0, chol=204.0, fbs=0.0, restecg=0.0, thalach=172.0, exang=0.0, oldpeak=1.4, slope=2.0, ca=0.0, thal=2.0, target=1.0), Row(age=54.0, sex=1.0, cp=2.0, trestbps=125.0, chol=273.0, fbs=0.0, restecg=0.0, thalach=152.0, exang=0.0, oldpeak=0.5, slope=0.0, ca=1.0, thal=2.0, target=1.0), Row(age=52.0, sex=1.0, cp=2.0, trestbps=138.0, chol=223.0, fbs=0.0, restecg=1.0, thalach=169.0, exang=0.0, oldpeak=0.0, slope=2.0, ca=4.0, thal=2.0, target=1.0), Row(age=62.0, sex=0.0, cp=0.0, trestbps=124.0, chol=209.0, fbs=0.0, restecg=1.0, thalach=163.0, exang=0.0, oldpeak=0.0, slope=2.0, ca=0.0, thal=2.0, target=1.0), Row(age=65.0, sex=0.0, cp=2.0, trestbps=160.0, chol=360.0, fbs=0.0, restecg=0.0, thalach=151.0, exang=0.0, oldpeak=0.8, slope=2.0, ca=0.0, thal=2.0, target=1.0), Row(age=57.0, sex=0.0, cp=0.0, trestbps=128.0, chol=303.0, fbs=0.0, restecg=0.0, thalach=159.0, exang=0.0, oldpeak=0.0, slope=2.0, ca=1.0, thal=2.0, target=1.0), Row(age=42.0, sex=0.0, cp=0.0, trestbps=102.0, chol=265.0, fbs=0.0, restecg=0.0, thalach=122.0, exang=0.0, oldpeak=0.6, slope=1.0, ca=0.0, thal=2.0, target=1.0), Row(age=57.0, sex=0.0, cp=0.0, trestbps=120.0, chol=354.0, fbs=0.0, restecg=1.0, thalach=163.0, exang=1.0, oldpeak=0.6, slope=2.0, ca=0.0, thal=2.0, target=1.0), Row(age=58.0, sex=0.0, cp=1.0, trestbps=136.0, chol=319.0, fbs=1.0, restecg=0.0, thalach=152.0, exang=0.0, oldpeak=0.0, slope=2.0, ca=2.0, thal=2.0, target=0.0), Row(age=45.0, sex=1.0, cp=0.0, trestbps=142.0, chol=309.0, fbs=0.0, restecg=0.0, thalach=147.0, exang=1.0, oldpeak=0.0, slope=1.0, ca=3.0, thal=3.0, target=0.0), Row(age=51.0, sex=0.0, cp=0.0, trestbps=130.0, chol=305.0, fbs=0.0, restecg=1.0, thalach=142.0, exang=1.0, oldpeak=1.2, slope=1.0, ca=0.0, thal=3.0, target=0.0), Row(age=54.0, sex=0.0, cp=2.0, trestbps=160.0, chol=201.0, fbs=0.0, restecg=1.0, thalach=163.0, exang=0.0, oldpeak=0.0, slope=2.0, ca=1.0, thal=2.0, target=1.0), Row(age=57.0, sex=1.0, cp=2.0, trestbps=150.0, chol=168.0, fbs=0.0, restecg=1.0, thalach=174.0, exang=0.0, oldpeak=1.6, slope=2.0, ca=0.0, thal=2.0, target=1.0), Row(age=43.0, sex=1.0, cp=0.0, trestbps=132.0, chol=247.0, fbs=1.0, restecg=0.0, thalach=143.0, exang=1.0, oldpeak=0.1, slope=1.0, ca=4.0, thal=3.0, target=0.0), Row(age=47.0, sex=1.0, cp=2.0, trestbps=108.0, chol=243.0, fbs=0.0, restecg=1.0, thalach=152.0, exang=0.0, oldpeak=0.0, slope=2.0, ca=0.0, thal=2.0, target=0.0), Row(age=67.0, sex=1.0, cp=2.0, trestbps=152.0, chol=212.0, fbs=0.0, restecg=0.0, thalach=150.0, exang=0.0, oldpeak=0.8, slope=1.0, ca=0.0, thal=3.0, target=0.0), Row(age=65.0, sex=0.0, cp=0.0, trestbps=150.0, chol=225.0, fbs=0.0, restecg=0.0, thalach=114.0, exang=0.0, oldpeak=1.0, slope=1.0, ca=3.0, thal=3.0, target=0.0), Row(age=60.0, sex=0.0, cp=2.0, trestbps=102.0, chol=318.0, fbs=0.0, restecg=1.0, thalach=160.0, exang=0.0, oldpeak=0.0, slope=2.0, ca=1.0, thal=2.0, target=1.0), Row(age=37.0, sex=1.0, cp=2.0, trestbps=130.0, chol=250.0, fbs=0.0, restecg=1.0, thalach=187.0, exang=0.0, oldpeak=3.5, slope=0.0, ca=0.0, thal=2.0, target=1.0), Row(age=41.0, sex=0.0, cp=2.0, trestbps=112.0, chol=268.0, fbs=0.0, restecg=0.0, thalach=172.0, exang=1.0, oldpeak=0.0, slope=2.0, ca=0.0, thal=2.0, target=1.0), Row(age=57.0, sex=0.0, cp=0.0, trestbps=120.0, chol=354.0, fbs=0.0, restecg=1.0, thalach=163.0, exang=1.0, oldpeak=0.6, slope=2.0, ca=0.0, thal=2.0, target=1.0), Row(age=59.0, sex=0.0, cp=0.0, trestbps=174.0, chol=249.0, fbs=0.0, restecg=1.0, thalach=143.0, exang=1.0, oldpeak=0.0, slope=1.0, ca=0.0, thal=2.0, target=0.0), Row(age=67.0, sex=1.0, cp=0.0, trestbps=120.0, chol=229.0, fbs=0.0, restecg=0.0, thalach=129.0, exang=1.0, oldpeak=2.6, slope=1.0, ca=2.0, thal=3.0, target=0.0), Row(age=47.0, sex=1.0, cp=2.0, trestbps=130.0, chol=253.0, fbs=0.0, restecg=1.0, thalach=179.0, exang=0.0, oldpeak=0.0, slope=2.0, ca=0.0, thal=2.0, target=1.0), Row(age=58.0, sex=1.0, cp=1.0, trestbps=120.0, chol=284.0, fbs=0.0, restecg=0.0, thalach=160.0, exang=0.0, oldpeak=1.8, slope=1.0, ca=0.0, thal=2.0, target=0.0), Row(age=62.0, sex=0.0, cp=0.0, trestbps=150.0, chol=244.0, fbs=0.0, restecg=1.0, thalach=154.0, exang=1.0, oldpeak=1.4, slope=1.0, ca=0.0, thal=2.0, target=0.0), Row(age=60.0, sex=1.0, cp=0.0, trestbps=140.0, chol=293.0, fbs=0.0, restecg=0.0, thalach=170.0, exang=0.0, oldpeak=1.2, slope=1.0, ca=2.0, thal=3.0, target=0.0), Row(age=57.0, sex=1.0, cp=0.0, trestbps=152.0, chol=274.0, fbs=0.0, restecg=1.0, thalach=88.0, exang=1.0, oldpeak=1.2, slope=1.0, ca=1.0, thal=3.0, target=0.0), Row(age=57.0, sex=1.0, cp=2.0, trestbps=150.0, chol=168.0, fbs=0.0, restecg=1.0, thalach=174.0, exang=0.0, oldpeak=1.6, slope=2.0, ca=0.0, thal=2.0, target=1.0), Row(age=47.0, sex=1.0, cp=2.0, trestbps=130.0, chol=253.0, fbs=0.0, restecg=1.0, thalach=179.0, exang=0.0, oldpeak=0.0, slope=2.0, ca=0.0, thal=2.0, target=1.0), Row(age=52.0, sex=1.0, cp=1.0, trestbps=128.0, chol=205.0, fbs=1.0, restecg=1.0, thalach=184.0, exang=0.0, oldpeak=0.0, slope=2.0, ca=0.0, thal=2.0, target=1.0), Row(age=53.0, sex=1.0, cp=2.0, trestbps=130.0, chol=246.0, fbs=1.0, restecg=0.0, thalach=173.0, exang=0.0, oldpeak=0.0, slope=2.0, ca=3.0, thal=2.0, target=1.0), Row(age=55.0, sex=1.0, cp=0.0, trestbps=160.0, chol=289.0, fbs=0.0, restecg=0.0, thalach=145.0, exang=1.0, oldpeak=0.8, slope=1.0, ca=1.0, thal=3.0, target=0.0), Row(age=51.0, sex=0.0, cp=2.0, trestbps=120.0, chol=295.0, fbs=0.0, restecg=0.0, thalach=157.0, exang=0.0, oldpeak=0.6, slope=2.0, ca=0.0, thal=2.0, target=1.0), Row(age=52.0, sex=1.0, cp=0.0, trestbps=112.0, chol=230.0, fbs=0.0, restecg=1.0, thalach=160.0, exang=0.0, oldpeak=0.0, slope=2.0, ca=1.0, thal=2.0, target=0.0), Row(age=63.0, sex=0.0, cp=0.0, trestbps=150.0, chol=407.0, fbs=0.0, restecg=0.0, thalach=154.0, exang=0.0, oldpeak=4.0, slope=1.0, ca=3.0, thal=3.0, target=0.0), Row(age=49.0, sex=0.0, cp=1.0, trestbps=134.0, chol=271.0, fbs=0.0, restecg=1.0, thalach=162.0, exang=0.0, oldpeak=0.0, slope=1.0, ca=0.0, thal=2.0, target=1.0), Row(age=66.0, sex=0.0, cp=0.0, trestbps=178.0, chol=228.0, fbs=1.0, restecg=1.0, thalach=165.0, exang=1.0, oldpeak=1.0, slope=1.0, ca=2.0, thal=3.0, target=0.0), Row(age=49.0, sex=0.0, cp=1.0, trestbps=134.0, chol=271.0, fbs=0.0, restecg=1.0, thalach=162.0, exang=0.0, oldpeak=0.0, slope=1.0, ca=0.0, thal=2.0, target=1.0), Row(age=65.0, sex=0.0, cp=0.0, trestbps=150.0, chol=225.0, fbs=0.0, restecg=0.0, thalach=114.0, exang=0.0, oldpeak=1.0, slope=1.0, ca=3.0, thal=3.0, target=0.0), Row(age=69.0, sex=1.0, cp=3.0, trestbps=160.0, chol=234.0, fbs=1.0, restecg=0.0, thalach=131.0, exang=0.0, oldpeak=0.1, slope=1.0, ca=1.0, thal=2.0, target=1.0), Row(age=47.0, sex=1.0, cp=2.0, trestbps=108.0, chol=243.0, fbs=0.0, restecg=1.0, thalach=152.0, exang=0.0, oldpeak=0.0, slope=2.0, ca=0.0, thal=2.0, target=0.0), Row(age=39.0, sex=0.0, cp=2.0, trestbps=138.0, chol=220.0, fbs=0.0, restecg=1.0, thalach=152.0, exang=0.0, oldpeak=0.0, slope=1.0, ca=0.0, thal=2.0, target=1.0), Row(age=43.0, sex=1.0, cp=0.0, trestbps=150.0, chol=247.0, fbs=0.0, restecg=1.0, thalach=171.0, exang=0.0, oldpeak=1.5, slope=2.0, ca=0.0, thal=2.0, target=1.0), Row(age=51.0, sex=1.0, cp=0.0, trestbps=140.0, chol=261.0, fbs=0.0, restecg=0.0, thalach=186.0, exang=1.0, oldpeak=0.0, slope=2.0, ca=0.0, thal=2.0, target=1.0), Row(age=69.0, sex=1.0, cp=2.0, trestbps=140.0, chol=254.0, fbs=0.0, restecg=0.0, thalach=146.0, exang=0.0, oldpeak=2.0, slope=1.0, ca=3.0, thal=3.0, target=0.0), Row(age=48.0, sex=1.0, cp=2.0, trestbps=124.0, chol=255.0, fbs=1.0, restecg=1.0, thalach=175.0, exang=0.0, oldpeak=0.0, slope=2.0, ca=2.0, thal=2.0, target=1.0), Row(age=52.0, sex=1.0, cp=3.0, trestbps=118.0, chol=186.0, fbs=0.0, restecg=0.0, thalach=190.0, exang=0.0, oldpeak=0.0, slope=1.0, ca=0.0, thal=1.0, target=1.0), Row(age=43.0, sex=1.0, cp=0.0, trestbps=110.0, chol=211.0, fbs=0.0, restecg=1.0, thalach=161.0, exang=0.0, oldpeak=0.0, slope=2.0, ca=0.0, thal=3.0, target=1.0), Row(age=67.0, sex=0.0, cp=2.0, trestbps=115.0, chol=564.0, fbs=0.0, restecg=0.0, thalach=160.0, exang=0.0, oldpeak=1.6, slope=1.0, ca=0.0, thal=3.0, target=1.0), Row(age=38.0, sex=1.0, cp=2.0, trestbps=138.0, chol=175.0, fbs=0.0, restecg=1.0, thalach=173.0, exang=0.0, oldpeak=0.0, slope=2.0, ca=4.0, thal=2.0, target=1.0), Row(age=44.0, sex=1.0, cp=1.0, trestbps=130.0, chol=219.0, fbs=0.0, restecg=0.0, thalach=188.0, exang=0.0, oldpeak=0.0, slope=2.0, ca=0.0, thal=2.0, target=1.0), Row(age=47.0, sex=1.0, cp=0.0, trestbps=110.0, chol=275.0, fbs=0.0, restecg=0.0, thalach=118.0, exang=1.0, oldpeak=1.0, slope=1.0, ca=1.0, thal=2.0, target=0.0), Row(age=61.0, sex=1.0, cp=2.0, trestbps=150.0, chol=243.0, fbs=1.0, restecg=1.0, thalach=137.0, exang=1.0, oldpeak=1.0, slope=1.0, ca=0.0, thal=2.0, target=1.0), Row(age=67.0, sex=1.0, cp=0.0, trestbps=160.0, chol=286.0, fbs=0.0, restecg=0.0, thalach=108.0, exang=1.0, oldpeak=1.5, slope=1.0, ca=3.0, thal=2.0, target=0.0), Row(age=60.0, sex=0.0, cp=3.0, trestbps=150.0, chol=240.0, fbs=0.0, restecg=1.0, thalach=171.0, exang=0.0, oldpeak=0.9, slope=2.0, ca=0.0, thal=2.0, target=1.0), Row(age=64.0, sex=0.0, cp=2.0, trestbps=140.0, chol=313.0, fbs=0.0, restecg=1.0, thalach=133.0, exang=0.0, oldpeak=0.2, slope=2.0, ca=0.0, thal=3.0, target=1.0), Row(age=58.0, sex=0.0, cp=0.0, trestbps=130.0, chol=197.0, fbs=0.0, restecg=1.0, thalach=131.0, exang=0.0, oldpeak=0.6, slope=1.0, ca=0.0, thal=2.0, target=1.0), Row(age=41.0, sex=1.0, cp=2.0, trestbps=130.0, chol=214.0, fbs=0.0, restecg=0.0, thalach=168.0, exang=0.0, oldpeak=2.0, slope=1.0, ca=0.0, thal=2.0, target=1.0), Row(age=48.0, sex=1.0, cp=1.0, trestbps=110.0, chol=229.0, fbs=0.0, restecg=1.0, thalach=168.0, exang=0.0, oldpeak=1.0, slope=0.0, ca=0.0, thal=3.0, target=0.0), Row(age=57.0, sex=1.0, cp=2.0, trestbps=150.0, chol=126.0, fbs=1.0, restecg=1.0, thalach=173.0, exang=0.0, oldpeak=0.2, slope=2.0, ca=1.0, thal=3.0, target=1.0), Row(age=57.0, sex=1.0, cp=0.0, trestbps=165.0, chol=289.0, fbs=1.0, restecg=0.0, thalach=124.0, exang=0.0, oldpeak=1.0, slope=1.0, ca=3.0, thal=3.0, target=0.0), Row(age=57.0, sex=1.0, cp=2.0, trestbps=128.0, chol=229.0, fbs=0.0, restecg=0.0, thalach=150.0, exang=0.0, oldpeak=0.4, slope=1.0, ca=1.0, thal=3.0, target=0.0), Row(age=39.0, sex=1.0, cp=2.0, trestbps=140.0, chol=321.0, fbs=0.0, restecg=0.0, thalach=182.0, exang=0.0, oldpeak=0.0, slope=2.0, ca=0.0, thal=2.0, target=1.0), Row(age=58.0, sex=1.0, cp=0.0, trestbps=128.0, chol=216.0, fbs=0.0, restecg=0.0, thalach=131.0, exang=1.0, oldpeak=2.2, slope=1.0, ca=3.0, thal=3.0, target=0.0), Row(age=51.0, sex=0.0, cp=0.0, trestbps=130.0, chol=305.0, fbs=0.0, restecg=1.0, thalach=142.0, exang=1.0, oldpeak=1.2, slope=1.0, ca=0.0, thal=3.0, target=0.0), Row(age=63.0, sex=0.0, cp=0.0, trestbps=150.0, chol=407.0, fbs=0.0, restecg=0.0, thalach=154.0, exang=0.0, oldpeak=4.0, slope=1.0, ca=3.0, thal=3.0, target=0.0), Row(age=51.0, sex=1.0, cp=0.0, trestbps=140.0, chol=298.0, fbs=0.0, restecg=1.0, thalach=122.0, exang=1.0, oldpeak=4.2, slope=1.0, ca=3.0, thal=3.0, target=0.0), Row(age=35.0, sex=1.0, cp=1.0, trestbps=122.0, chol=192.0, fbs=0.0, restecg=1.0, thalach=174.0, exang=0.0, oldpeak=0.0, slope=2.0, ca=0.0, thal=2.0, target=1.0), Row(age=65.0, sex=1.0, cp=0.0, trestbps=110.0, chol=248.0, fbs=0.0, restecg=0.0, thalach=158.0, exang=0.0, oldpeak=0.6, slope=2.0, ca=2.0, thal=1.0, target=0.0), Row(age=62.0, sex=1.0, cp=1.0, trestbps=120.0, chol=281.0, fbs=0.0, restecg=0.0, thalach=103.0, exang=0.0, oldpeak=1.4, slope=1.0, ca=1.0, thal=3.0, target=0.0), Row(age=41.0, sex=1.0, cp=0.0, trestbps=110.0, chol=172.0, fbs=0.0, restecg=0.0, thalach=158.0, exang=0.0, oldpeak=0.0, slope=2.0, ca=0.0, thal=3.0, target=0.0), Row(age=65.0, sex=1.0, cp=0.0, trestbps=135.0, chol=254.0, fbs=0.0, restecg=0.0, thalach=127.0, exang=0.0, oldpeak=2.8, slope=1.0, ca=1.0, thal=3.0, target=0.0), Row(age=54.0, sex=0.0, cp=1.0, trestbps=132.0, chol=288.0, fbs=1.0, restecg=0.0, thalach=159.0, exang=1.0, oldpeak=0.0, slope=2.0, ca=1.0, thal=2.0, target=1.0), Row(age=61.0, sex=1.0, cp=2.0, trestbps=150.0, chol=243.0, fbs=1.0, restecg=1.0, thalach=137.0, exang=1.0, oldpeak=1.0, slope=1.0, ca=0.0, thal=2.0, target=1.0), Row(age=57.0, sex=0.0, cp=0.0, trestbps=128.0, chol=303.0, fbs=0.0, restecg=0.0, thalach=159.0, exang=0.0, oldpeak=0.0, slope=2.0, ca=1.0, thal=2.0, target=1.0), Row(age=57.0, sex=1.0, cp=2.0, trestbps=150.0, chol=168.0, fbs=0.0, restecg=1.0, thalach=174.0, exang=0.0, oldpeak=1.6, slope=2.0, ca=0.0, thal=2.0, target=1.0), Row(age=64.0, sex=1.0, cp=2.0, trestbps=125.0, chol=309.0, fbs=0.0, restecg=1.0, thalach=131.0, exang=1.0, oldpeak=1.8, slope=1.0, ca=0.0, thal=3.0, target=0.0), Row(age=55.0, sex=1.0, cp=0.0, trestbps=132.0, chol=353.0, fbs=0.0, restecg=1.0, thalach=132.0, exang=1.0, oldpeak=1.2, slope=1.0, ca=1.0, thal=3.0, target=0.0), Row(age=51.0, sex=1.0, cp=2.0, trestbps=125.0, chol=245.0, fbs=1.0, restecg=0.0, thalach=166.0, exang=0.0, oldpeak=2.4, slope=1.0, ca=0.0, thal=2.0, target=1.0), Row(age=59.0, sex=1.0, cp=0.0, trestbps=135.0, chol=234.0, fbs=0.0, restecg=1.0, thalach=161.0, exang=0.0, oldpeak=0.5, slope=1.0, ca=0.0, thal=3.0, target=1.0), Row(age=68.0, sex=1.0, cp=2.0, trestbps=180.0, chol=274.0, fbs=1.0, restecg=0.0, thalach=150.0, exang=1.0, oldpeak=1.6, slope=1.0, ca=0.0, thal=3.0, target=0.0), Row(age=57.0, sex=1.0, cp=1.0, trestbps=154.0, chol=232.0, fbs=0.0, restecg=0.0, thalach=164.0, exang=0.0, oldpeak=0.0, slope=2.0, ca=1.0, thal=2.0, target=0.0), Row(age=54.0, sex=1.0, cp=0.0, trestbps=140.0, chol=239.0, fbs=0.0, restecg=1.0, thalach=160.0, exang=0.0, oldpeak=1.2, slope=2.0, ca=0.0, thal=2.0, target=1.0), Row(age=46.0, sex=0.0, cp=2.0, trestbps=142.0, chol=177.0, fbs=0.0, restecg=0.0, thalach=160.0, exang=1.0, oldpeak=1.4, slope=0.0, ca=0.0, thal=2.0, target=1.0), Row(age=71.0, sex=0.0, cp=0.0, trestbps=112.0, chol=149.0, fbs=0.0, restecg=1.0, thalach=125.0, exang=0.0, oldpeak=1.6, slope=1.0, ca=0.0, thal=2.0, target=1.0), Row(age=35.0, sex=0.0, cp=0.0, trestbps=138.0, chol=183.0, fbs=0.0, restecg=1.0, thalach=182.0, exang=0.0, oldpeak=1.4, slope=2.0, ca=0.0, thal=2.0, target=1.0), Row(age=46.0, sex=0.0, cp=2.0, trestbps=142.0, chol=177.0, fbs=0.0, restecg=0.0, thalach=160.0, exang=1.0, oldpeak=1.4, slope=0.0, ca=0.0, thal=2.0, target=1.0), Row(age=45.0, sex=0.0, cp=1.0, trestbps=130.0, chol=234.0, fbs=0.0, restecg=0.0, thalach=175.0, exang=0.0, oldpeak=0.6, slope=1.0, ca=0.0, thal=2.0, target=1.0), Row(age=47.0, sex=1.0, cp=2.0, trestbps=108.0, chol=243.0, fbs=0.0, restecg=1.0, thalach=152.0, exang=0.0, oldpeak=0.0, slope=2.0, ca=0.0, thal=2.0, target=0.0), Row(age=44.0, sex=0.0, cp=2.0, trestbps=118.0, chol=242.0, fbs=0.0, restecg=1.0, thalach=149.0, exang=0.0, oldpeak=0.3, slope=1.0, ca=1.0, thal=2.0, target=1.0), Row(age=61.0, sex=1.0, cp=0.0, trestbps=120.0, chol=260.0, fbs=0.0, restecg=1.0, thalach=140.0, exang=1.0, oldpeak=3.6, slope=1.0, ca=1.0, thal=3.0, target=0.0), Row(age=41.0, sex=0.0, cp=1.0, trestbps=130.0, chol=204.0, fbs=0.0, restecg=0.0, thalach=172.0, exang=0.0, oldpeak=1.4, slope=2.0, ca=0.0, thal=2.0, target=1.0), Row(age=56.0, sex=0.0, cp=0.0, trestbps=200.0, chol=288.0, fbs=1.0, restecg=0.0, thalach=133.0, exang=1.0, oldpeak=4.0, slope=0.0, ca=2.0, thal=3.0, target=0.0), Row(age=55.0, sex=0.0, cp=0.0, trestbps=180.0, chol=327.0, fbs=0.0, restecg=2.0, thalach=117.0, exang=1.0, oldpeak=3.4, slope=1.0, ca=0.0, thal=2.0, target=0.0), Row(age=54.0, sex=0.0, cp=1.0, trestbps=132.0, chol=288.0, fbs=1.0, restecg=0.0, thalach=159.0, exang=1.0, oldpeak=0.0, slope=2.0, ca=1.0, thal=2.0, target=1.0), Row(age=43.0, sex=1.0, cp=0.0, trestbps=120.0, chol=177.0, fbs=0.0, restecg=0.0, thalach=120.0, exang=1.0, oldpeak=2.5, slope=1.0, ca=0.0, thal=3.0, target=0.0), Row(age=44.0, sex=1.0, cp=0.0, trestbps=112.0, chol=290.0, fbs=0.0, restecg=0.0, thalach=153.0, exang=0.0, oldpeak=0.0, slope=2.0, ca=1.0, thal=2.0, target=0.0), Row(age=54.0, sex=1.0, cp=0.0, trestbps=110.0, chol=206.0, fbs=0.0, restecg=0.0, thalach=108.0, exang=1.0, oldpeak=0.0, slope=1.0, ca=1.0, thal=2.0, target=0.0), Row(age=44.0, sex=1.0, cp=1.0, trestbps=120.0, chol=220.0, fbs=0.0, restecg=1.0, thalach=170.0, exang=0.0, oldpeak=0.0, slope=2.0, ca=0.0, thal=2.0, target=1.0), Row(age=49.0, sex=1.0, cp=2.0, trestbps=120.0, chol=188.0, fbs=0.0, restecg=1.0, thalach=139.0, exang=0.0, oldpeak=2.0, slope=1.0, ca=3.0, thal=3.0, target=0.0), Row(age=60.0, sex=1.0, cp=0.0, trestbps=130.0, chol=206.0, fbs=0.0, restecg=0.0, thalach=132.0, exang=1.0, oldpeak=2.4, slope=1.0, ca=2.0, thal=3.0, target=0.0), Row(age=41.0, sex=0.0, cp=1.0, trestbps=105.0, chol=198.0, fbs=0.0, restecg=1.0, thalach=168.0, exang=0.0, oldpeak=0.0, slope=2.0, ca=1.0, thal=2.0, target=1.0), Row(age=49.0, sex=1.0, cp=2.0, trestbps=120.0, chol=188.0, fbs=0.0, restecg=1.0, thalach=139.0, exang=0.0, oldpeak=2.0, slope=1.0, ca=3.0, thal=3.0, target=0.0), Row(age=61.0, sex=1.0, cp=0.0, trestbps=148.0, chol=203.0, fbs=0.0, restecg=1.0, thalach=161.0, exang=0.0, oldpeak=0.0, slope=2.0, ca=1.0, thal=3.0, target=0.0), Row(age=59.0, sex=1.0, cp=0.0, trestbps=140.0, chol=177.0, fbs=0.0, restecg=1.0, thalach=162.0, exang=1.0, oldpeak=0.0, slope=2.0, ca=1.0, thal=3.0, target=0.0), Row(age=58.0, sex=1.0, cp=1.0, trestbps=125.0, chol=220.0, fbs=0.0, restecg=1.0, thalach=144.0, exang=0.0, oldpeak=0.4, slope=1.0, ca=4.0, thal=3.0, target=1.0), Row(age=67.0, sex=0.0, cp=2.0, trestbps=152.0, chol=277.0, fbs=0.0, restecg=1.0, thalach=172.0, exang=0.0, oldpeak=0.0, slope=2.0, ca=1.0, thal=2.0, target=1.0), Row(age=61.0, sex=1.0, cp=0.0, trestbps=148.0, chol=203.0, fbs=0.0, restecg=1.0, thalach=161.0, exang=0.0, oldpeak=0.0, slope=2.0, ca=1.0, thal=3.0, target=0.0), Row(age=58.0, sex=1.0, cp=2.0, trestbps=112.0, chol=230.0, fbs=0.0, restecg=0.0, thalach=165.0, exang=0.0, oldpeak=2.5, slope=1.0, ca=1.0, thal=3.0, target=0.0), Row(age=51.0, sex=0.0, cp=2.0, trestbps=130.0, chol=256.0, fbs=0.0, restecg=0.0, thalach=149.0, exang=0.0, oldpeak=0.5, slope=2.0, ca=0.0, thal=2.0, target=1.0), Row(age=62.0, sex=0.0, cp=0.0, trestbps=160.0, chol=164.0, fbs=0.0, restecg=0.0, thalach=145.0, exang=0.0, oldpeak=6.2, slope=0.0, ca=3.0, thal=3.0, target=0.0), Row(age=62.0, sex=0.0, cp=0.0, trestbps=124.0, chol=209.0, fbs=0.0, restecg=1.0, thalach=163.0, exang=0.0, oldpeak=0.0, slope=2.0, ca=0.0, thal=2.0, target=1.0), Row(age=59.0, sex=1.0, cp=3.0, trestbps=178.0, chol=270.0, fbs=0.0, restecg=0.0, thalach=145.0, exang=0.0, oldpeak=4.2, slope=0.0, ca=0.0, thal=3.0, target=1.0), Row(age=69.0, sex=1.0, cp=3.0, trestbps=160.0, chol=234.0, fbs=1.0, restecg=0.0, thalach=131.0, exang=0.0, oldpeak=0.1, slope=1.0, ca=1.0, thal=2.0, target=1.0), Row(age=60.0, sex=0.0, cp=0.0, trestbps=150.0, chol=258.0, fbs=0.0, restecg=0.0, thalach=157.0, exang=0.0, oldpeak=2.6, slope=1.0, ca=2.0, thal=3.0, target=0.0), Row(age=65.0, sex=0.0, cp=2.0, trestbps=155.0, chol=269.0, fbs=0.0, restecg=1.0, thalach=148.0, exang=0.0, oldpeak=0.8, slope=2.0, ca=0.0, thal=2.0, target=1.0), Row(age=63.0, sex=0.0, cp=0.0, trestbps=124.0, chol=197.0, fbs=0.0, restecg=1.0, thalach=136.0, exang=1.0, oldpeak=0.0, slope=1.0, ca=0.0, thal=2.0, target=0.0), Row(age=53.0, sex=0.0, cp=0.0, trestbps=138.0, chol=234.0, fbs=0.0, restecg=0.0, thalach=160.0, exang=0.0, oldpeak=0.0, slope=2.0, ca=0.0, thal=2.0, target=1.0), Row(age=54.0, sex=0.0, cp=2.0, trestbps=108.0, chol=267.0, fbs=0.0, restecg=0.0, thalach=167.0, exang=0.0, oldpeak=0.0, slope=2.0, ca=0.0, thal=2.0, target=1.0), Row(age=76.0, sex=0.0, cp=2.0, trestbps=140.0, chol=197.0, fbs=0.0, restecg=2.0, thalach=116.0, exang=0.0, oldpeak=1.1, slope=1.0, ca=0.0, thal=2.0, target=1.0), Row(age=50.0, sex=0.0, cp=2.0, trestbps=120.0, chol=219.0, fbs=0.0, restecg=1.0, thalach=158.0, exang=0.0, oldpeak=1.6, slope=1.0, ca=0.0, thal=2.0, target=1.0), Row(age=52.0, sex=1.0, cp=1.0, trestbps=120.0, chol=325.0, fbs=0.0, restecg=1.0, thalach=172.0, exang=0.0, oldpeak=0.2, slope=2.0, ca=0.0, thal=2.0, target=1.0), Row(age=46.0, sex=1.0, cp=0.0, trestbps=120.0, chol=249.0, fbs=0.0, restecg=0.0, thalach=144.0, exang=0.0, oldpeak=0.8, slope=2.0, ca=0.0, thal=3.0, target=0.0), Row(age=64.0, sex=1.0, cp=3.0, trestbps=170.0, chol=227.0, fbs=0.0, restecg=0.0, thalach=155.0, exang=0.0, oldpeak=0.6, slope=1.0, ca=0.0, thal=3.0, target=1.0), Row(age=58.0, sex=1.0, cp=0.0, trestbps=128.0, chol=259.0, fbs=0.0, restecg=0.0, thalach=130.0, exang=1.0, oldpeak=3.0, slope=1.0, ca=2.0, thal=3.0, target=0.0), Row(age=44.0, sex=1.0, cp=2.0, trestbps=140.0, chol=235.0, fbs=0.0, restecg=0.0, thalach=180.0, exang=0.0, oldpeak=0.0, slope=2.0, ca=0.0, thal=2.0, target=1.0), Row(age=62.0, sex=0.0, cp=0.0, trestbps=140.0, chol=394.0, fbs=0.0, restecg=0.0, thalach=157.0, exang=0.0, oldpeak=1.2, slope=1.0, ca=0.0, thal=2.0, target=1.0), Row(age=59.0, sex=1.0, cp=3.0, trestbps=134.0, chol=204.0, fbs=0.0, restecg=1.0, thalach=162.0, exang=0.0, oldpeak=0.8, slope=2.0, ca=2.0, thal=2.0, target=0.0), Row(age=54.0, sex=1.0, cp=2.0, trestbps=125.0, chol=273.0, fbs=0.0, restecg=0.0, thalach=152.0, exang=0.0, oldpeak=0.5, slope=0.0, ca=1.0, thal=2.0, target=1.0), Row(age=48.0, sex=1.0, cp=1.0, trestbps=110.0, chol=229.0, fbs=0.0, restecg=1.0, thalach=168.0, exang=0.0, oldpeak=1.0, slope=0.0, ca=0.0, thal=3.0, target=0.0), Row(age=70.0, sex=1.0, cp=0.0, trestbps=130.0, chol=322.0, fbs=0.0, restecg=0.0, thalach=109.0, exang=0.0, oldpeak=2.4, slope=1.0, ca=3.0, thal=2.0, target=0.0), Row(age=67.0, sex=0.0, cp=0.0, trestbps=106.0, chol=223.0, fbs=0.0, restecg=1.0, thalach=142.0, exang=0.0, oldpeak=0.3, slope=2.0, ca=2.0, thal=2.0, target=1.0), Row(age=51.0, sex=0.0, cp=2.0, trestbps=120.0, chol=295.0, fbs=0.0, restecg=0.0, thalach=157.0, exang=0.0, oldpeak=0.6, slope=2.0, ca=0.0, thal=2.0, target=1.0), Row(age=68.0, sex=1.0, cp=2.0, trestbps=118.0, chol=277.0, fbs=0.0, restecg=1.0, thalach=151.0, exang=0.0, oldpeak=1.0, slope=2.0, ca=1.0, thal=3.0, target=1.0), Row(age=69.0, sex=1.0, cp=2.0, trestbps=140.0, chol=254.0, fbs=0.0, restecg=0.0, thalach=146.0, exang=0.0, oldpeak=2.0, slope=1.0, ca=3.0, thal=3.0, target=0.0), Row(age=54.0, sex=1.0, cp=0.0, trestbps=122.0, chol=286.0, fbs=0.0, restecg=0.0, thalach=116.0, exang=1.0, oldpeak=3.2, slope=1.0, ca=2.0, thal=2.0, target=0.0), Row(age=43.0, sex=0.0, cp=0.0, trestbps=132.0, chol=341.0, fbs=1.0, restecg=0.0, thalach=136.0, exang=1.0, oldpeak=3.0, slope=1.0, ca=0.0, thal=3.0, target=0.0), Row(age=53.0, sex=1.0, cp=2.0, trestbps=130.0, chol=197.0, fbs=1.0, restecg=0.0, thalach=152.0, exang=0.0, oldpeak=1.2, slope=0.0, ca=0.0, thal=2.0, target=1.0), Row(age=58.0, sex=1.0, cp=0.0, trestbps=100.0, chol=234.0, fbs=0.0, restecg=1.0, thalach=156.0, exang=0.0, oldpeak=0.1, slope=2.0, ca=1.0, thal=3.0, target=0.0), Row(age=67.0, sex=1.0, cp=0.0, trestbps=125.0, chol=254.0, fbs=1.0, restecg=1.0, thalach=163.0, exang=0.0, oldpeak=0.2, slope=1.0, ca=2.0, thal=3.0, target=0.0), Row(age=59.0, sex=1.0, cp=0.0, trestbps=140.0, chol=177.0, fbs=0.0, restecg=1.0, thalach=162.0, exang=1.0, oldpeak=0.0, slope=2.0, ca=1.0, thal=3.0, target=0.0), Row(age=48.0, sex=1.0, cp=0.0, trestbps=122.0, chol=222.0, fbs=0.0, restecg=0.0, thalach=186.0, exang=0.0, oldpeak=0.0, slope=2.0, ca=0.0, thal=2.0, target=1.0), Row(age=39.0, sex=0.0, cp=2.0, trestbps=94.0, chol=199.0, fbs=0.0, restecg=1.0, thalach=179.0, exang=0.0, oldpeak=0.0, slope=2.0, ca=0.0, thal=2.0, target=1.0), Row(age=67.0, sex=1.0, cp=0.0, trestbps=120.0, chol=237.0, fbs=0.0, restecg=1.0, thalach=71.0, exang=0.0, oldpeak=1.0, slope=1.0, ca=0.0, thal=2.0, target=0.0), Row(age=58.0, sex=0.0, cp=0.0, trestbps=130.0, chol=197.0, fbs=0.0, restecg=1.0, thalach=131.0, exang=0.0, oldpeak=0.6, slope=1.0, ca=0.0, thal=2.0, target=1.0), Row(age=65.0, sex=0.0, cp=2.0, trestbps=155.0, chol=269.0, fbs=0.0, restecg=1.0, thalach=148.0, exang=0.0, oldpeak=0.8, slope=2.0, ca=0.0, thal=2.0, target=1.0), Row(age=42.0, sex=0.0, cp=2.0, trestbps=120.0, chol=209.0, fbs=0.0, restecg=1.0, thalach=173.0, exang=0.0, oldpeak=0.0, slope=1.0, ca=0.0, thal=2.0, target=1.0), Row(age=44.0, sex=1.0, cp=0.0, trestbps=112.0, chol=290.0, fbs=0.0, restecg=0.0, thalach=153.0, exang=0.0, oldpeak=0.0, slope=2.0, ca=1.0, thal=2.0, target=0.0), Row(age=56.0, sex=1.0, cp=0.0, trestbps=132.0, chol=184.0, fbs=0.0, restecg=0.0, thalach=105.0, exang=1.0, oldpeak=2.1, slope=1.0, ca=1.0, thal=1.0, target=0.0), Row(age=53.0, sex=0.0, cp=0.0, trestbps=138.0, chol=234.0, fbs=0.0, restecg=0.0, thalach=160.0, exang=0.0, oldpeak=0.0, slope=2.0, ca=0.0, thal=2.0, target=1.0), Row(age=50.0, sex=0.0, cp=0.0, trestbps=110.0, chol=254.0, fbs=0.0, restecg=0.0, thalach=159.0, exang=0.0, oldpeak=0.0, slope=2.0, ca=0.0, thal=2.0, target=1.0), Row(age=41.0, sex=1.0, cp=2.0, trestbps=130.0, chol=214.0, fbs=0.0, restecg=0.0, thalach=168.0, exang=0.0, oldpeak=2.0, slope=1.0, ca=0.0, thal=2.0, target=1.0), Row(age=54.0, sex=0.0, cp=2.0, trestbps=160.0, chol=201.0, fbs=0.0, restecg=1.0, thalach=163.0, exang=0.0, oldpeak=0.0, slope=2.0, ca=1.0, thal=2.0, target=1.0), Row(age=42.0, sex=1.0, cp=2.0, trestbps=120.0, chol=240.0, fbs=1.0, restecg=1.0, thalach=194.0, exang=0.0, oldpeak=0.8, slope=0.0, ca=0.0, thal=3.0, target=1.0), Row(age=54.0, sex=0.0, cp=2.0, trestbps=135.0, chol=304.0, fbs=1.0, restecg=1.0, thalach=170.0, exang=0.0, oldpeak=0.0, slope=2.0, ca=0.0, thal=2.0, target=1.0), Row(age=60.0, sex=1.0, cp=0.0, trestbps=145.0, chol=282.0, fbs=0.0, restecg=0.0, thalach=142.0, exang=1.0, oldpeak=2.8, slope=1.0, ca=2.0, thal=3.0, target=0.0), Row(age=34.0, sex=1.0, cp=3.0, trestbps=118.0, chol=182.0, fbs=0.0, restecg=0.0, thalach=174.0, exang=0.0, oldpeak=0.0, slope=2.0, ca=0.0, thal=2.0, target=1.0), Row(age=44.0, sex=1.0, cp=0.0, trestbps=112.0, chol=290.0, fbs=0.0, restecg=0.0, thalach=153.0, exang=0.0, oldpeak=0.0, slope=2.0, ca=1.0, thal=2.0, target=0.0), Row(age=60.0, sex=1.0, cp=0.0, trestbps=125.0, chol=258.0, fbs=0.0, restecg=0.0, thalach=141.0, exang=1.0, oldpeak=2.8, slope=1.0, ca=1.0, thal=3.0, target=0.0), Row(age=43.0, sex=1.0, cp=0.0, trestbps=150.0, chol=247.0, fbs=0.0, restecg=1.0, thalach=171.0, exang=0.0, oldpeak=1.5, slope=2.0, ca=0.0, thal=2.0, target=1.0), Row(age=52.0, sex=1.0, cp=3.0, trestbps=152.0, chol=298.0, fbs=1.0, restecg=1.0, thalach=178.0, exang=0.0, oldpeak=1.2, slope=1.0, ca=0.0, thal=3.0, target=1.0), Row(age=70.0, sex=1.0, cp=0.0, trestbps=130.0, chol=322.0, fbs=0.0, restecg=0.0, thalach=109.0, exang=0.0, oldpeak=2.4, slope=1.0, ca=3.0, thal=2.0, target=0.0), Row(age=62.0, sex=0.0, cp=0.0, trestbps=140.0, chol=394.0, fbs=0.0, restecg=0.0, thalach=157.0, exang=0.0, oldpeak=1.2, slope=1.0, ca=0.0, thal=2.0, target=1.0), Row(age=58.0, sex=1.0, cp=0.0, trestbps=146.0, chol=218.0, fbs=0.0, restecg=1.0, thalach=105.0, exang=0.0, oldpeak=2.0, slope=1.0, ca=1.0, thal=3.0, target=0.0), Row(age=46.0, sex=1.0, cp=1.0, trestbps=101.0, chol=197.0, fbs=1.0, restecg=1.0, thalach=156.0, exang=0.0, oldpeak=0.0, slope=2.0, ca=0.0, thal=3.0, target=1.0), Row(age=44.0, sex=1.0, cp=2.0, trestbps=140.0, chol=235.0, fbs=0.0, restecg=0.0, thalach=180.0, exang=0.0, oldpeak=0.0, slope=2.0, ca=0.0, thal=2.0, target=1.0), Row(age=55.0, sex=1.0, cp=1.0, trestbps=130.0, chol=262.0, fbs=0.0, restecg=1.0, thalach=155.0, exang=0.0, oldpeak=0.0, slope=2.0, ca=0.0, thal=2.0, target=1.0), Row(age=43.0, sex=1.0, cp=0.0, trestbps=120.0, chol=177.0, fbs=0.0, restecg=0.0, thalach=120.0, exang=1.0, oldpeak=2.5, slope=1.0, ca=0.0, thal=3.0, target=0.0), Row(age=55.0, sex=1.0, cp=0.0, trestbps=132.0, chol=353.0, fbs=0.0, restecg=1.0, thalach=132.0, exang=1.0, oldpeak=1.2, slope=1.0, ca=1.0, thal=3.0, target=0.0), Row(age=40.0, sex=1.0, cp=3.0, trestbps=140.0, chol=199.0, fbs=0.0, restecg=1.0, thalach=178.0, exang=1.0, oldpeak=1.4, slope=2.0, ca=0.0, thal=3.0, target=1.0), Row(age=64.0, sex=1.0, cp=2.0, trestbps=125.0, chol=309.0, fbs=0.0, restecg=1.0, thalach=131.0, exang=1.0, oldpeak=1.8, slope=1.0, ca=0.0, thal=3.0, target=0.0), Row(age=59.0, sex=1.0, cp=0.0, trestbps=164.0, chol=176.0, fbs=1.0, restecg=0.0, thalach=90.0, exang=0.0, oldpeak=1.0, slope=1.0, ca=2.0, thal=1.0, target=0.0), Row(age=61.0, sex=0.0, cp=0.0, trestbps=145.0, chol=307.0, fbs=0.0, restecg=0.0, thalach=146.0, exang=1.0, oldpeak=1.0, slope=1.0, ca=0.0, thal=3.0, target=0.0), Row(age=54.0, sex=1.0, cp=0.0, trestbps=122.0, chol=286.0, fbs=0.0, restecg=0.0, thalach=116.0, exang=1.0, oldpeak=3.2, slope=1.0, ca=2.0, thal=2.0, target=0.0), Row(age=74.0, sex=0.0, cp=1.0, trestbps=120.0, chol=269.0, fbs=0.0, restecg=0.0, thalach=121.0, exang=1.0, oldpeak=0.2, slope=2.0, ca=1.0, thal=2.0, target=1.0), Row(age=63.0, sex=0.0, cp=0.0, trestbps=108.0, chol=269.0, fbs=0.0, restecg=1.0, thalach=169.0, exang=1.0, oldpeak=1.8, slope=1.0, ca=2.0, thal=2.0, target=0.0), Row(age=70.0, sex=1.0, cp=2.0, trestbps=160.0, chol=269.0, fbs=0.0, restecg=1.0, thalach=112.0, exang=1.0, oldpeak=2.9, slope=1.0, ca=1.0, thal=3.0, target=0.0), Row(age=63.0, sex=0.0, cp=0.0, trestbps=108.0, chol=269.0, fbs=0.0, restecg=1.0, thalach=169.0, exang=1.0, oldpeak=1.8, slope=1.0, ca=2.0, thal=2.0, target=0.0), Row(age=64.0, sex=1.0, cp=0.0, trestbps=145.0, chol=212.0, fbs=0.0, restecg=0.0, thalach=132.0, exang=0.0, oldpeak=2.0, slope=1.0, ca=2.0, thal=1.0, target=0.0), Row(age=61.0, sex=1.0, cp=0.0, trestbps=148.0, chol=203.0, fbs=0.0, restecg=1.0, thalach=161.0, exang=0.0, oldpeak=0.0, slope=2.0, ca=1.0, thal=3.0, target=0.0), Row(age=59.0, sex=1.0, cp=1.0, trestbps=140.0, chol=221.0, fbs=0.0, restecg=1.0, thalach=164.0, exang=1.0, oldpeak=0.0, slope=2.0, ca=0.0, thal=2.0, target=1.0), Row(age=38.0, sex=1.0, cp=2.0, trestbps=138.0, chol=175.0, fbs=0.0, restecg=1.0, thalach=173.0, exang=0.0, oldpeak=0.0, slope=2.0, ca=4.0, thal=2.0, target=1.0), Row(age=58.0, sex=1.0, cp=1.0, trestbps=120.0, chol=284.0, fbs=0.0, restecg=0.0, thalach=160.0, exang=0.0, oldpeak=1.8, slope=1.0, ca=0.0, thal=2.0, target=0.0), Row(age=63.0, sex=0.0, cp=1.0, trestbps=140.0, chol=195.0, fbs=0.0, restecg=1.0, thalach=179.0, exang=0.0, oldpeak=0.0, slope=2.0, ca=2.0, thal=2.0, target=1.0), Row(age=62.0, sex=0.0, cp=2.0, trestbps=130.0, chol=263.0, fbs=0.0, restecg=1.0, thalach=97.0, exang=0.0, oldpeak=1.2, slope=1.0, ca=1.0, thal=3.0, target=0.0), Row(age=46.0, sex=1.0, cp=0.0, trestbps=140.0, chol=311.0, fbs=0.0, restecg=1.0, thalach=120.0, exang=1.0, oldpeak=1.8, slope=1.0, ca=2.0, thal=3.0, target=0.0), Row(age=58.0, sex=0.0, cp=2.0, trestbps=120.0, chol=340.0, fbs=0.0, restecg=1.0, thalach=172.0, exang=0.0, oldpeak=0.0, slope=2.0, ca=0.0, thal=2.0, target=1.0), Row(age=63.0, sex=0.0, cp=1.0, trestbps=140.0, chol=195.0, fbs=0.0, restecg=1.0, thalach=179.0, exang=0.0, oldpeak=0.0, slope=2.0, ca=2.0, thal=2.0, target=1.0), Row(age=47.0, sex=1.0, cp=2.0, trestbps=130.0, chol=253.0, fbs=0.0, restecg=1.0, thalach=179.0, exang=0.0, oldpeak=0.0, slope=2.0, ca=0.0, thal=2.0, target=1.0), Row(age=71.0, sex=0.0, cp=2.0, trestbps=110.0, chol=265.0, fbs=1.0, restecg=0.0, thalach=130.0, exang=0.0, oldpeak=0.0, slope=2.0, ca=1.0, thal=2.0, target=1.0), Row(age=66.0, sex=1.0, cp=0.0, trestbps=112.0, chol=212.0, fbs=0.0, restecg=0.0, thalach=132.0, exang=1.0, oldpeak=0.1, slope=2.0, ca=1.0, thal=2.0, target=0.0), Row(age=42.0, sex=1.0, cp=0.0, trestbps=136.0, chol=315.0, fbs=0.0, restecg=1.0, thalach=125.0, exang=1.0, oldpeak=1.8, slope=1.0, ca=0.0, thal=1.0, target=0.0), Row(age=64.0, sex=1.0, cp=0.0, trestbps=145.0, chol=212.0, fbs=0.0, restecg=0.0, thalach=132.0, exang=0.0, oldpeak=2.0, slope=1.0, ca=2.0, thal=1.0, target=0.0), Row(age=55.0, sex=0.0, cp=0.0, trestbps=180.0, chol=327.0, fbs=0.0, restecg=2.0, thalach=117.0, exang=1.0, oldpeak=3.4, slope=1.0, ca=0.0, thal=2.0, target=0.0), Row(age=43.0, sex=0.0, cp=0.0, trestbps=132.0, chol=341.0, fbs=1.0, restecg=0.0, thalach=136.0, exang=1.0, oldpeak=3.0, slope=1.0, ca=0.0, thal=3.0, target=0.0), Row(age=55.0, sex=0.0, cp=0.0, trestbps=128.0, chol=205.0, fbs=0.0, restecg=2.0, thalach=130.0, exang=1.0, oldpeak=2.0, slope=1.0, ca=1.0, thal=3.0, target=0.0), Row(age=58.0, sex=0.0, cp=0.0, trestbps=170.0, chol=225.0, fbs=1.0, restecg=0.0, thalach=146.0, exang=1.0, oldpeak=2.8, slope=1.0, ca=2.0, thal=1.0, target=0.0), Row(age=55.0, sex=1.0, cp=0.0, trestbps=140.0, chol=217.0, fbs=0.0, restecg=1.0, thalach=111.0, exang=1.0, oldpeak=5.6, slope=0.0, ca=0.0, thal=3.0, target=0.0), Row(age=51.0, sex=0.0, cp=0.0, trestbps=130.0, chol=305.0, fbs=0.0, restecg=1.0, thalach=142.0, exang=1.0, oldpeak=1.2, slope=1.0, ca=0.0, thal=3.0, target=0.0), Row(age=50.0, sex=0.0, cp=2.0, trestbps=120.0, chol=219.0, fbs=0.0, restecg=1.0, thalach=158.0, exang=0.0, oldpeak=1.6, slope=1.0, ca=0.0, thal=2.0, target=1.0), Row(age=43.0, sex=1.0, cp=0.0, trestbps=115.0, chol=303.0, fbs=0.0, restecg=1.0, thalach=181.0, exang=0.0, oldpeak=1.2, slope=1.0, ca=0.0, thal=2.0, target=1.0), Row(age=41.0, sex=0.0, cp=1.0, trestbps=126.0, chol=306.0, fbs=0.0, restecg=1.0, thalach=163.0, exang=0.0, oldpeak=0.0, slope=2.0, ca=0.0, thal=2.0, target=1.0), Row(age=49.0, sex=1.0, cp=1.0, trestbps=130.0, chol=266.0, fbs=0.0, restecg=1.0, thalach=171.0, exang=0.0, oldpeak=0.6, slope=2.0, ca=0.0, thal=2.0, target=1.0), Row(age=65.0, sex=1.0, cp=0.0, trestbps=110.0, chol=248.0, fbs=0.0, restecg=0.0, thalach=158.0, exang=0.0, oldpeak=0.6, slope=2.0, ca=2.0, thal=1.0, target=0.0), Row(age=57.0, sex=1.0, cp=0.0, trestbps=152.0, chol=274.0, fbs=0.0, restecg=1.0, thalach=88.0, exang=1.0, oldpeak=1.2, slope=1.0, ca=1.0, thal=3.0, target=0.0), Row(age=48.0, sex=1.0, cp=0.0, trestbps=130.0, chol=256.0, fbs=1.0, restecg=0.0, thalach=150.0, exang=1.0, oldpeak=0.0, slope=2.0, ca=2.0, thal=3.0, target=0.0), Row(age=62.0, sex=0.0, cp=0.0, trestbps=138.0, chol=294.0, fbs=1.0, restecg=1.0, thalach=106.0, exang=0.0, oldpeak=1.9, slope=1.0, ca=3.0, thal=2.0, target=0.0), Row(age=61.0, sex=1.0, cp=3.0, trestbps=134.0, chol=234.0, fbs=0.0, restecg=1.0, thalach=145.0, exang=0.0, oldpeak=2.6, slope=1.0, ca=2.0, thal=2.0, target=0.0), Row(age=59.0, sex=1.0, cp=3.0, trestbps=178.0, chol=270.0, fbs=0.0, restecg=0.0, thalach=145.0, exang=0.0, oldpeak=4.2, slope=0.0, ca=0.0, thal=3.0, target=1.0), Row(age=69.0, sex=1.0, cp=2.0, trestbps=140.0, chol=254.0, fbs=0.0, restecg=0.0, thalach=146.0, exang=0.0, oldpeak=2.0, slope=1.0, ca=3.0, thal=3.0, target=0.0), Row(age=58.0, sex=1.0, cp=2.0, trestbps=132.0, chol=224.0, fbs=0.0, restecg=0.0, thalach=173.0, exang=0.0, oldpeak=3.2, slope=2.0, ca=2.0, thal=3.0, target=0.0), Row(age=38.0, sex=1.0, cp=3.0, trestbps=120.0, chol=231.0, fbs=0.0, restecg=1.0, thalach=182.0, exang=1.0, oldpeak=3.8, slope=1.0, ca=0.0, thal=3.0, target=0.0), Row(age=69.0, sex=0.0, cp=3.0, trestbps=140.0, chol=239.0, fbs=0.0, restecg=1.0, thalach=151.0, exang=0.0, oldpeak=1.8, slope=2.0, ca=2.0, thal=2.0, target=1.0), Row(age=65.0, sex=1.0, cp=3.0, trestbps=138.0, chol=282.0, fbs=1.0, restecg=0.0, thalach=174.0, exang=0.0, oldpeak=1.4, slope=1.0, ca=1.0, thal=2.0, target=0.0), Row(age=45.0, sex=1.0, cp=3.0, trestbps=110.0, chol=264.0, fbs=0.0, restecg=1.0, thalach=132.0, exang=0.0, oldpeak=1.2, slope=1.0, ca=0.0, thal=3.0, target=0.0), Row(age=49.0, sex=1.0, cp=1.0, trestbps=130.0, chol=266.0, fbs=0.0, restecg=1.0, thalach=171.0, exang=0.0, oldpeak=0.6, slope=2.0, ca=0.0, thal=2.0, target=1.0), Row(age=45.0, sex=0.0, cp=1.0, trestbps=130.0, chol=234.0, fbs=0.0, restecg=0.0, thalach=175.0, exang=0.0, oldpeak=0.6, slope=1.0, ca=0.0, thal=2.0, target=1.0), Row(age=61.0, sex=1.0, cp=0.0, trestbps=138.0, chol=166.0, fbs=0.0, restecg=0.0, thalach=125.0, exang=1.0, oldpeak=3.6, slope=1.0, ca=1.0, thal=2.0, target=0.0), Row(age=52.0, sex=1.0, cp=0.0, trestbps=125.0, chol=212.0, fbs=0.0, restecg=1.0, thalach=168.0, exang=0.0, oldpeak=1.0, slope=2.0, ca=2.0, thal=3.0, target=0.0), Row(age=53.0, sex=0.0, cp=0.0, trestbps=130.0, chol=264.0, fbs=0.0, restecg=0.0, thalach=143.0, exang=0.0, oldpeak=0.4, slope=1.0, ca=0.0, thal=2.0, target=1.0), Row(age=59.0, sex=0.0, cp=0.0, trestbps=174.0, chol=249.0, fbs=0.0, restecg=1.0, thalach=143.0, exang=1.0, oldpeak=0.0, slope=1.0, ca=0.0, thal=2.0, target=0.0), Row(age=58.0, sex=0.0, cp=2.0, trestbps=120.0, chol=340.0, fbs=0.0, restecg=1.0, thalach=172.0, exang=0.0, oldpeak=0.0, slope=2.0, ca=0.0, thal=2.0, target=1.0), Row(age=65.0, sex=1.0, cp=3.0, trestbps=138.0, chol=282.0, fbs=1.0, restecg=0.0, thalach=174.0, exang=0.0, oldpeak=1.4, slope=1.0, ca=1.0, thal=2.0, target=0.0), Row(age=58.0, sex=0.0, cp=0.0, trestbps=130.0, chol=197.0, fbs=0.0, restecg=1.0, thalach=131.0, exang=0.0, oldpeak=0.6, slope=1.0, ca=0.0, thal=2.0, target=1.0), Row(age=46.0, sex=0.0, cp=0.0, trestbps=138.0, chol=243.0, fbs=0.0, restecg=0.0, thalach=152.0, exang=1.0, oldpeak=0.0, slope=1.0, ca=0.0, thal=2.0, target=1.0), Row(age=56.0, sex=0.0, cp=0.0, trestbps=134.0, chol=409.0, fbs=0.0, restecg=0.0, thalach=150.0, exang=1.0, oldpeak=1.9, slope=1.0, ca=2.0, thal=3.0, target=0.0), Row(age=64.0, sex=1.0, cp=0.0, trestbps=128.0, chol=263.0, fbs=0.0, restecg=1.0, thalach=105.0, exang=1.0, oldpeak=0.2, slope=1.0, ca=1.0, thal=3.0, target=1.0), Row(age=65.0, sex=1.0, cp=0.0, trestbps=120.0, chol=177.0, fbs=0.0, restecg=1.0, thalach=140.0, exang=0.0, oldpeak=0.4, slope=2.0, ca=0.0, thal=3.0, target=1.0), Row(age=44.0, sex=1.0, cp=2.0, trestbps=120.0, chol=226.0, fbs=0.0, restecg=1.0, thalach=169.0, exang=0.0, oldpeak=0.0, slope=2.0, ca=0.0, thal=2.0, target=1.0), Row(age=50.0, sex=1.0, cp=0.0, trestbps=150.0, chol=243.0, fbs=0.0, restecg=0.0, thalach=128.0, exang=0.0, oldpeak=2.6, slope=1.0, ca=0.0, thal=3.0, target=0.0), Row(age=47.0, sex=1.0, cp=2.0, trestbps=108.0, chol=243.0, fbs=0.0, restecg=1.0, thalach=152.0, exang=0.0, oldpeak=0.0, slope=2.0, ca=0.0, thal=2.0, target=0.0), Row(age=64.0, sex=0.0, cp=0.0, trestbps=130.0, chol=303.0, fbs=0.0, restecg=1.0, thalach=122.0, exang=0.0, oldpeak=2.0, slope=1.0, ca=2.0, thal=2.0, target=1.0), Row(age=71.0, sex=0.0, cp=0.0, trestbps=112.0, chol=149.0, fbs=0.0, restecg=1.0, thalach=125.0, exang=0.0, oldpeak=1.6, slope=1.0, ca=0.0, thal=2.0, target=1.0), Row(age=45.0, sex=0.0, cp=1.0, trestbps=130.0, chol=234.0, fbs=0.0, restecg=0.0, thalach=175.0, exang=0.0, oldpeak=0.6, slope=1.0, ca=0.0, thal=2.0, target=1.0), Row(age=62.0, sex=1.0, cp=0.0, trestbps=120.0, chol=267.0, fbs=0.0, restecg=1.0, thalach=99.0, exang=1.0, oldpeak=1.8, slope=1.0, ca=2.0, thal=3.0, target=0.0), Row(age=41.0, sex=1.0, cp=1.0, trestbps=120.0, chol=157.0, fbs=0.0, restecg=1.0, thalach=182.0, exang=0.0, oldpeak=0.0, slope=2.0, ca=0.0, thal=2.0, target=1.0), Row(age=66.0, sex=0.0, cp=3.0, trestbps=150.0, chol=226.0, fbs=0.0, restecg=1.0, thalach=114.0, exang=0.0, oldpeak=2.6, slope=0.0, ca=0.0, thal=2.0, target=1.0), Row(age=56.0, sex=1.0, cp=0.0, trestbps=130.0, chol=283.0, fbs=1.0, restecg=0.0, thalach=103.0, exang=1.0, oldpeak=1.6, slope=0.0, ca=0.0, thal=3.0, target=0.0), Row(age=41.0, sex=0.0, cp=1.0, trestbps=126.0, chol=306.0, fbs=0.0, restecg=1.0, thalach=163.0, exang=0.0, oldpeak=0.0, slope=2.0, ca=0.0, thal=2.0, target=1.0), Row(age=41.0, sex=1.0, cp=1.0, trestbps=110.0, chol=235.0, fbs=0.0, restecg=1.0, thalach=153.0, exang=0.0, oldpeak=0.0, slope=2.0, ca=0.0, thal=2.0, target=1.0), Row(age=57.0, sex=0.0, cp=1.0, trestbps=130.0, chol=236.0, fbs=0.0, restecg=0.0, thalach=174.0, exang=0.0, oldpeak=0.0, slope=1.0, ca=1.0, thal=2.0, target=0.0), Row(age=39.0, sex=0.0, cp=2.0, trestbps=138.0, chol=220.0, fbs=0.0, restecg=1.0, thalach=152.0, exang=0.0, oldpeak=0.0, slope=1.0, ca=0.0, thal=2.0, target=1.0), Row(age=64.0, sex=1.0, cp=2.0, trestbps=125.0, chol=309.0, fbs=0.0, restecg=1.0, thalach=131.0, exang=1.0, oldpeak=1.8, slope=1.0, ca=0.0, thal=3.0, target=0.0), Row(age=59.0, sex=1.0, cp=0.0, trestbps=138.0, chol=271.0, fbs=0.0, restecg=0.0, thalach=182.0, exang=0.0, oldpeak=0.0, slope=2.0, ca=0.0, thal=2.0, target=1.0), Row(age=61.0, sex=1.0, cp=0.0, trestbps=138.0, chol=166.0, fbs=0.0, restecg=0.0, thalach=125.0, exang=1.0, oldpeak=3.6, slope=1.0, ca=1.0, thal=2.0, target=0.0), Row(age=58.0, sex=1.0, cp=0.0, trestbps=114.0, chol=318.0, fbs=0.0, restecg=2.0, thalach=140.0, exang=0.0, oldpeak=4.4, slope=0.0, ca=3.0, thal=1.0, target=0.0), Row(age=47.0, sex=1.0, cp=0.0, trestbps=112.0, chol=204.0, fbs=0.0, restecg=1.0, thalach=143.0, exang=0.0, oldpeak=0.1, slope=2.0, ca=0.0, thal=2.0, target=1.0), Row(age=58.0, sex=0.0, cp=0.0, trestbps=100.0, chol=248.0, fbs=0.0, restecg=0.0, thalach=122.0, exang=0.0, oldpeak=1.0, slope=1.0, ca=0.0, thal=2.0, target=1.0), Row(age=66.0, sex=0.0, cp=3.0, trestbps=150.0, chol=226.0, fbs=0.0, restecg=1.0, thalach=114.0, exang=0.0, oldpeak=2.6, slope=0.0, ca=0.0, thal=2.0, target=1.0), Row(age=65.0, sex=0.0, cp=2.0, trestbps=140.0, chol=417.0, fbs=1.0, restecg=0.0, thalach=157.0, exang=0.0, oldpeak=0.8, slope=2.0, ca=1.0, thal=2.0, target=1.0), Row(age=35.0, sex=1.0, cp=1.0, trestbps=122.0, chol=192.0, fbs=0.0, restecg=1.0, thalach=174.0, exang=0.0, oldpeak=0.0, slope=2.0, ca=0.0, thal=2.0, target=1.0), Row(age=57.0, sex=1.0, cp=1.0, trestbps=124.0, chol=261.0, fbs=0.0, restecg=1.0, thalach=141.0, exang=0.0, oldpeak=0.3, slope=2.0, ca=0.0, thal=3.0, target=0.0), Row(age=29.0, sex=1.0, cp=1.0, trestbps=130.0, chol=204.0, fbs=0.0, restecg=0.0, thalach=202.0, exang=0.0, oldpeak=0.0, slope=2.0, ca=0.0, thal=2.0, target=1.0), Row(age=66.0, sex=1.0, cp=1.0, trestbps=160.0, chol=246.0, fbs=0.0, restecg=1.0, thalach=120.0, exang=1.0, oldpeak=0.0, slope=1.0, ca=3.0, thal=1.0, target=0.0), Row(age=61.0, sex=0.0, cp=0.0, trestbps=130.0, chol=330.0, fbs=0.0, restecg=0.0, thalach=169.0, exang=0.0, oldpeak=0.0, slope=2.0, ca=0.0, thal=2.0, target=0.0), Row(age=52.0, sex=1.0, cp=0.0, trestbps=125.0, chol=212.0, fbs=0.0, restecg=1.0, thalach=168.0, exang=0.0, oldpeak=1.0, slope=2.0, ca=2.0, thal=3.0, target=0.0), Row(age=68.0, sex=1.0, cp=2.0, trestbps=118.0, chol=277.0, fbs=0.0, restecg=1.0, thalach=151.0, exang=0.0, oldpeak=1.0, slope=2.0, ca=1.0, thal=3.0, target=1.0), Row(age=54.0, sex=1.0, cp=2.0, trestbps=120.0, chol=258.0, fbs=0.0, restecg=0.0, thalach=147.0, exang=0.0, oldpeak=0.4, slope=1.0, ca=0.0, thal=3.0, target=1.0), Row(age=63.0, sex=1.0, cp=0.0, trestbps=130.0, chol=330.0, fbs=1.0, restecg=0.0, thalach=132.0, exang=1.0, oldpeak=1.8, slope=2.0, ca=3.0, thal=3.0, target=0.0), Row(age=58.0, sex=1.0, cp=0.0, trestbps=100.0, chol=234.0, fbs=0.0, restecg=1.0, thalach=156.0, exang=0.0, oldpeak=0.1, slope=2.0, ca=1.0, thal=3.0, target=0.0), Row(age=60.0, sex=1.0, cp=0.0, trestbps=130.0, chol=253.0, fbs=0.0, restecg=1.0, thalach=144.0, exang=1.0, oldpeak=1.4, slope=2.0, ca=1.0, thal=3.0, target=0.0), Row(age=63.0, sex=1.0, cp=0.0, trestbps=130.0, chol=254.0, fbs=0.0, restecg=0.0, thalach=147.0, exang=0.0, oldpeak=1.4, slope=1.0, ca=1.0, thal=3.0, target=0.0), Row(age=41.0, sex=0.0, cp=2.0, trestbps=112.0, chol=268.0, fbs=0.0, restecg=0.0, thalach=172.0, exang=1.0, oldpeak=0.0, slope=2.0, ca=0.0, thal=2.0, target=1.0), Row(age=68.0, sex=1.0, cp=2.0, trestbps=180.0, chol=274.0, fbs=1.0, restecg=0.0, thalach=150.0, exang=1.0, oldpeak=1.6, slope=1.0, ca=0.0, thal=3.0, target=0.0), Row(age=42.0, sex=1.0, cp=1.0, trestbps=120.0, chol=295.0, fbs=0.0, restecg=1.0, thalach=162.0, exang=0.0, oldpeak=0.0, slope=2.0, ca=0.0, thal=2.0, target=1.0), Row(age=59.0, sex=1.0, cp=0.0, trestbps=170.0, chol=326.0, fbs=0.0, restecg=0.0, thalach=140.0, exang=1.0, oldpeak=3.4, slope=0.0, ca=0.0, thal=3.0, target=0.0), Row(age=59.0, sex=1.0, cp=0.0, trestbps=164.0, chol=176.0, fbs=1.0, restecg=0.0, thalach=90.0, exang=0.0, oldpeak=1.0, slope=1.0, ca=2.0, thal=1.0, target=0.0), Row(age=43.0, sex=1.0, cp=0.0, trestbps=120.0, chol=177.0, fbs=0.0, restecg=0.0, thalach=120.0, exang=1.0, oldpeak=2.5, slope=1.0, ca=0.0, thal=3.0, target=0.0), Row(age=60.0, sex=1.0, cp=2.0, trestbps=140.0, chol=185.0, fbs=0.0, restecg=0.0, thalach=155.0, exang=0.0, oldpeak=3.0, slope=1.0, ca=0.0, thal=2.0, target=0.0), Row(age=63.0, sex=0.0, cp=0.0, trestbps=150.0, chol=407.0, fbs=0.0, restecg=0.0, thalach=154.0, exang=0.0, oldpeak=4.0, slope=1.0, ca=3.0, thal=3.0, target=0.0), Row(age=52.0, sex=1.0, cp=0.0, trestbps=128.0, chol=204.0, fbs=1.0, restecg=1.0, thalach=156.0, exang=1.0, oldpeak=1.0, slope=1.0, ca=0.0, thal=0.0, target=0.0), Row(age=58.0, sex=1.0, cp=0.0, trestbps=125.0, chol=300.0, fbs=0.0, restecg=0.0, thalach=171.0, exang=0.0, oldpeak=0.0, slope=2.0, ca=2.0, thal=3.0, target=0.0), Row(age=56.0, sex=0.0, cp=0.0, trestbps=200.0, chol=288.0, fbs=1.0, restecg=0.0, thalach=133.0, exang=1.0, oldpeak=4.0, slope=0.0, ca=2.0, thal=3.0, target=0.0), Row(age=54.0, sex=0.0, cp=2.0, trestbps=135.0, chol=304.0, fbs=1.0, restecg=1.0, thalach=170.0, exang=0.0, oldpeak=0.0, slope=2.0, ca=0.0, thal=2.0, target=1.0), Row(age=58.0, sex=1.0, cp=2.0, trestbps=105.0, chol=240.0, fbs=0.0, restecg=0.0, thalach=154.0, exang=1.0, oldpeak=0.6, slope=1.0, ca=0.0, thal=3.0, target=1.0), Row(age=55.0, sex=0.0, cp=1.0, trestbps=135.0, chol=250.0, fbs=0.0, restecg=0.0, thalach=161.0, exang=0.0, oldpeak=1.4, slope=1.0, ca=0.0, thal=2.0, target=1.0), Row(age=53.0, sex=1.0, cp=0.0, trestbps=140.0, chol=203.0, fbs=1.0, restecg=0.0, thalach=155.0, exang=1.0, oldpeak=3.1, slope=0.0, ca=0.0, thal=3.0, target=0.0), Row(age=63.0, sex=0.0, cp=1.0, trestbps=140.0, chol=195.0, fbs=0.0, restecg=1.0, thalach=179.0, exang=0.0, oldpeak=0.0, slope=2.0, ca=2.0, thal=2.0, target=1.0), Row(age=39.0, sex=1.0, cp=0.0, trestbps=118.0, chol=219.0, fbs=0.0, restecg=1.0, thalach=140.0, exang=0.0, oldpeak=1.2, slope=1.0, ca=0.0, thal=3.0, target=0.0), Row(age=35.0, sex=1.0, cp=0.0, trestbps=126.0, chol=282.0, fbs=0.0, restecg=0.0, thalach=156.0, exang=1.0, oldpeak=0.0, slope=2.0, ca=0.0, thal=3.0, target=0.0), Row(age=50.0, sex=0.0, cp=2.0, trestbps=120.0, chol=219.0, fbs=0.0, restecg=1.0, thalach=158.0, exang=0.0, oldpeak=1.6, slope=1.0, ca=0.0, thal=2.0, target=1.0), Row(age=67.0, sex=1.0, cp=2.0, trestbps=152.0, chol=212.0, fbs=0.0, restecg=0.0, thalach=150.0, exang=0.0, oldpeak=0.8, slope=1.0, ca=0.0, thal=3.0, target=0.0), Row(age=66.0, sex=1.0, cp=0.0, trestbps=112.0, chol=212.0, fbs=0.0, restecg=0.0, thalach=132.0, exang=1.0, oldpeak=0.1, slope=2.0, ca=1.0, thal=2.0, target=0.0), Row(age=35.0, sex=1.0, cp=0.0, trestbps=126.0, chol=282.0, fbs=0.0, restecg=0.0, thalach=156.0, exang=1.0, oldpeak=0.0, slope=2.0, ca=0.0, thal=3.0, target=0.0), Row(age=41.0, sex=1.0, cp=2.0, trestbps=130.0, chol=214.0, fbs=0.0, restecg=0.0, thalach=168.0, exang=0.0, oldpeak=2.0, slope=1.0, ca=0.0, thal=2.0, target=1.0), Row(age=35.0, sex=1.0, cp=0.0, trestbps=120.0, chol=198.0, fbs=0.0, restecg=1.0, thalach=130.0, exang=1.0, oldpeak=1.6, slope=1.0, ca=0.0, thal=3.0, target=0.0), Row(age=71.0, sex=0.0, cp=1.0, trestbps=160.0, chol=302.0, fbs=0.0, restecg=1.0, thalach=162.0, exang=0.0, oldpeak=0.4, slope=2.0, ca=2.0, thal=2.0, target=1.0), Row(age=57.0, sex=1.0, cp=0.0, trestbps=110.0, chol=201.0, fbs=0.0, restecg=1.0, thalach=126.0, exang=1.0, oldpeak=1.5, slope=1.0, ca=0.0, thal=1.0, target=1.0), Row(age=51.0, sex=1.0, cp=2.0, trestbps=94.0, chol=227.0, fbs=0.0, restecg=1.0, thalach=154.0, exang=1.0, oldpeak=0.0, slope=2.0, ca=1.0, thal=3.0, target=1.0), Row(age=58.0, sex=1.0, cp=0.0, trestbps=128.0, chol=216.0, fbs=0.0, restecg=0.0, thalach=131.0, exang=1.0, oldpeak=2.2, slope=1.0, ca=3.0, thal=3.0, target=0.0), Row(age=57.0, sex=1.0, cp=2.0, trestbps=128.0, chol=229.0, fbs=0.0, restecg=0.0, thalach=150.0, exang=0.0, oldpeak=0.4, slope=1.0, ca=1.0, thal=3.0, target=0.0), Row(age=56.0, sex=0.0, cp=1.0, trestbps=140.0, chol=294.0, fbs=0.0, restecg=0.0, thalach=153.0, exang=0.0, oldpeak=1.3, slope=1.0, ca=0.0, thal=2.0, target=1.0), Row(age=60.0, sex=0.0, cp=2.0, trestbps=120.0, chol=178.0, fbs=1.0, restecg=1.0, thalach=96.0, exang=0.0, oldpeak=0.0, slope=2.0, ca=0.0, thal=2.0, target=1.0), Row(age=45.0, sex=1.0, cp=3.0, trestbps=110.0, chol=264.0, fbs=0.0, restecg=1.0, thalach=132.0, exang=0.0, oldpeak=1.2, slope=1.0, ca=0.0, thal=3.0, target=0.0), Row(age=56.0, sex=1.0, cp=1.0, trestbps=130.0, chol=221.0, fbs=0.0, restecg=0.0, thalach=163.0, exang=0.0, oldpeak=0.0, slope=2.0, ca=0.0, thal=3.0, target=1.0), Row(age=35.0, sex=1.0, cp=0.0, trestbps=120.0, chol=198.0, fbs=0.0, restecg=1.0, thalach=130.0, exang=1.0, oldpeak=1.6, slope=1.0, ca=0.0, thal=3.0, target=0.0), Row(age=45.0, sex=0.0, cp=1.0, trestbps=112.0, chol=160.0, fbs=0.0, restecg=1.0, thalach=138.0, exang=0.0, oldpeak=0.0, slope=1.0, ca=0.0, thal=2.0, target=1.0), Row(age=66.0, sex=0.0, cp=3.0, trestbps=150.0, chol=226.0, fbs=0.0, restecg=1.0, thalach=114.0, exang=0.0, oldpeak=2.6, slope=0.0, ca=0.0, thal=2.0, target=1.0), Row(age=51.0, sex=1.0, cp=3.0, trestbps=125.0, chol=213.0, fbs=0.0, restecg=0.0, thalach=125.0, exang=1.0, oldpeak=1.4, slope=2.0, ca=1.0, thal=2.0, target=1.0), Row(age=70.0, sex=1.0, cp=1.0, trestbps=156.0, chol=245.0, fbs=0.0, restecg=0.0, thalach=143.0, exang=0.0, oldpeak=0.0, slope=2.0, ca=0.0, thal=2.0, target=1.0), Row(age=55.0, sex=0.0, cp=0.0, trestbps=128.0, chol=205.0, fbs=0.0, restecg=2.0, thalach=130.0, exang=1.0, oldpeak=2.0, slope=1.0, ca=1.0, thal=3.0, target=0.0), Row(age=56.0, sex=1.0, cp=2.0, trestbps=130.0, chol=256.0, fbs=1.0, restecg=0.0, thalach=142.0, exang=1.0, oldpeak=0.6, slope=1.0, ca=1.0, thal=1.0, target=0.0), Row(age=55.0, sex=0.0, cp=1.0, trestbps=135.0, chol=250.0, fbs=0.0, restecg=0.0, thalach=161.0, exang=0.0, oldpeak=1.4, slope=1.0, ca=0.0, thal=2.0, target=1.0), Row(age=52.0, sex=1.0, cp=0.0, trestbps=108.0, chol=233.0, fbs=1.0, restecg=1.0, thalach=147.0, exang=0.0, oldpeak=0.1, slope=2.0, ca=3.0, thal=3.0, target=1.0), Row(age=64.0, sex=1.0, cp=2.0, trestbps=140.0, chol=335.0, fbs=0.0, restecg=1.0, thalach=158.0, exang=0.0, oldpeak=0.0, slope=2.0, ca=0.0, thal=2.0, target=0.0), Row(age=45.0, sex=1.0, cp=0.0, trestbps=115.0, chol=260.0, fbs=0.0, restecg=0.0, thalach=185.0, exang=0.0, oldpeak=0.0, slope=2.0, ca=0.0, thal=2.0, target=1.0), Row(age=67.0, sex=0.0, cp=2.0, trestbps=152.0, chol=277.0, fbs=0.0, restecg=1.0, thalach=172.0, exang=0.0, oldpeak=0.0, slope=2.0, ca=1.0, thal=2.0, target=1.0), Row(age=68.0, sex=0.0, cp=2.0, trestbps=120.0, chol=211.0, fbs=0.0, restecg=0.0, thalach=115.0, exang=0.0, oldpeak=1.5, slope=1.0, ca=0.0, thal=2.0, target=1.0), Row(age=74.0, sex=0.0, cp=1.0, trestbps=120.0, chol=269.0, fbs=0.0, restecg=0.0, thalach=121.0, exang=1.0, oldpeak=0.2, slope=2.0, ca=1.0, thal=2.0, target=1.0), Row(age=60.0, sex=0.0, cp=0.0, trestbps=150.0, chol=258.0, fbs=0.0, restecg=0.0, thalach=157.0, exang=0.0, oldpeak=2.6, slope=1.0, ca=2.0, thal=3.0, target=0.0), Row(age=48.0, sex=1.0, cp=0.0, trestbps=124.0, chol=274.0, fbs=0.0, restecg=0.0, thalach=166.0, exang=0.0, oldpeak=0.5, slope=1.0, ca=0.0, thal=3.0, target=0.0), Row(age=56.0, sex=1.0, cp=1.0, trestbps=130.0, chol=221.0, fbs=0.0, restecg=0.0, thalach=163.0, exang=0.0, oldpeak=0.0, slope=2.0, ca=0.0, thal=3.0, target=1.0), Row(age=46.0, sex=1.0, cp=0.0, trestbps=140.0, chol=311.0, fbs=0.0, restecg=1.0, thalach=120.0, exang=1.0, oldpeak=1.8, slope=1.0, ca=2.0, thal=3.0, target=0.0), Row(age=55.0, sex=0.0, cp=1.0, trestbps=135.0, chol=250.0, fbs=0.0, restecg=0.0, thalach=161.0, exang=0.0, oldpeak=1.4, slope=1.0, ca=0.0, thal=2.0, target=1.0), Row(age=44.0, sex=1.0, cp=1.0, trestbps=120.0, chol=220.0, fbs=0.0, restecg=1.0, thalach=170.0, exang=0.0, oldpeak=0.0, slope=2.0, ca=0.0, thal=2.0, target=1.0), Row(age=52.0, sex=1.0, cp=0.0, trestbps=112.0, chol=230.0, fbs=0.0, restecg=1.0, thalach=160.0, exang=0.0, oldpeak=0.0, slope=2.0, ca=1.0, thal=2.0, target=0.0), Row(age=51.0, sex=1.0, cp=2.0, trestbps=94.0, chol=227.0, fbs=0.0, restecg=1.0, thalach=154.0, exang=1.0, oldpeak=0.0, slope=2.0, ca=1.0, thal=3.0, target=1.0), Row(age=44.0, sex=0.0, cp=2.0, trestbps=108.0, chol=141.0, fbs=0.0, restecg=1.0, thalach=175.0, exang=0.0, oldpeak=0.6, slope=1.0, ca=0.0, thal=2.0, target=1.0), Row(age=52.0, sex=1.0, cp=0.0, trestbps=128.0, chol=204.0, fbs=1.0, restecg=1.0, thalach=156.0, exang=1.0, oldpeak=1.0, slope=1.0, ca=0.0, thal=0.0, target=0.0), Row(age=50.0, sex=1.0, cp=2.0, trestbps=129.0, chol=196.0, fbs=0.0, restecg=1.0, thalach=163.0, exang=0.0, oldpeak=0.0, slope=2.0, ca=0.0, thal=2.0, target=1.0), Row(age=59.0, sex=1.0, cp=0.0, trestbps=110.0, chol=239.0, fbs=0.0, restecg=0.0, thalach=142.0, exang=1.0, oldpeak=1.2, slope=1.0, ca=1.0, thal=3.0, target=0.0), Row(age=67.0, sex=1.0, cp=0.0, trestbps=120.0, chol=229.0, fbs=0.0, restecg=0.0, thalach=129.0, exang=1.0, oldpeak=2.6, slope=1.0, ca=2.0, thal=3.0, target=0.0), Row(age=58.0, sex=1.0, cp=0.0, trestbps=125.0, chol=300.0, fbs=0.0, restecg=0.0, thalach=171.0, exang=0.0, oldpeak=0.0, slope=2.0, ca=2.0, thal=3.0, target=0.0), Row(age=52.0, sex=1.0, cp=0.0, trestbps=128.0, chol=255.0, fbs=0.0, restecg=1.0, thalach=161.0, exang=1.0, oldpeak=0.0, slope=2.0, ca=1.0, thal=3.0, target=0.0), Row(age=44.0, sex=1.0, cp=2.0, trestbps=140.0, chol=235.0, fbs=0.0, restecg=0.0, thalach=180.0, exang=0.0, oldpeak=0.0, slope=2.0, ca=0.0, thal=2.0, target=1.0), Row(age=41.0, sex=0.0, cp=2.0, trestbps=112.0, chol=268.0, fbs=0.0, restecg=0.0, thalach=172.0, exang=1.0, oldpeak=0.0, slope=2.0, ca=0.0, thal=2.0, target=1.0), Row(age=63.0, sex=1.0, cp=0.0, trestbps=130.0, chol=330.0, fbs=1.0, restecg=0.0, thalach=132.0, exang=1.0, oldpeak=1.8, slope=2.0, ca=3.0, thal=3.0, target=0.0), Row(age=58.0, sex=1.0, cp=1.0, trestbps=125.0, chol=220.0, fbs=0.0, restecg=1.0, thalach=144.0, exang=0.0, oldpeak=0.4, slope=1.0, ca=4.0, thal=3.0, target=1.0), Row(age=60.0, sex=0.0, cp=2.0, trestbps=102.0, chol=318.0, fbs=0.0, restecg=1.0, thalach=160.0, exang=0.0, oldpeak=0.0, slope=2.0, ca=1.0, thal=2.0, target=1.0), Row(age=51.0, sex=1.0, cp=2.0, trestbps=100.0, chol=222.0, fbs=0.0, restecg=1.0, thalach=143.0, exang=1.0, oldpeak=1.2, slope=1.0, ca=0.0, thal=2.0, target=1.0), Row(age=64.0, sex=1.0, cp=2.0, trestbps=140.0, chol=335.0, fbs=0.0, restecg=1.0, thalach=158.0, exang=0.0, oldpeak=0.0, slope=2.0, ca=0.0, thal=2.0, target=0.0), Row(age=60.0, sex=1.0, cp=0.0, trestbps=117.0, chol=230.0, fbs=1.0, restecg=1.0, thalach=160.0, exang=1.0, oldpeak=1.4, slope=2.0, ca=2.0, thal=3.0, target=0.0), Row(age=44.0, sex=1.0, cp=2.0, trestbps=120.0, chol=226.0, fbs=0.0, restecg=1.0, thalach=169.0, exang=0.0, oldpeak=0.0, slope=2.0, ca=0.0, thal=2.0, target=1.0), Row(age=58.0, sex=1.0, cp=1.0, trestbps=125.0, chol=220.0, fbs=0.0, restecg=1.0, thalach=144.0, exang=0.0, oldpeak=0.4, slope=1.0, ca=4.0, thal=3.0, target=1.0), Row(age=55.0, sex=1.0, cp=1.0, trestbps=130.0, chol=262.0, fbs=0.0, restecg=1.0, thalach=155.0, exang=0.0, oldpeak=0.0, slope=2.0, ca=0.0, thal=2.0, target=1.0), Row(age=65.0, sex=0.0, cp=2.0, trestbps=160.0, chol=360.0, fbs=0.0, restecg=0.0, thalach=151.0, exang=0.0, oldpeak=0.8, slope=2.0, ca=0.0, thal=2.0, target=1.0), Row(age=48.0, sex=1.0, cp=1.0, trestbps=130.0, chol=245.0, fbs=0.0, restecg=0.0, thalach=180.0, exang=0.0, oldpeak=0.2, slope=1.0, ca=0.0, thal=2.0, target=1.0), Row(age=65.0, sex=1.0, cp=0.0, trestbps=120.0, chol=177.0, fbs=0.0, restecg=1.0, thalach=140.0, exang=0.0, oldpeak=0.4, slope=2.0, ca=0.0, thal=3.0, target=1.0), Row(age=51.0, sex=0.0, cp=2.0, trestbps=130.0, chol=256.0, fbs=0.0, restecg=0.0, thalach=149.0, exang=0.0, oldpeak=0.5, slope=2.0, ca=0.0, thal=2.0, target=1.0), Row(age=48.0, sex=1.0, cp=2.0, trestbps=124.0, chol=255.0, fbs=1.0, restecg=1.0, thalach=175.0, exang=0.0, oldpeak=0.0, slope=2.0, ca=2.0, thal=2.0, target=1.0), Row(age=64.0, sex=1.0, cp=0.0, trestbps=120.0, chol=246.0, fbs=0.0, restecg=0.0, thalach=96.0, exang=1.0, oldpeak=2.2, slope=0.0, ca=1.0, thal=2.0, target=0.0), Row(age=66.0, sex=1.0, cp=0.0, trestbps=160.0, chol=228.0, fbs=0.0, restecg=0.0, thalach=138.0, exang=0.0, oldpeak=2.3, slope=2.0, ca=0.0, thal=1.0, target=1.0), Row(age=46.0, sex=0.0, cp=1.0, trestbps=105.0, chol=204.0, fbs=0.0, restecg=1.0, thalach=172.0, exang=0.0, oldpeak=0.0, slope=2.0, ca=0.0, thal=2.0, target=1.0), Row(age=61.0, sex=0.0, cp=0.0, trestbps=130.0, chol=330.0, fbs=0.0, restecg=0.0, thalach=169.0, exang=0.0, oldpeak=0.0, slope=2.0, ca=0.0, thal=2.0, target=0.0), Row(age=57.0, sex=1.0, cp=0.0, trestbps=150.0, chol=276.0, fbs=0.0, restecg=0.0, thalach=112.0, exang=1.0, oldpeak=0.6, slope=1.0, ca=1.0, thal=1.0, target=0.0), Row(age=49.0, sex=0.0, cp=0.0, trestbps=130.0, chol=269.0, fbs=0.0, restecg=1.0, thalach=163.0, exang=0.0, oldpeak=0.0, slope=2.0, ca=0.0, thal=2.0, target=1.0), Row(age=56.0, sex=1.0, cp=1.0, trestbps=130.0, chol=221.0, fbs=0.0, restecg=0.0, thalach=163.0, exang=0.0, oldpeak=0.0, slope=2.0, ca=0.0, thal=3.0, target=1.0), Row(age=58.0, sex=0.0, cp=3.0, trestbps=150.0, chol=283.0, fbs=1.0, restecg=0.0, thalach=162.0, exang=0.0, oldpeak=1.0, slope=2.0, ca=0.0, thal=2.0, target=1.0), Row(age=63.0, sex=1.0, cp=0.0, trestbps=140.0, chol=187.0, fbs=0.0, restecg=0.0, thalach=144.0, exang=1.0, oldpeak=4.0, slope=2.0, ca=2.0, thal=3.0, target=0.0), Row(age=57.0, sex=1.0, cp=0.0, trestbps=110.0, chol=335.0, fbs=0.0, restecg=1.0, thalach=143.0, exang=1.0, oldpeak=3.0, slope=1.0, ca=1.0, thal=3.0, target=0.0), Row(age=57.0, sex=1.0, cp=0.0, trestbps=110.0, chol=335.0, fbs=0.0, restecg=1.0, thalach=143.0, exang=1.0, oldpeak=3.0, slope=1.0, ca=1.0, thal=3.0, target=0.0), Row(age=68.0, sex=1.0, cp=0.0, trestbps=144.0, chol=193.0, fbs=1.0, restecg=1.0, thalach=141.0, exang=0.0, oldpeak=3.4, slope=1.0, ca=2.0, thal=3.0, target=0.0), Row(age=46.0, sex=1.0, cp=1.0, trestbps=101.0, chol=197.0, fbs=1.0, restecg=1.0, thalach=156.0, exang=0.0, oldpeak=0.0, slope=2.0, ca=0.0, thal=3.0, target=1.0), Row(age=71.0, sex=0.0, cp=2.0, trestbps=110.0, chol=265.0, fbs=1.0, restecg=0.0, thalach=130.0, exang=0.0, oldpeak=0.0, slope=2.0, ca=1.0, thal=2.0, target=1.0), Row(age=41.0, sex=1.0, cp=1.0, trestbps=135.0, chol=203.0, fbs=0.0, restecg=1.0, thalach=132.0, exang=0.0, oldpeak=0.0, slope=1.0, ca=0.0, thal=1.0, target=1.0), Row(age=45.0, sex=0.0, cp=0.0, trestbps=138.0, chol=236.0, fbs=0.0, restecg=0.0, thalach=152.0, exang=1.0, oldpeak=0.2, slope=1.0, ca=0.0, thal=2.0, target=1.0), Row(age=62.0, sex=0.0, cp=0.0, trestbps=150.0, chol=244.0, fbs=0.0, restecg=1.0, thalach=154.0, exang=1.0, oldpeak=1.4, slope=1.0, ca=0.0, thal=2.0, target=0.0), Row(age=65.0, sex=0.0, cp=0.0, trestbps=150.0, chol=225.0, fbs=0.0, restecg=0.0, thalach=114.0, exang=0.0, oldpeak=1.0, slope=1.0, ca=3.0, thal=3.0, target=0.0), Row(age=48.0, sex=0.0, cp=2.0, trestbps=130.0, chol=275.0, fbs=0.0, restecg=1.0, thalach=139.0, exang=0.0, oldpeak=0.2, slope=2.0, ca=0.0, thal=2.0, target=1.0), Row(age=51.0, sex=1.0, cp=2.0, trestbps=100.0, chol=222.0, fbs=0.0, restecg=1.0, thalach=143.0, exang=1.0, oldpeak=1.2, slope=1.0, ca=0.0, thal=2.0, target=1.0), Row(age=61.0, sex=0.0, cp=0.0, trestbps=145.0, chol=307.0, fbs=0.0, restecg=0.0, thalach=146.0, exang=1.0, oldpeak=1.0, slope=1.0, ca=0.0, thal=3.0, target=0.0), Row(age=53.0, sex=1.0, cp=0.0, trestbps=123.0, chol=282.0, fbs=0.0, restecg=1.0, thalach=95.0, exang=1.0, oldpeak=2.0, slope=1.0, ca=2.0, thal=3.0, target=0.0), Row(age=59.0, sex=1.0, cp=3.0, trestbps=134.0, chol=204.0, fbs=0.0, restecg=1.0, thalach=162.0, exang=0.0, oldpeak=0.8, slope=2.0, ca=2.0, thal=2.0, target=0.0), Row(age=34.0, sex=0.0, cp=1.0, trestbps=118.0, chol=210.0, fbs=0.0, restecg=1.0, thalach=192.0, exang=0.0, oldpeak=0.7, slope=2.0, ca=0.0, thal=2.0, target=1.0), Row(age=44.0, sex=1.0, cp=0.0, trestbps=120.0, chol=169.0, fbs=0.0, restecg=1.0, thalach=144.0, exang=1.0, oldpeak=2.8, slope=0.0, ca=0.0, thal=1.0, target=0.0), Row(age=58.0, sex=1.0, cp=0.0, trestbps=146.0, chol=218.0, fbs=0.0, restecg=1.0, thalach=105.0, exang=0.0, oldpeak=2.0, slope=1.0, ca=1.0, thal=3.0, target=0.0), Row(age=64.0, sex=0.0, cp=0.0, trestbps=130.0, chol=303.0, fbs=0.0, restecg=1.0, thalach=122.0, exang=0.0, oldpeak=2.0, slope=1.0, ca=2.0, thal=2.0, target=1.0), Row(age=56.0, sex=1.0, cp=1.0, trestbps=120.0, chol=240.0, fbs=0.0, restecg=1.0, thalach=169.0, exang=0.0, oldpeak=0.0, slope=0.0, ca=0.0, thal=2.0, target=1.0), Row(age=54.0, sex=1.0, cp=2.0, trestbps=150.0, chol=232.0, fbs=0.0, restecg=0.0, thalach=165.0, exang=0.0, oldpeak=1.6, slope=2.0, ca=0.0, thal=3.0, target=1.0), Row(age=55.0, sex=1.0, cp=0.0, trestbps=160.0, chol=289.0, fbs=0.0, restecg=0.0, thalach=145.0, exang=1.0, oldpeak=0.8, slope=1.0, ca=1.0, thal=3.0, target=0.0), Row(age=67.0, sex=1.0, cp=0.0, trestbps=125.0, chol=254.0, fbs=1.0, restecg=1.0, thalach=163.0, exang=0.0, oldpeak=0.2, slope=1.0, ca=2.0, thal=3.0, target=0.0), Row(age=51.0, sex=1.0, cp=0.0, trestbps=140.0, chol=298.0, fbs=0.0, restecg=1.0, thalach=122.0, exang=1.0, oldpeak=4.2, slope=1.0, ca=3.0, thal=3.0, target=0.0), Row(age=62.0, sex=0.0, cp=0.0, trestbps=138.0, chol=294.0, fbs=1.0, restecg=1.0, thalach=106.0, exang=0.0, oldpeak=1.9, slope=1.0, ca=3.0, thal=2.0, target=0.0), Row(age=62.0, sex=1.0, cp=1.0, trestbps=120.0, chol=281.0, fbs=0.0, restecg=0.0, thalach=103.0, exang=0.0, oldpeak=1.4, slope=1.0, ca=1.0, thal=3.0, target=0.0), Row(age=54.0, sex=1.0, cp=0.0, trestbps=110.0, chol=239.0, fbs=0.0, restecg=1.0, thalach=126.0, exang=1.0, oldpeak=2.8, slope=1.0, ca=1.0, thal=3.0, target=0.0), Row(age=54.0, sex=1.0, cp=0.0, trestbps=110.0, chol=239.0, fbs=0.0, restecg=1.0, thalach=126.0, exang=1.0, oldpeak=2.8, slope=1.0, ca=1.0, thal=3.0, target=0.0), Row(age=68.0, sex=1.0, cp=0.0, trestbps=144.0, chol=193.0, fbs=1.0, restecg=1.0, thalach=141.0, exang=0.0, oldpeak=3.4, slope=1.0, ca=2.0, thal=3.0, target=0.0), Row(age=60.0, sex=0.0, cp=2.0, trestbps=120.0, chol=178.0, fbs=1.0, restecg=1.0, thalach=96.0, exang=0.0, oldpeak=0.0, slope=2.0, ca=0.0, thal=2.0, target=1.0), Row(age=61.0, sex=1.0, cp=3.0, trestbps=134.0, chol=234.0, fbs=0.0, restecg=1.0, thalach=145.0, exang=0.0, oldpeak=2.6, slope=1.0, ca=2.0, thal=2.0, target=0.0), Row(age=62.0, sex=1.0, cp=1.0, trestbps=128.0, chol=208.0, fbs=1.0, restecg=0.0, thalach=140.0, exang=0.0, oldpeak=0.0, slope=2.0, ca=0.0, thal=2.0, target=1.0), Row(age=41.0, sex=1.0, cp=1.0, trestbps=135.0, chol=203.0, fbs=0.0, restecg=1.0, thalach=132.0, exang=0.0, oldpeak=0.0, slope=1.0, ca=0.0, thal=1.0, target=1.0), Row(age=65.0, sex=0.0, cp=0.0, trestbps=150.0, chol=225.0, fbs=0.0, restecg=0.0, thalach=114.0, exang=0.0, oldpeak=1.0, slope=1.0, ca=3.0, thal=3.0, target=0.0), Row(age=59.0, sex=1.0, cp=3.0, trestbps=170.0, chol=288.0, fbs=0.0, restecg=0.0, thalach=159.0, exang=0.0, oldpeak=0.2, slope=1.0, ca=0.0, thal=3.0, target=0.0), Row(age=43.0, sex=1.0, cp=0.0, trestbps=115.0, chol=303.0, fbs=0.0, restecg=1.0, thalach=181.0, exang=0.0, oldpeak=1.2, slope=1.0, ca=0.0, thal=2.0, target=1.0), Row(age=67.0, sex=1.0, cp=0.0, trestbps=120.0, chol=229.0, fbs=0.0, restecg=0.0, thalach=129.0, exang=1.0, oldpeak=2.6, slope=1.0, ca=2.0, thal=3.0, target=0.0), Row(age=63.0, sex=1.0, cp=3.0, trestbps=145.0, chol=233.0, fbs=1.0, restecg=0.0, thalach=150.0, exang=0.0, oldpeak=2.3, slope=0.0, ca=0.0, thal=1.0, target=1.0), Row(age=63.0, sex=0.0, cp=0.0, trestbps=124.0, chol=197.0, fbs=0.0, restecg=1.0, thalach=136.0, exang=1.0, oldpeak=0.0, slope=1.0, ca=0.0, thal=2.0, target=0.0), Row(age=52.0, sex=1.0, cp=0.0, trestbps=112.0, chol=230.0, fbs=0.0, restecg=1.0, thalach=160.0, exang=0.0, oldpeak=0.0, slope=2.0, ca=1.0, thal=2.0, target=0.0), Row(age=58.0, sex=0.0, cp=0.0, trestbps=130.0, chol=197.0, fbs=0.0, restecg=1.0, thalach=131.0, exang=0.0, oldpeak=0.6, slope=1.0, ca=0.0, thal=2.0, target=1.0), Row(age=53.0, sex=1.0, cp=0.0, trestbps=142.0, chol=226.0, fbs=0.0, restecg=0.0, thalach=111.0, exang=1.0, oldpeak=0.0, slope=2.0, ca=0.0, thal=3.0, target=1.0), Row(age=57.0, sex=1.0, cp=0.0, trestbps=150.0, chol=276.0, fbs=0.0, restecg=0.0, thalach=112.0, exang=1.0, oldpeak=0.6, slope=1.0, ca=1.0, thal=1.0, target=0.0), Row(age=44.0, sex=1.0, cp=2.0, trestbps=130.0, chol=233.0, fbs=0.0, restecg=1.0, thalach=179.0, exang=1.0, oldpeak=0.4, slope=2.0, ca=0.0, thal=2.0, target=1.0), Row(age=51.0, sex=1.0, cp=2.0, trestbps=94.0, chol=227.0, fbs=0.0, restecg=1.0, thalach=154.0, exang=1.0, oldpeak=0.0, slope=2.0, ca=1.0, thal=3.0, target=1.0), Row(age=54.0, sex=0.0, cp=2.0, trestbps=110.0, chol=214.0, fbs=0.0, restecg=1.0, thalach=158.0, exang=0.0, oldpeak=1.6, slope=1.0, ca=0.0, thal=2.0, target=1.0), Row(age=40.0, sex=1.0, cp=0.0, trestbps=110.0, chol=167.0, fbs=0.0, restecg=0.0, thalach=114.0, exang=1.0, oldpeak=2.0, slope=1.0, ca=0.0, thal=3.0, target=0.0), Row(age=57.0, sex=1.0, cp=1.0, trestbps=124.0, chol=261.0, fbs=0.0, restecg=1.0, thalach=141.0, exang=0.0, oldpeak=0.3, slope=2.0, ca=0.0, thal=3.0, target=0.0), Row(age=62.0, sex=0.0, cp=0.0, trestbps=140.0, chol=268.0, fbs=0.0, restecg=0.0, thalach=160.0, exang=0.0, oldpeak=3.6, slope=0.0, ca=2.0, thal=2.0, target=0.0), Row(age=53.0, sex=1.0, cp=0.0, trestbps=140.0, chol=203.0, fbs=1.0, restecg=0.0, thalach=155.0, exang=1.0, oldpeak=3.1, slope=0.0, ca=0.0, thal=3.0, target=0.0), Row(age=62.0, sex=1.0, cp=1.0, trestbps=128.0, chol=208.0, fbs=1.0, restecg=0.0, thalach=140.0, exang=0.0, oldpeak=0.0, slope=2.0, ca=0.0, thal=2.0, target=1.0), Row(age=58.0, sex=1.0, cp=2.0, trestbps=105.0, chol=240.0, fbs=0.0, restecg=0.0, thalach=154.0, exang=1.0, oldpeak=0.6, slope=1.0, ca=0.0, thal=3.0, target=1.0), Row(age=70.0, sex=1.0, cp=1.0, trestbps=156.0, chol=245.0, fbs=0.0, restecg=0.0, thalach=143.0, exang=0.0, oldpeak=0.0, slope=2.0, ca=0.0, thal=2.0, target=1.0), Row(age=45.0, sex=1.0, cp=0.0, trestbps=115.0, chol=260.0, fbs=0.0, restecg=0.0, thalach=185.0, exang=0.0, oldpeak=0.0, slope=2.0, ca=0.0, thal=2.0, target=1.0), Row(age=42.0, sex=1.0, cp=3.0, trestbps=148.0, chol=244.0, fbs=0.0, restecg=0.0, thalach=178.0, exang=0.0, oldpeak=0.8, slope=2.0, ca=2.0, thal=2.0, target=1.0), Row(age=58.0, sex=0.0, cp=0.0, trestbps=170.0, chol=225.0, fbs=1.0, restecg=0.0, thalach=146.0, exang=1.0, oldpeak=2.8, slope=1.0, ca=2.0, thal=1.0, target=0.0), Row(age=61.0, sex=1.0, cp=0.0, trestbps=140.0, chol=207.0, fbs=0.0, restecg=0.0, thalach=138.0, exang=1.0, oldpeak=1.9, slope=2.0, ca=1.0, thal=3.0, target=0.0), Row(age=62.0, sex=0.0, cp=0.0, trestbps=140.0, chol=268.0, fbs=0.0, restecg=0.0, thalach=160.0, exang=0.0, oldpeak=3.6, slope=0.0, ca=2.0, thal=2.0, target=0.0), Row(age=60.0, sex=1.0, cp=0.0, trestbps=130.0, chol=253.0, fbs=0.0, restecg=1.0, thalach=144.0, exang=1.0, oldpeak=1.4, slope=2.0, ca=1.0, thal=3.0, target=0.0), Row(age=54.0, sex=1.0, cp=0.0, trestbps=140.0, chol=239.0, fbs=0.0, restecg=1.0, thalach=160.0, exang=0.0, oldpeak=1.2, slope=2.0, ca=0.0, thal=2.0, target=1.0), Row(age=61.0, sex=1.0, cp=0.0, trestbps=138.0, chol=166.0, fbs=0.0, restecg=0.0, thalach=125.0, exang=1.0, oldpeak=3.6, slope=1.0, ca=1.0, thal=2.0, target=0.0), Row(age=63.0, sex=0.0, cp=2.0, trestbps=135.0, chol=252.0, fbs=0.0, restecg=0.0, thalach=172.0, exang=0.0, oldpeak=0.0, slope=2.0, ca=0.0, thal=2.0, target=1.0), Row(age=42.0, sex=1.0, cp=2.0, trestbps=130.0, chol=180.0, fbs=0.0, restecg=1.0, thalach=150.0, exang=0.0, oldpeak=0.0, slope=2.0, ca=0.0, thal=2.0, target=1.0), Row(age=57.0, sex=1.0, cp=2.0, trestbps=128.0, chol=229.0, fbs=0.0, restecg=0.0, thalach=150.0, exang=0.0, oldpeak=0.4, slope=1.0, ca=1.0, thal=3.0, target=0.0), Row(age=44.0, sex=1.0, cp=2.0, trestbps=130.0, chol=233.0, fbs=0.0, restecg=1.0, thalach=179.0, exang=1.0, oldpeak=0.4, slope=2.0, ca=0.0, thal=2.0, target=1.0), Row(age=54.0, sex=1.0, cp=0.0, trestbps=124.0, chol=266.0, fbs=0.0, restecg=0.0, thalach=109.0, exang=1.0, oldpeak=2.2, slope=1.0, ca=1.0, thal=3.0, target=0.0), Row(age=51.0, sex=1.0, cp=2.0, trestbps=100.0, chol=222.0, fbs=0.0, restecg=1.0, thalach=143.0, exang=1.0, oldpeak=1.2, slope=1.0, ca=0.0, thal=2.0, target=1.0), Row(age=58.0, sex=1.0, cp=1.0, trestbps=125.0, chol=220.0, fbs=0.0, restecg=1.0, thalach=144.0, exang=0.0, oldpeak=0.4, slope=1.0, ca=4.0, thal=3.0, target=1.0), Row(age=68.0, sex=1.0, cp=2.0, trestbps=118.0, chol=277.0, fbs=0.0, restecg=1.0, thalach=151.0, exang=0.0, oldpeak=1.0, slope=2.0, ca=1.0, thal=3.0, target=1.0), Row(age=55.0, sex=1.0, cp=0.0, trestbps=140.0, chol=217.0, fbs=0.0, restecg=1.0, thalach=111.0, exang=1.0, oldpeak=5.6, slope=0.0, ca=0.0, thal=3.0, target=0.0), Row(age=42.0, sex=1.0, cp=0.0, trestbps=136.0, chol=315.0, fbs=0.0, restecg=1.0, thalach=125.0, exang=1.0, oldpeak=1.8, slope=1.0, ca=0.0, thal=1.0, target=0.0), Row(age=49.0, sex=1.0, cp=2.0, trestbps=118.0, chol=149.0, fbs=0.0, restecg=0.0, thalach=126.0, exang=0.0, oldpeak=0.8, slope=2.0, ca=3.0, thal=2.0, target=0.0), Row(age=53.0, sex=0.0, cp=0.0, trestbps=138.0, chol=234.0, fbs=0.0, restecg=0.0, thalach=160.0, exang=0.0, oldpeak=0.0, slope=2.0, ca=0.0, thal=2.0, target=1.0), Row(age=52.0, sex=1.0, cp=2.0, trestbps=172.0, chol=199.0, fbs=1.0, restecg=1.0, thalach=162.0, exang=0.0, oldpeak=0.5, slope=2.0, ca=0.0, thal=3.0, target=1.0), Row(age=51.0, sex=1.0, cp=3.0, trestbps=125.0, chol=213.0, fbs=0.0, restecg=0.0, thalach=125.0, exang=1.0, oldpeak=1.4, slope=2.0, ca=1.0, thal=2.0, target=1.0), Row(age=51.0, sex=1.0, cp=0.0, trestbps=140.0, chol=261.0, fbs=0.0, restecg=0.0, thalach=186.0, exang=1.0, oldpeak=0.0, slope=2.0, ca=0.0, thal=2.0, target=1.0), Row(age=70.0, sex=1.0, cp=0.0, trestbps=145.0, chol=174.0, fbs=0.0, restecg=1.0, thalach=125.0, exang=1.0, oldpeak=2.6, slope=0.0, ca=0.0, thal=3.0, target=0.0), Row(age=35.0, sex=0.0, cp=0.0, trestbps=138.0, chol=183.0, fbs=0.0, restecg=1.0, thalach=182.0, exang=0.0, oldpeak=1.4, slope=2.0, ca=0.0, thal=2.0, target=1.0), Row(age=58.0, sex=1.0, cp=2.0, trestbps=112.0, chol=230.0, fbs=0.0, restecg=0.0, thalach=165.0, exang=0.0, oldpeak=2.5, slope=1.0, ca=1.0, thal=3.0, target=0.0), Row(age=59.0, sex=1.0, cp=3.0, trestbps=160.0, chol=273.0, fbs=0.0, restecg=0.0, thalach=125.0, exang=0.0, oldpeak=0.0, slope=2.0, ca=0.0, thal=2.0, target=0.0), Row(age=60.0, sex=1.0, cp=0.0, trestbps=140.0, chol=293.0, fbs=0.0, restecg=0.0, thalach=170.0, exang=0.0, oldpeak=1.2, slope=1.0, ca=2.0, thal=3.0, target=0.0), Row(age=56.0, sex=1.0, cp=0.0, trestbps=132.0, chol=184.0, fbs=0.0, restecg=0.0, thalach=105.0, exang=1.0, oldpeak=2.1, slope=1.0, ca=1.0, thal=1.0, target=0.0), Row(age=35.0, sex=0.0, cp=0.0, trestbps=138.0, chol=183.0, fbs=0.0, restecg=1.0, thalach=182.0, exang=0.0, oldpeak=1.4, slope=2.0, ca=0.0, thal=2.0, target=1.0), Row(age=61.0, sex=1.0, cp=0.0, trestbps=138.0, chol=166.0, fbs=0.0, restecg=0.0, thalach=125.0, exang=1.0, oldpeak=3.6, slope=1.0, ca=1.0, thal=2.0, target=0.0), Row(age=58.0, sex=0.0, cp=3.0, trestbps=150.0, chol=283.0, fbs=1.0, restecg=0.0, thalach=162.0, exang=0.0, oldpeak=1.0, slope=2.0, ca=0.0, thal=2.0, target=1.0), Row(age=52.0, sex=1.0, cp=0.0, trestbps=128.0, chol=255.0, fbs=0.0, restecg=1.0, thalach=161.0, exang=1.0, oldpeak=0.0, slope=2.0, ca=1.0, thal=3.0, target=0.0), Row(age=58.0, sex=1.0, cp=1.0, trestbps=120.0, chol=284.0, fbs=0.0, restecg=0.0, thalach=160.0, exang=0.0, oldpeak=1.8, slope=1.0, ca=0.0, thal=2.0, target=0.0), Row(age=37.0, sex=1.0, cp=2.0, trestbps=130.0, chol=250.0, fbs=0.0, restecg=1.0, thalach=187.0, exang=0.0, oldpeak=3.5, slope=0.0, ca=0.0, thal=2.0, target=1.0), Row(age=52.0, sex=1.0, cp=0.0, trestbps=128.0, chol=255.0, fbs=0.0, restecg=1.0, thalach=161.0, exang=1.0, oldpeak=0.0, slope=2.0, ca=1.0, thal=3.0, target=0.0), Row(age=67.0, sex=1.0, cp=0.0, trestbps=120.0, chol=229.0, fbs=0.0, restecg=0.0, thalach=129.0, exang=1.0, oldpeak=2.6, slope=1.0, ca=2.0, thal=3.0, target=0.0), Row(age=65.0, sex=1.0, cp=3.0, trestbps=138.0, chol=282.0, fbs=1.0, restecg=0.0, thalach=174.0, exang=0.0, oldpeak=1.4, slope=1.0, ca=1.0, thal=2.0, target=0.0), Row(age=46.0, sex=1.0, cp=1.0, trestbps=101.0, chol=197.0, fbs=1.0, restecg=1.0, thalach=156.0, exang=0.0, oldpeak=0.0, slope=2.0, ca=0.0, thal=3.0, target=1.0), Row(age=68.0, sex=0.0, cp=2.0, trestbps=120.0, chol=211.0, fbs=0.0, restecg=0.0, thalach=115.0, exang=0.0, oldpeak=1.5, slope=1.0, ca=0.0, thal=2.0, target=1.0), Row(age=43.0, sex=1.0, cp=0.0, trestbps=115.0, chol=303.0, fbs=0.0, restecg=1.0, thalach=181.0, exang=0.0, oldpeak=1.2, slope=1.0, ca=0.0, thal=2.0, target=1.0), Row(age=68.0, sex=0.0, cp=2.0, trestbps=120.0, chol=211.0, fbs=0.0, restecg=0.0, thalach=115.0, exang=0.0, oldpeak=1.5, slope=1.0, ca=0.0, thal=2.0, target=1.0), Row(age=51.0, sex=1.0, cp=0.0, trestbps=140.0, chol=299.0, fbs=0.0, restecg=1.0, thalach=173.0, exang=1.0, oldpeak=1.6, slope=2.0, ca=0.0, thal=3.0, target=0.0), Row(age=52.0, sex=1.0, cp=0.0, trestbps=112.0, chol=230.0, fbs=0.0, restecg=1.0, thalach=160.0, exang=0.0, oldpeak=0.0, slope=2.0, ca=1.0, thal=2.0, target=0.0), Row(age=64.0, sex=1.0, cp=2.0, trestbps=140.0, chol=335.0, fbs=0.0, restecg=1.0, thalach=158.0, exang=0.0, oldpeak=0.0, slope=2.0, ca=0.0, thal=2.0, target=0.0), Row(age=59.0, sex=1.0, cp=3.0, trestbps=170.0, chol=288.0, fbs=0.0, restecg=0.0, thalach=159.0, exang=0.0, oldpeak=0.2, slope=1.0, ca=0.0, thal=3.0, target=0.0), Row(age=52.0, sex=1.0, cp=0.0, trestbps=125.0, chol=212.0, fbs=0.0, restecg=1.0, thalach=168.0, exang=0.0, oldpeak=1.0, slope=2.0, ca=2.0, thal=3.0, target=0.0), Row(age=59.0, sex=1.0, cp=3.0, trestbps=160.0, chol=273.0, fbs=0.0, restecg=0.0, thalach=125.0, exang=0.0, oldpeak=0.0, slope=2.0, ca=0.0, thal=2.0, target=0.0), Row(age=60.0, sex=0.0, cp=3.0, trestbps=150.0, chol=240.0, fbs=0.0, restecg=1.0, thalach=171.0, exang=0.0, oldpeak=0.9, slope=2.0, ca=0.0, thal=2.0, target=1.0), Row(age=41.0, sex=1.0, cp=2.0, trestbps=112.0, chol=250.0, fbs=0.0, restecg=1.0, thalach=179.0, exang=0.0, oldpeak=0.0, slope=2.0, ca=0.0, thal=2.0, target=1.0), Row(age=41.0, sex=1.0, cp=1.0, trestbps=110.0, chol=235.0, fbs=0.0, restecg=1.0, thalach=153.0, exang=0.0, oldpeak=0.0, slope=2.0, ca=0.0, thal=2.0, target=1.0), Row(age=56.0, sex=1.0, cp=1.0, trestbps=120.0, chol=240.0, fbs=0.0, restecg=1.0, thalach=169.0, exang=0.0, oldpeak=0.0, slope=0.0, ca=0.0, thal=2.0, target=1.0), Row(age=56.0, sex=1.0, cp=1.0, trestbps=120.0, chol=236.0, fbs=0.0, restecg=1.0, thalach=178.0, exang=0.0, oldpeak=0.8, slope=2.0, ca=0.0, thal=2.0, target=1.0), Row(age=48.0, sex=0.0, cp=2.0, trestbps=130.0, chol=275.0, fbs=0.0, restecg=1.0, thalach=139.0, exang=0.0, oldpeak=0.2, slope=2.0, ca=0.0, thal=2.0, target=1.0), Row(age=39.0, sex=1.0, cp=2.0, trestbps=140.0, chol=321.0, fbs=0.0, restecg=0.0, thalach=182.0, exang=0.0, oldpeak=0.0, slope=2.0, ca=0.0, thal=2.0, target=1.0), Row(age=64.0, sex=1.0, cp=3.0, trestbps=170.0, chol=227.0, fbs=0.0, restecg=0.0, thalach=155.0, exang=0.0, oldpeak=0.6, slope=1.0, ca=0.0, thal=3.0, target=1.0), Row(age=57.0, sex=1.0, cp=0.0, trestbps=140.0, chol=192.0, fbs=0.0, restecg=1.0, thalach=148.0, exang=0.0, oldpeak=0.4, slope=1.0, ca=0.0, thal=1.0, target=1.0), Row(age=59.0, sex=1.0, cp=3.0, trestbps=160.0, chol=273.0, fbs=0.0, restecg=0.0, thalach=125.0, exang=0.0, oldpeak=0.0, slope=2.0, ca=0.0, thal=2.0, target=0.0), Row(age=60.0, sex=1.0, cp=0.0, trestbps=130.0, chol=206.0, fbs=0.0, restecg=0.0, thalach=132.0, exang=1.0, oldpeak=2.4, slope=1.0, ca=2.0, thal=3.0, target=0.0), Row(age=61.0, sex=1.0, cp=0.0, trestbps=140.0, chol=207.0, fbs=0.0, restecg=0.0, thalach=138.0, exang=1.0, oldpeak=1.9, slope=2.0, ca=1.0, thal=3.0, target=0.0), Row(age=43.0, sex=0.0, cp=2.0, trestbps=122.0, chol=213.0, fbs=0.0, restecg=1.0, thalach=165.0, exang=0.0, oldpeak=0.2, slope=1.0, ca=0.0, thal=2.0, target=1.0), Row(age=54.0, sex=1.0, cp=0.0, trestbps=120.0, chol=188.0, fbs=0.0, restecg=1.0, thalach=113.0, exang=0.0, oldpeak=1.4, slope=1.0, ca=1.0, thal=3.0, target=0.0), Row(age=59.0, sex=1.0, cp=0.0, trestbps=138.0, chol=271.0, fbs=0.0, restecg=0.0, thalach=182.0, exang=0.0, oldpeak=0.0, slope=2.0, ca=0.0, thal=2.0, target=1.0), Row(age=57.0, sex=1.0, cp=0.0, trestbps=132.0, chol=207.0, fbs=0.0, restecg=1.0, thalach=168.0, exang=1.0, oldpeak=0.0, slope=2.0, ca=0.0, thal=3.0, target=1.0), Row(age=57.0, sex=1.0, cp=1.0, trestbps=154.0, chol=232.0, fbs=0.0, restecg=0.0, thalach=164.0, exang=0.0, oldpeak=0.0, slope=2.0, ca=1.0, thal=2.0, target=0.0), Row(age=57.0, sex=1.0, cp=0.0, trestbps=130.0, chol=131.0, fbs=0.0, restecg=1.0, thalach=115.0, exang=1.0, oldpeak=1.2, slope=1.0, ca=1.0, thal=3.0, target=0.0), Row(age=48.0, sex=1.0, cp=0.0, trestbps=124.0, chol=274.0, fbs=0.0, restecg=0.0, thalach=166.0, exang=0.0, oldpeak=0.5, slope=1.0, ca=0.0, thal=3.0, target=0.0), Row(age=70.0, sex=1.0, cp=0.0, trestbps=145.0, chol=174.0, fbs=0.0, restecg=1.0, thalach=125.0, exang=1.0, oldpeak=2.6, slope=0.0, ca=0.0, thal=3.0, target=0.0), Row(age=57.0, sex=1.0, cp=0.0, trestbps=165.0, chol=289.0, fbs=1.0, restecg=0.0, thalach=124.0, exang=0.0, oldpeak=1.0, slope=1.0, ca=3.0, thal=3.0, target=0.0), Row(age=61.0, sex=1.0, cp=0.0, trestbps=120.0, chol=260.0, fbs=0.0, restecg=1.0, thalach=140.0, exang=1.0, oldpeak=3.6, slope=1.0, ca=1.0, thal=3.0, target=0.0), Row(age=57.0, sex=1.0, cp=0.0, trestbps=110.0, chol=201.0, fbs=0.0, restecg=1.0, thalach=126.0, exang=1.0, oldpeak=1.5, slope=1.0, ca=0.0, thal=1.0, target=1.0), Row(age=60.0, sex=0.0, cp=0.0, trestbps=150.0, chol=258.0, fbs=0.0, restecg=0.0, thalach=157.0, exang=0.0, oldpeak=2.6, slope=1.0, ca=2.0, thal=3.0, target=0.0), Row(age=63.0, sex=0.0, cp=0.0, trestbps=150.0, chol=407.0, fbs=0.0, restecg=0.0, thalach=154.0, exang=0.0, oldpeak=4.0, slope=1.0, ca=3.0, thal=3.0, target=0.0), Row(age=55.0, sex=0.0, cp=0.0, trestbps=128.0, chol=205.0, fbs=0.0, restecg=2.0, thalach=130.0, exang=1.0, oldpeak=2.0, slope=1.0, ca=1.0, thal=3.0, target=0.0), Row(age=64.0, sex=0.0, cp=0.0, trestbps=180.0, chol=325.0, fbs=0.0, restecg=1.0, thalach=154.0, exang=1.0, oldpeak=0.0, slope=2.0, ca=0.0, thal=2.0, target=1.0), Row(age=54.0, sex=1.0, cp=0.0, trestbps=110.0, chol=239.0, fbs=0.0, restecg=1.0, thalach=126.0, exang=1.0, oldpeak=2.8, slope=1.0, ca=1.0, thal=3.0, target=0.0), Row(age=52.0, sex=1.0, cp=0.0, trestbps=128.0, chol=204.0, fbs=1.0, restecg=1.0, thalach=156.0, exang=1.0, oldpeak=1.0, slope=1.0, ca=0.0, thal=0.0, target=0.0), Row(age=51.0, sex=1.0, cp=0.0, trestbps=140.0, chol=299.0, fbs=0.0, restecg=1.0, thalach=173.0, exang=1.0, oldpeak=1.6, slope=2.0, ca=0.0, thal=3.0, target=0.0), Row(age=62.0, sex=0.0, cp=2.0, trestbps=130.0, chol=263.0, fbs=0.0, restecg=1.0, thalach=97.0, exang=0.0, oldpeak=1.2, slope=1.0, ca=1.0, thal=3.0, target=0.0), Row(age=59.0, sex=1.0, cp=3.0, trestbps=178.0, chol=270.0, fbs=0.0, restecg=0.0, thalach=145.0, exang=0.0, oldpeak=4.2, slope=0.0, ca=0.0, thal=3.0, target=1.0), Row(age=52.0, sex=1.0, cp=1.0, trestbps=134.0, chol=201.0, fbs=0.0, restecg=1.0, thalach=158.0, exang=0.0, oldpeak=0.8, slope=2.0, ca=1.0, thal=2.0, target=1.0), Row(age=42.0, sex=0.0, cp=0.0, trestbps=102.0, chol=265.0, fbs=0.0, restecg=0.0, thalach=122.0, exang=0.0, oldpeak=0.6, slope=1.0, ca=0.0, thal=2.0, target=1.0), Row(age=59.0, sex=1.0, cp=0.0, trestbps=135.0, chol=234.0, fbs=0.0, restecg=1.0, thalach=161.0, exang=0.0, oldpeak=0.5, slope=1.0, ca=0.0, thal=3.0, target=1.0), Row(age=61.0, sex=1.0, cp=3.0, trestbps=134.0, chol=234.0, fbs=0.0, restecg=1.0, thalach=145.0, exang=0.0, oldpeak=2.6, slope=1.0, ca=2.0, thal=2.0, target=0.0), Row(age=42.0, sex=0.0, cp=0.0, trestbps=102.0, chol=265.0, fbs=0.0, restecg=0.0, thalach=122.0, exang=0.0, oldpeak=0.6, slope=1.0, ca=0.0, thal=2.0, target=1.0), Row(age=62.0, sex=0.0, cp=0.0, trestbps=140.0, chol=268.0, fbs=0.0, restecg=0.0, thalach=160.0, exang=0.0, oldpeak=3.6, slope=0.0, ca=2.0, thal=2.0, target=0.0), Row(age=59.0, sex=1.0, cp=2.0, trestbps=126.0, chol=218.0, fbs=1.0, restecg=1.0, thalach=134.0, exang=0.0, oldpeak=2.2, slope=1.0, ca=1.0, thal=1.0, target=0.0), Row(age=55.0, sex=1.0, cp=1.0, trestbps=130.0, chol=262.0, fbs=0.0, restecg=1.0, thalach=155.0, exang=0.0, oldpeak=0.0, slope=2.0, ca=0.0, thal=2.0, target=1.0), Row(age=64.0, sex=1.0, cp=0.0, trestbps=120.0, chol=246.0, fbs=0.0, restecg=0.0, thalach=96.0, exang=1.0, oldpeak=2.2, slope=0.0, ca=1.0, thal=2.0, target=0.0), Row(age=42.0, sex=1.0, cp=0.0, trestbps=140.0, chol=226.0, fbs=0.0, restecg=1.0, thalach=178.0, exang=0.0, oldpeak=0.0, slope=2.0, ca=0.0, thal=2.0, target=1.0), Row(age=50.0, sex=0.0, cp=1.0, trestbps=120.0, chol=244.0, fbs=0.0, restecg=1.0, thalach=162.0, exang=0.0, oldpeak=1.1, slope=2.0, ca=0.0, thal=2.0, target=1.0), Row(age=62.0, sex=1.0, cp=0.0, trestbps=120.0, chol=267.0, fbs=0.0, restecg=1.0, thalach=99.0, exang=1.0, oldpeak=1.8, slope=1.0, ca=2.0, thal=3.0, target=0.0), Row(age=50.0, sex=1.0, cp=0.0, trestbps=144.0, chol=200.0, fbs=0.0, restecg=0.0, thalach=126.0, exang=1.0, oldpeak=0.9, slope=1.0, ca=0.0, thal=3.0, target=0.0), Row(age=50.0, sex=1.0, cp=2.0, trestbps=140.0, chol=233.0, fbs=0.0, restecg=1.0, thalach=163.0, exang=0.0, oldpeak=0.6, slope=1.0, ca=1.0, thal=3.0, target=0.0), Row(age=58.0, sex=0.0, cp=1.0, trestbps=136.0, chol=319.0, fbs=1.0, restecg=0.0, thalach=152.0, exang=0.0, oldpeak=0.0, slope=2.0, ca=2.0, thal=2.0, target=0.0), Row(age=35.0, sex=1.0, cp=0.0, trestbps=120.0, chol=198.0, fbs=0.0, restecg=1.0, thalach=130.0, exang=1.0, oldpeak=1.6, slope=1.0, ca=0.0, thal=3.0, target=0.0), Row(age=45.0, sex=1.0, cp=0.0, trestbps=104.0, chol=208.0, fbs=0.0, restecg=0.0, thalach=148.0, exang=1.0, oldpeak=3.0, slope=1.0, ca=0.0, thal=2.0, target=1.0), Row(age=66.0, sex=1.0, cp=0.0, trestbps=112.0, chol=212.0, fbs=0.0, restecg=0.0, thalach=132.0, exang=1.0, oldpeak=0.1, slope=2.0, ca=1.0, thal=2.0, target=0.0), Row(age=46.0, sex=1.0, cp=0.0, trestbps=120.0, chol=249.0, fbs=0.0, restecg=0.0, thalach=144.0, exang=0.0, oldpeak=0.8, slope=2.0, ca=0.0, thal=3.0, target=0.0), Row(age=65.0, sex=1.0, cp=0.0, trestbps=135.0, chol=254.0, fbs=0.0, restecg=0.0, thalach=127.0, exang=0.0, oldpeak=2.8, slope=1.0, ca=1.0, thal=3.0, target=0.0), Row(age=47.0, sex=1.0, cp=2.0, trestbps=130.0, chol=253.0, fbs=0.0, restecg=1.0, thalach=179.0, exang=0.0, oldpeak=0.0, slope=2.0, ca=0.0, thal=2.0, target=1.0), Row(age=59.0, sex=1.0, cp=3.0, trestbps=134.0, chol=204.0, fbs=0.0, restecg=1.0, thalach=162.0, exang=0.0, oldpeak=0.8, slope=2.0, ca=2.0, thal=2.0, target=0.0), Row(age=38.0, sex=1.0, cp=3.0, trestbps=120.0, chol=231.0, fbs=0.0, restecg=1.0, thalach=182.0, exang=1.0, oldpeak=3.8, slope=1.0, ca=0.0, thal=3.0, target=0.0), Row(age=39.0, sex=1.0, cp=0.0, trestbps=118.0, chol=219.0, fbs=0.0, restecg=1.0, thalach=140.0, exang=0.0, oldpeak=1.2, slope=1.0, ca=0.0, thal=3.0, target=0.0), Row(age=58.0, sex=1.0, cp=0.0, trestbps=146.0, chol=218.0, fbs=0.0, restecg=1.0, thalach=105.0, exang=0.0, oldpeak=2.0, slope=1.0, ca=1.0, thal=3.0, target=0.0), Row(age=44.0, sex=1.0, cp=1.0, trestbps=120.0, chol=263.0, fbs=0.0, restecg=1.0, thalach=173.0, exang=0.0, oldpeak=0.0, slope=2.0, ca=0.0, thal=3.0, target=1.0), Row(age=54.0, sex=1.0, cp=0.0, trestbps=140.0, chol=239.0, fbs=0.0, restecg=1.0, thalach=160.0, exang=0.0, oldpeak=1.2, slope=2.0, ca=0.0, thal=2.0, target=1.0), Row(age=61.0, sex=0.0, cp=0.0, trestbps=130.0, chol=330.0, fbs=0.0, restecg=0.0, thalach=169.0, exang=0.0, oldpeak=0.0, slope=2.0, ca=0.0, thal=2.0, target=0.0), Row(age=57.0, sex=1.0, cp=0.0, trestbps=130.0, chol=131.0, fbs=0.0, restecg=1.0, thalach=115.0, exang=1.0, oldpeak=1.2, slope=1.0, ca=1.0, thal=3.0, target=0.0), Row(age=54.0, sex=1.0, cp=0.0, trestbps=110.0, chol=206.0, fbs=0.0, restecg=0.0, thalach=108.0, exang=1.0, oldpeak=0.0, slope=1.0, ca=1.0, thal=2.0, target=0.0), Row(age=42.0, sex=1.0, cp=2.0, trestbps=120.0, chol=240.0, fbs=1.0, restecg=1.0, thalach=194.0, exang=0.0, oldpeak=0.8, slope=0.0, ca=0.0, thal=3.0, target=1.0), Row(age=54.0, sex=1.0, cp=0.0, trestbps=124.0, chol=266.0, fbs=0.0, restecg=0.0, thalach=109.0, exang=1.0, oldpeak=2.2, slope=1.0, ca=1.0, thal=3.0, target=0.0), Row(age=60.0, sex=1.0, cp=0.0, trestbps=130.0, chol=206.0, fbs=0.0, restecg=0.0, thalach=132.0, exang=1.0, oldpeak=2.4, slope=1.0, ca=2.0, thal=3.0, target=0.0), Row(age=65.0, sex=1.0, cp=0.0, trestbps=135.0, chol=254.0, fbs=0.0, restecg=0.0, thalach=127.0, exang=0.0, oldpeak=2.8, slope=1.0, ca=1.0, thal=3.0, target=0.0), Row(age=40.0, sex=1.0, cp=0.0, trestbps=152.0, chol=223.0, fbs=0.0, restecg=1.0, thalach=181.0, exang=0.0, oldpeak=0.0, slope=2.0, ca=0.0, thal=3.0, target=0.0), Row(age=51.0, sex=0.0, cp=2.0, trestbps=140.0, chol=308.0, fbs=0.0, restecg=0.0, thalach=142.0, exang=0.0, oldpeak=1.5, slope=2.0, ca=1.0, thal=2.0, target=1.0), Row(age=38.0, sex=1.0, cp=3.0, trestbps=120.0, chol=231.0, fbs=0.0, restecg=1.0, thalach=182.0, exang=1.0, oldpeak=3.8, slope=1.0, ca=0.0, thal=3.0, target=0.0), Row(age=42.0, sex=1.0, cp=2.0, trestbps=130.0, chol=180.0, fbs=0.0, restecg=1.0, thalach=150.0, exang=0.0, oldpeak=0.0, slope=2.0, ca=0.0, thal=2.0, target=1.0), Row(age=56.0, sex=1.0, cp=1.0, trestbps=120.0, chol=240.0, fbs=0.0, restecg=1.0, thalach=169.0, exang=0.0, oldpeak=0.0, slope=0.0, ca=0.0, thal=2.0, target=1.0), Row(age=43.0, sex=1.0, cp=2.0, trestbps=130.0, chol=315.0, fbs=0.0, restecg=1.0, thalach=162.0, exang=0.0, oldpeak=1.9, slope=2.0, ca=1.0, thal=2.0, target=1.0), Row(age=64.0, sex=1.0, cp=2.0, trestbps=140.0, chol=335.0, fbs=0.0, restecg=1.0, thalach=158.0, exang=0.0, oldpeak=0.0, slope=2.0, ca=0.0, thal=2.0, target=0.0), Row(age=53.0, sex=1.0, cp=0.0, trestbps=142.0, chol=226.0, fbs=0.0, restecg=0.0, thalach=111.0, exang=1.0, oldpeak=0.0, slope=2.0, ca=0.0, thal=3.0, target=1.0), Row(age=49.0, sex=0.0, cp=1.0, trestbps=134.0, chol=271.0, fbs=0.0, restecg=1.0, thalach=162.0, exang=0.0, oldpeak=0.0, slope=1.0, ca=0.0, thal=2.0, target=1.0), Row(age=57.0, sex=0.0, cp=0.0, trestbps=140.0, chol=241.0, fbs=0.0, restecg=1.0, thalach=123.0, exang=1.0, oldpeak=0.2, slope=1.0, ca=0.0, thal=3.0, target=0.0), Row(age=52.0, sex=0.0, cp=2.0, trestbps=136.0, chol=196.0, fbs=0.0, restecg=0.0, thalach=169.0, exang=0.0, oldpeak=0.1, slope=1.0, ca=0.0, thal=2.0, target=1.0), Row(age=69.0, sex=0.0, cp=3.0, trestbps=140.0, chol=239.0, fbs=0.0, restecg=1.0, thalach=151.0, exang=0.0, oldpeak=1.8, slope=2.0, ca=2.0, thal=2.0, target=1.0), Row(age=65.0, sex=1.0, cp=0.0, trestbps=120.0, chol=177.0, fbs=0.0, restecg=1.0, thalach=140.0, exang=0.0, oldpeak=0.4, slope=2.0, ca=0.0, thal=3.0, target=1.0), Row(age=66.0, sex=0.0, cp=0.0, trestbps=178.0, chol=228.0, fbs=1.0, restecg=1.0, thalach=165.0, exang=1.0, oldpeak=1.0, slope=1.0, ca=2.0, thal=3.0, target=0.0), Row(age=56.0, sex=1.0, cp=3.0, trestbps=120.0, chol=193.0, fbs=0.0, restecg=0.0, thalach=162.0, exang=0.0, oldpeak=1.9, slope=1.0, ca=0.0, thal=3.0, target=1.0), Row(age=67.0, sex=0.0, cp=2.0, trestbps=152.0, chol=277.0, fbs=0.0, restecg=1.0, thalach=172.0, exang=0.0, oldpeak=0.0, slope=2.0, ca=1.0, thal=2.0, target=1.0), Row(age=54.0, sex=0.0, cp=2.0, trestbps=160.0, chol=201.0, fbs=0.0, restecg=1.0, thalach=163.0, exang=0.0, oldpeak=0.0, slope=2.0, ca=1.0, thal=2.0, target=1.0), Row(age=70.0, sex=1.0, cp=0.0, trestbps=145.0, chol=174.0, fbs=0.0, restecg=1.0, thalach=125.0, exang=1.0, oldpeak=2.6, slope=0.0, ca=0.0, thal=3.0, target=0.0), Row(age=57.0, sex=1.0, cp=0.0, trestbps=132.0, chol=207.0, fbs=0.0, restecg=1.0, thalach=168.0, exang=1.0, oldpeak=0.0, slope=2.0, ca=0.0, thal=3.0, target=1.0), Row(age=67.0, sex=1.0, cp=0.0, trestbps=160.0, chol=286.0, fbs=0.0, restecg=0.0, thalach=108.0, exang=1.0, oldpeak=1.5, slope=1.0, ca=3.0, thal=2.0, target=0.0), Row(age=62.0, sex=0.0, cp=2.0, trestbps=130.0, chol=263.0, fbs=0.0, restecg=1.0, thalach=97.0, exang=0.0, oldpeak=1.2, slope=1.0, ca=1.0, thal=3.0, target=0.0), Row(age=54.0, sex=0.0, cp=2.0, trestbps=135.0, chol=304.0, fbs=1.0, restecg=1.0, thalach=170.0, exang=0.0, oldpeak=0.0, slope=2.0, ca=0.0, thal=2.0, target=1.0), Row(age=45.0, sex=0.0, cp=0.0, trestbps=138.0, chol=236.0, fbs=0.0, restecg=0.0, thalach=152.0, exang=1.0, oldpeak=0.2, slope=1.0, ca=0.0, thal=2.0, target=1.0), Row(age=53.0, sex=0.0, cp=0.0, trestbps=130.0, chol=264.0, fbs=0.0, restecg=0.0, thalach=143.0, exang=0.0, oldpeak=0.4, slope=1.0, ca=0.0, thal=2.0, target=1.0), Row(age=62.0, sex=1.0, cp=2.0, trestbps=130.0, chol=231.0, fbs=0.0, restecg=1.0, thalach=146.0, exang=0.0, oldpeak=1.8, slope=1.0, ca=3.0, thal=3.0, target=1.0), Row(age=49.0, sex=0.0, cp=0.0, trestbps=130.0, chol=269.0, fbs=0.0, restecg=1.0, thalach=163.0, exang=0.0, oldpeak=0.0, slope=2.0, ca=0.0, thal=2.0, target=1.0), Row(age=50.0, sex=1.0, cp=2.0, trestbps=140.0, chol=233.0, fbs=0.0, restecg=1.0, thalach=163.0, exang=0.0, oldpeak=0.6, slope=1.0, ca=1.0, thal=3.0, target=0.0), Row(age=65.0, sex=0.0, cp=2.0, trestbps=140.0, chol=417.0, fbs=1.0, restecg=0.0, thalach=157.0, exang=0.0, oldpeak=0.8, slope=2.0, ca=1.0, thal=2.0, target=1.0), Row(age=69.0, sex=0.0, cp=3.0, trestbps=140.0, chol=239.0, fbs=0.0, restecg=1.0, thalach=151.0, exang=0.0, oldpeak=1.8, slope=2.0, ca=2.0, thal=2.0, target=1.0), Row(age=52.0, sex=0.0, cp=2.0, trestbps=136.0, chol=196.0, fbs=0.0, restecg=0.0, thalach=169.0, exang=0.0, oldpeak=0.1, slope=1.0, ca=0.0, thal=2.0, target=1.0), Row(age=58.0, sex=0.0, cp=0.0, trestbps=100.0, chol=248.0, fbs=0.0, restecg=0.0, thalach=122.0, exang=0.0, oldpeak=1.0, slope=1.0, ca=0.0, thal=2.0, target=1.0), Row(age=52.0, sex=1.0, cp=0.0, trestbps=108.0, chol=233.0, fbs=1.0, restecg=1.0, thalach=147.0, exang=0.0, oldpeak=0.1, slope=2.0, ca=3.0, thal=3.0, target=1.0), Row(age=57.0, sex=0.0, cp=0.0, trestbps=140.0, chol=241.0, fbs=0.0, restecg=1.0, thalach=123.0, exang=1.0, oldpeak=0.2, slope=1.0, ca=0.0, thal=3.0, target=0.0), Row(age=44.0, sex=0.0, cp=2.0, trestbps=108.0, chol=141.0, fbs=0.0, restecg=1.0, thalach=175.0, exang=0.0, oldpeak=0.6, slope=1.0, ca=0.0, thal=2.0, target=1.0), Row(age=76.0, sex=0.0, cp=2.0, trestbps=140.0, chol=197.0, fbs=0.0, restecg=2.0, thalach=116.0, exang=0.0, oldpeak=1.1, slope=1.0, ca=0.0, thal=2.0, target=1.0), Row(age=58.0, sex=1.0, cp=0.0, trestbps=128.0, chol=259.0, fbs=0.0, restecg=0.0, thalach=130.0, exang=1.0, oldpeak=3.0, slope=1.0, ca=2.0, thal=3.0, target=0.0), Row(age=60.0, sex=0.0, cp=2.0, trestbps=120.0, chol=178.0, fbs=1.0, restecg=1.0, thalach=96.0, exang=0.0, oldpeak=0.0, slope=2.0, ca=0.0, thal=2.0, target=1.0), Row(age=53.0, sex=1.0, cp=0.0, trestbps=140.0, chol=203.0, fbs=1.0, restecg=0.0, thalach=155.0, exang=1.0, oldpeak=3.1, slope=0.0, ca=0.0, thal=3.0, target=0.0), Row(age=52.0, sex=1.0, cp=1.0, trestbps=120.0, chol=325.0, fbs=0.0, restecg=1.0, thalach=172.0, exang=0.0, oldpeak=0.2, slope=2.0, ca=0.0, thal=2.0, target=1.0), Row(age=38.0, sex=1.0, cp=2.0, trestbps=138.0, chol=175.0, fbs=0.0, restecg=1.0, thalach=173.0, exang=0.0, oldpeak=0.0, slope=2.0, ca=4.0, thal=2.0, target=1.0), Row(age=52.0, sex=1.0, cp=2.0, trestbps=172.0, chol=199.0, fbs=1.0, restecg=1.0, thalach=162.0, exang=0.0, oldpeak=0.5, slope=2.0, ca=0.0, thal=3.0, target=1.0), Row(age=52.0, sex=1.0, cp=3.0, trestbps=118.0, chol=186.0, fbs=0.0, restecg=0.0, thalach=190.0, exang=0.0, oldpeak=0.0, slope=1.0, ca=0.0, thal=1.0, target=1.0), Row(age=51.0, sex=1.0, cp=2.0, trestbps=125.0, chol=245.0, fbs=1.0, restecg=0.0, thalach=166.0, exang=0.0, oldpeak=2.4, slope=1.0, ca=0.0, thal=2.0, target=1.0), Row(age=43.0, sex=1.0, cp=0.0, trestbps=110.0, chol=211.0, fbs=0.0, restecg=1.0, thalach=161.0, exang=0.0, oldpeak=0.0, slope=2.0, ca=0.0, thal=3.0, target=1.0), Row(age=39.0, sex=1.0, cp=0.0, trestbps=118.0, chol=219.0, fbs=0.0, restecg=1.0, thalach=140.0, exang=0.0, oldpeak=1.2, slope=1.0, ca=0.0, thal=3.0, target=0.0), Row(age=63.0, sex=0.0, cp=0.0, trestbps=108.0, chol=269.0, fbs=0.0, restecg=1.0, thalach=169.0, exang=1.0, oldpeak=1.8, slope=1.0, ca=2.0, thal=2.0, target=0.0), Row(age=52.0, sex=1.0, cp=1.0, trestbps=128.0, chol=205.0, fbs=1.0, restecg=1.0, thalach=184.0, exang=0.0, oldpeak=0.0, slope=2.0, ca=0.0, thal=2.0, target=1.0), Row(age=44.0, sex=1.0, cp=0.0, trestbps=110.0, chol=197.0, fbs=0.0, restecg=0.0, thalach=177.0, exang=0.0, oldpeak=0.0, slope=2.0, ca=1.0, thal=2.0, target=0.0), Row(age=45.0, sex=1.0, cp=0.0, trestbps=142.0, chol=309.0, fbs=0.0, restecg=0.0, thalach=147.0, exang=1.0, oldpeak=0.0, slope=1.0, ca=3.0, thal=3.0, target=0.0), Row(age=57.0, sex=1.0, cp=0.0, trestbps=140.0, chol=192.0, fbs=0.0, restecg=1.0, thalach=148.0, exang=0.0, oldpeak=0.4, slope=1.0, ca=0.0, thal=1.0, target=1.0), Row(age=39.0, sex=1.0, cp=0.0, trestbps=118.0, chol=219.0, fbs=0.0, restecg=1.0, thalach=140.0, exang=0.0, oldpeak=1.2, slope=1.0, ca=0.0, thal=3.0, target=0.0), Row(age=67.0, sex=0.0, cp=0.0, trestbps=106.0, chol=223.0, fbs=0.0, restecg=1.0, thalach=142.0, exang=0.0, oldpeak=0.3, slope=2.0, ca=2.0, thal=2.0, target=1.0), Row(age=64.0, sex=1.0, cp=0.0, trestbps=128.0, chol=263.0, fbs=0.0, restecg=1.0, thalach=105.0, exang=1.0, oldpeak=0.2, slope=1.0, ca=1.0, thal=3.0, target=1.0), Row(age=59.0, sex=1.0, cp=0.0, trestbps=135.0, chol=234.0, fbs=0.0, restecg=1.0, thalach=161.0, exang=0.0, oldpeak=0.5, slope=1.0, ca=0.0, thal=3.0, target=1.0), Row(age=62.0, sex=1.0, cp=2.0, trestbps=130.0, chol=231.0, fbs=0.0, restecg=1.0, thalach=146.0, exang=0.0, oldpeak=1.8, slope=1.0, ca=3.0, thal=3.0, target=1.0), Row(age=55.0, sex=0.0, cp=0.0, trestbps=180.0, chol=327.0, fbs=0.0, restecg=2.0, thalach=117.0, exang=1.0, oldpeak=3.4, slope=1.0, ca=0.0, thal=2.0, target=0.0), Row(age=57.0, sex=1.0, cp=1.0, trestbps=154.0, chol=232.0, fbs=0.0, restecg=0.0, thalach=164.0, exang=0.0, oldpeak=0.0, slope=2.0, ca=1.0, thal=2.0, target=0.0), Row(age=60.0, sex=1.0, cp=0.0, trestbps=140.0, chol=293.0, fbs=0.0, restecg=0.0, thalach=170.0, exang=0.0, oldpeak=1.2, slope=1.0, ca=2.0, thal=3.0, target=0.0), Row(age=71.0, sex=0.0, cp=1.0, trestbps=160.0, chol=302.0, fbs=0.0, restecg=1.0, thalach=162.0, exang=0.0, oldpeak=0.4, slope=2.0, ca=2.0, thal=2.0, target=1.0), Row(age=56.0, sex=1.0, cp=1.0, trestbps=120.0, chol=236.0, fbs=0.0, restecg=1.0, thalach=178.0, exang=0.0, oldpeak=0.8, slope=2.0, ca=0.0, thal=2.0, target=1.0), Row(age=60.0, sex=1.0, cp=0.0, trestbps=117.0, chol=230.0, fbs=1.0, restecg=1.0, thalach=160.0, exang=1.0, oldpeak=1.4, slope=2.0, ca=2.0, thal=3.0, target=0.0), Row(age=50.0, sex=0.0, cp=0.0, trestbps=110.0, chol=254.0, fbs=0.0, restecg=0.0, thalach=159.0, exang=0.0, oldpeak=0.0, slope=2.0, ca=0.0, thal=2.0, target=1.0), Row(age=43.0, sex=1.0, cp=0.0, trestbps=132.0, chol=247.0, fbs=1.0, restecg=0.0, thalach=143.0, exang=1.0, oldpeak=0.1, slope=1.0, ca=4.0, thal=3.0, target=0.0), Row(age=59.0, sex=1.0, cp=0.0, trestbps=110.0, chol=239.0, fbs=0.0, restecg=0.0, thalach=142.0, exang=1.0, oldpeak=1.2, slope=1.0, ca=1.0, thal=3.0, target=0.0), Row(age=44.0, sex=1.0, cp=1.0, trestbps=120.0, chol=263.0, fbs=0.0, restecg=1.0, thalach=173.0, exang=0.0, oldpeak=0.0, slope=2.0, ca=0.0, thal=3.0, target=1.0), Row(age=56.0, sex=0.0, cp=0.0, trestbps=134.0, chol=409.0, fbs=0.0, restecg=0.0, thalach=150.0, exang=1.0, oldpeak=1.9, slope=1.0, ca=2.0, thal=3.0, target=0.0), Row(age=54.0, sex=1.0, cp=0.0, trestbps=120.0, chol=188.0, fbs=0.0, restecg=1.0, thalach=113.0, exang=0.0, oldpeak=1.4, slope=1.0, ca=1.0, thal=3.0, target=0.0), Row(age=42.0, sex=1.0, cp=0.0, trestbps=136.0, chol=315.0, fbs=0.0, restecg=1.0, thalach=125.0, exang=1.0, oldpeak=1.8, slope=1.0, ca=0.0, thal=1.0, target=0.0), Row(age=67.0, sex=1.0, cp=0.0, trestbps=125.0, chol=254.0, fbs=1.0, restecg=1.0, thalach=163.0, exang=0.0, oldpeak=0.2, slope=1.0, ca=2.0, thal=3.0, target=0.0), Row(age=64.0, sex=1.0, cp=0.0, trestbps=145.0, chol=212.0, fbs=0.0, restecg=0.0, thalach=132.0, exang=0.0, oldpeak=2.0, slope=1.0, ca=2.0, thal=1.0, target=0.0), Row(age=42.0, sex=1.0, cp=0.0, trestbps=140.0, chol=226.0, fbs=0.0, restecg=1.0, thalach=178.0, exang=0.0, oldpeak=0.0, slope=2.0, ca=0.0, thal=2.0, target=1.0), Row(age=66.0, sex=1.0, cp=0.0, trestbps=112.0, chol=212.0, fbs=0.0, restecg=0.0, thalach=132.0, exang=1.0, oldpeak=0.1, slope=2.0, ca=1.0, thal=2.0, target=0.0), Row(age=52.0, sex=1.0, cp=0.0, trestbps=108.0, chol=233.0, fbs=1.0, restecg=1.0, thalach=147.0, exang=0.0, oldpeak=0.1, slope=2.0, ca=3.0, thal=3.0, target=1.0), Row(age=51.0, sex=0.0, cp=2.0, trestbps=140.0, chol=308.0, fbs=0.0, restecg=0.0, thalach=142.0, exang=0.0, oldpeak=1.5, slope=2.0, ca=1.0, thal=2.0, target=1.0), Row(age=55.0, sex=0.0, cp=0.0, trestbps=128.0, chol=205.0, fbs=0.0, restecg=2.0, thalach=130.0, exang=1.0, oldpeak=2.0, slope=1.0, ca=1.0, thal=3.0, target=0.0), Row(age=58.0, sex=1.0, cp=2.0, trestbps=140.0, chol=211.0, fbs=1.0, restecg=0.0, thalach=165.0, exang=0.0, oldpeak=0.0, slope=2.0, ca=0.0, thal=2.0, target=1.0), Row(age=56.0, sex=1.0, cp=3.0, trestbps=120.0, chol=193.0, fbs=0.0, restecg=0.0, thalach=162.0, exang=0.0, oldpeak=1.9, slope=1.0, ca=0.0, thal=3.0, target=1.0), Row(age=42.0, sex=1.0, cp=1.0, trestbps=120.0, chol=295.0, fbs=0.0, restecg=1.0, thalach=162.0, exang=0.0, oldpeak=0.0, slope=2.0, ca=0.0, thal=2.0, target=1.0), Row(age=40.0, sex=1.0, cp=0.0, trestbps=152.0, chol=223.0, fbs=0.0, restecg=1.0, thalach=181.0, exang=0.0, oldpeak=0.0, slope=2.0, ca=0.0, thal=3.0, target=0.0), Row(age=51.0, sex=1.0, cp=0.0, trestbps=140.0, chol=299.0, fbs=0.0, restecg=1.0, thalach=173.0, exang=1.0, oldpeak=1.6, slope=2.0, ca=0.0, thal=3.0, target=0.0), Row(age=45.0, sex=1.0, cp=1.0, trestbps=128.0, chol=308.0, fbs=0.0, restecg=0.0, thalach=170.0, exang=0.0, oldpeak=0.0, slope=2.0, ca=0.0, thal=2.0, target=1.0), Row(age=48.0, sex=1.0, cp=1.0, trestbps=110.0, chol=229.0, fbs=0.0, restecg=1.0, thalach=168.0, exang=0.0, oldpeak=1.0, slope=0.0, ca=0.0, thal=3.0, target=0.0), Row(age=58.0, sex=1.0, cp=0.0, trestbps=114.0, chol=318.0, fbs=0.0, restecg=2.0, thalach=140.0, exang=0.0, oldpeak=4.4, slope=0.0, ca=3.0, thal=1.0, target=0.0), Row(age=44.0, sex=0.0, cp=2.0, trestbps=108.0, chol=141.0, fbs=0.0, restecg=1.0, thalach=175.0, exang=0.0, oldpeak=0.6, slope=1.0, ca=0.0, thal=2.0, target=1.0), Row(age=58.0, sex=1.0, cp=0.0, trestbps=128.0, chol=216.0, fbs=0.0, restecg=0.0, thalach=131.0, exang=1.0, oldpeak=2.2, slope=1.0, ca=3.0, thal=3.0, target=0.0), Row(age=65.0, sex=1.0, cp=3.0, trestbps=138.0, chol=282.0, fbs=1.0, restecg=0.0, thalach=174.0, exang=0.0, oldpeak=1.4, slope=1.0, ca=1.0, thal=2.0, target=0.0), Row(age=53.0, sex=1.0, cp=0.0, trestbps=123.0, chol=282.0, fbs=0.0, restecg=1.0, thalach=95.0, exang=1.0, oldpeak=2.0, slope=1.0, ca=2.0, thal=3.0, target=0.0), Row(age=41.0, sex=1.0, cp=0.0, trestbps=110.0, chol=172.0, fbs=0.0, restecg=0.0, thalach=158.0, exang=0.0, oldpeak=0.0, slope=2.0, ca=0.0, thal=3.0, target=0.0), Row(age=47.0, sex=1.0, cp=0.0, trestbps=112.0, chol=204.0, fbs=0.0, restecg=1.0, thalach=143.0, exang=0.0, oldpeak=0.1, slope=2.0, ca=0.0, thal=2.0, target=1.0), Row(age=59.0, sex=1.0, cp=1.0, trestbps=140.0, chol=221.0, fbs=0.0, restecg=1.0, thalach=164.0, exang=1.0, oldpeak=0.0, slope=2.0, ca=0.0, thal=2.0, target=1.0), Row(age=60.0, sex=1.0, cp=0.0, trestbps=125.0, chol=258.0, fbs=0.0, restecg=0.0, thalach=141.0, exang=1.0, oldpeak=2.8, slope=1.0, ca=1.0, thal=3.0, target=0.0), Row(age=47.0, sex=1.0, cp=0.0, trestbps=110.0, chol=275.0, fbs=0.0, restecg=0.0, thalach=118.0, exang=1.0, oldpeak=1.0, slope=1.0, ca=1.0, thal=2.0, target=0.0), Row(age=50.0, sex=0.0, cp=0.0, trestbps=110.0, chol=254.0, fbs=0.0, restecg=0.0, thalach=159.0, exang=0.0, oldpeak=0.0, slope=2.0, ca=0.0, thal=2.0, target=1.0), Row(age=54.0, sex=1.0, cp=0.0, trestbps=120.0, chol=188.0, fbs=0.0, restecg=1.0, thalach=113.0, exang=0.0, oldpeak=1.4, slope=1.0, ca=1.0, thal=3.0, target=0.0)]\n"
          ]
        }
      ]
    },
    {
      "cell_type": "markdown",
      "source": [
        "#  Performing correlation analysis for any 2-column"
      ],
      "metadata": {
        "id": "Xz8QEugUgWge"
      }
    },
    {
      "cell_type": "code",
      "source": [
        "df2.stat.corr('chol','age')"
      ],
      "metadata": {
        "colab": {
          "base_uri": "https://localhost:8080/"
        },
        "id": "NM59v55pgd79",
        "outputId": "8c02c9a7-c409-4af4-a277-53e5a8bc7a3e"
      },
      "execution_count": null,
      "outputs": [
        {
          "output_type": "execute_result",
          "data": {
            "text/plain": [
              "0.21982253466576054"
            ]
          },
          "metadata": {},
          "execution_count": 18
        }
      ]
    },
    {
      "cell_type": "markdown",
      "source": [
        "#  Performing aggregate function for any column"
      ],
      "metadata": {
        "id": "Yai8vG_Mg_fn"
      }
    },
    {
      "cell_type": "code",
      "source": [
        "#Sum\n",
        "from pyspark.sql.functions import sum\n",
        "df2.select(sum(\"chol\")).show()"
      ],
      "metadata": {
        "colab": {
          "base_uri": "https://localhost:8080/"
        },
        "id": "um5zxSrWg7hk",
        "outputId": "17cc2fc4-356f-43cb-fd21-f92ee1df02f3"
      },
      "execution_count": null,
      "outputs": [
        {
          "output_type": "stream",
          "name": "stdout",
          "text": [
            "+---------+\n",
            "|sum(chol)|\n",
            "+---------+\n",
            "| 252150.0|\n",
            "+---------+\n",
            "\n"
          ]
        }
      ]
    },
    {
      "cell_type": "code",
      "source": [
        "#Count\n",
        "from pyspark.sql.functions import count\n",
        "df2.select(count(\"chol\")).show()"
      ],
      "metadata": {
        "colab": {
          "base_uri": "https://localhost:8080/"
        },
        "id": "ooPFYi3yhTw-",
        "outputId": "5dcaaac2-94a2-4442-8508-1abd759ec01c"
      },
      "execution_count": null,
      "outputs": [
        {
          "output_type": "stream",
          "name": "stdout",
          "text": [
            "+-----------+\n",
            "|count(chol)|\n",
            "+-----------+\n",
            "|       1025|\n",
            "+-----------+\n",
            "\n"
          ]
        }
      ]
    },
    {
      "cell_type": "code",
      "source": [
        "#Average\n",
        "from pyspark.sql.functions import avg\n",
        "df2.select(avg(\"chol\")).show()"
      ],
      "metadata": {
        "colab": {
          "base_uri": "https://localhost:8080/"
        },
        "id": "rjy6L-Y9hWkX",
        "outputId": "549168df-f937-4b25-aa42-a3a40375d5e8"
      },
      "execution_count": null,
      "outputs": [
        {
          "output_type": "stream",
          "name": "stdout",
          "text": [
            "+---------+\n",
            "|avg(chol)|\n",
            "+---------+\n",
            "|    246.0|\n",
            "+---------+\n",
            "\n"
          ]
        }
      ]
    },
    {
      "cell_type": "code",
      "source": [
        "#Max\n",
        "from pyspark.sql.functions import max\n",
        "df2.select(max(\"chol\")).show()"
      ],
      "metadata": {
        "colab": {
          "base_uri": "https://localhost:8080/"
        },
        "id": "1sAY6fYnhZa3",
        "outputId": "4f4359b9-1608-43ab-ae6a-a663b66f4262"
      },
      "execution_count": null,
      "outputs": [
        {
          "output_type": "stream",
          "name": "stdout",
          "text": [
            "+---------+\n",
            "|max(chol)|\n",
            "+---------+\n",
            "|    564.0|\n",
            "+---------+\n",
            "\n"
          ]
        }
      ]
    },
    {
      "cell_type": "code",
      "source": [
        "#Min\n",
        "from pyspark.sql.functions import min\n",
        "df2.select(min(\"chol\")).show()"
      ],
      "metadata": {
        "colab": {
          "base_uri": "https://localhost:8080/"
        },
        "id": "hSUUSzRFhbmV",
        "outputId": "2d1e8de7-6253-4792-fcd0-60a0ffdf6b31"
      },
      "execution_count": null,
      "outputs": [
        {
          "output_type": "stream",
          "name": "stdout",
          "text": [
            "+---------+\n",
            "|min(chol)|\n",
            "+---------+\n",
            "|    126.0|\n",
            "+---------+\n",
            "\n"
          ]
        }
      ]
    },
    {
      "cell_type": "code",
      "source": [
        "#Mean\n",
        "from pyspark.sql.functions import mean\n",
        "df2.select(mean(\"chol\")).show()"
      ],
      "metadata": {
        "colab": {
          "base_uri": "https://localhost:8080/"
        },
        "id": "dE1397hEheNl",
        "outputId": "ea6b0c8e-5b5d-42c5-8e83-448b175069e1"
      },
      "execution_count": null,
      "outputs": [
        {
          "output_type": "stream",
          "name": "stdout",
          "text": [
            "+---------+\n",
            "|avg(chol)|\n",
            "+---------+\n",
            "|    246.0|\n",
            "+---------+\n",
            "\n"
          ]
        }
      ]
    },
    {
      "cell_type": "code",
      "source": [
        "#Stddev\n",
        "from pyspark.sql.functions import stddev\n",
        "df2.select(stddev(\"chol\")).show()"
      ],
      "metadata": {
        "colab": {
          "base_uri": "https://localhost:8080/"
        },
        "id": "J6_EUBP-hgRL",
        "outputId": "28d4f184-bb86-493f-b558-df3f4f893bd6"
      },
      "execution_count": null,
      "outputs": [
        {
          "output_type": "stream",
          "name": "stdout",
          "text": [
            "+-----------------+\n",
            "|     stddev(chol)|\n",
            "+-----------------+\n",
            "|51.59251020618203|\n",
            "+-----------------+\n",
            "\n"
          ]
        }
      ]
    },
    {
      "cell_type": "code",
      "source": [
        "#Variance\n",
        "from pyspark.sql.functions import variance\n",
        "df2.select(variance(\"chol\")).show()"
      ],
      "metadata": {
        "colab": {
          "base_uri": "https://localhost:8080/"
        },
        "id": "9HTqfZ-ohiia",
        "outputId": "c83511ad-7d70-48cd-f141-08f839188d31"
      },
      "execution_count": null,
      "outputs": [
        {
          "output_type": "stream",
          "name": "stdout",
          "text": [
            "+-----------------+\n",
            "|   var_samp(chol)|\n",
            "+-----------------+\n",
            "|2661.787109374997|\n",
            "+-----------------+\n",
            "\n"
          ]
        }
      ]
    },
    {
      "cell_type": "markdown",
      "source": [
        "# 5. Data Analysis"
      ],
      "metadata": {
        "id": "jXHUrSSehkwa"
      }
    },
    {
      "cell_type": "code",
      "source": [
        "#counts number of rows of our dataFrame\n",
        "num_rows = df2.count()\n",
        "print(\"number of rows: \", num_rows)"
      ],
      "metadata": {
        "colab": {
          "base_uri": "https://localhost:8080/"
        },
        "id": "I0qgPsYfhj_u",
        "outputId": "b51fa6ae-5b63-499a-d740-6229719bcde0"
      },
      "execution_count": null,
      "outputs": [
        {
          "output_type": "stream",
          "name": "stdout",
          "text": [
            "number of rows:  1025\n"
          ]
        }
      ]
    },
    {
      "cell_type": "code",
      "source": [
        "#shows our dataFrame schema\n",
        "df2.printSchema()"
      ],
      "metadata": {
        "colab": {
          "base_uri": "https://localhost:8080/"
        },
        "id": "ZZnSwCxOhrCh",
        "outputId": "54c77f64-a3b8-4cd0-9283-d10949e6f267"
      },
      "execution_count": null,
      "outputs": [
        {
          "output_type": "stream",
          "name": "stdout",
          "text": [
            "root\n",
            " |-- age: double (nullable = true)\n",
            " |-- sex: double (nullable = true)\n",
            " |-- cp: double (nullable = true)\n",
            " |-- trestbps: double (nullable = true)\n",
            " |-- chol: double (nullable = true)\n",
            " |-- fbs: double (nullable = true)\n",
            " |-- restecg: double (nullable = true)\n",
            " |-- thalach: double (nullable = true)\n",
            " |-- exang: double (nullable = true)\n",
            " |-- oldpeak: double (nullable = true)\n",
            " |-- slope: double (nullable = true)\n",
            " |-- ca: double (nullable = true)\n",
            " |-- thal: double (nullable = true)\n",
            " |-- target: double (nullable = true)\n",
            "\n"
          ]
        }
      ]
    },
    {
      "cell_type": "code",
      "source": [
        "#shows columns name\n",
        "df2.columns"
      ],
      "metadata": {
        "colab": {
          "base_uri": "https://localhost:8080/"
        },
        "id": "rPWg6gz0hs-g",
        "outputId": "885a6b29-8723-4777-bee4-69a2a9a05041"
      },
      "execution_count": null,
      "outputs": [
        {
          "output_type": "execute_result",
          "data": {
            "text/plain": [
              "['age',\n",
              " 'sex',\n",
              " 'cp',\n",
              " 'trestbps',\n",
              " 'chol',\n",
              " 'fbs',\n",
              " 'restecg',\n",
              " 'thalach',\n",
              " 'exang',\n",
              " 'oldpeak',\n",
              " 'slope',\n",
              " 'ca',\n",
              " 'thal',\n",
              " 'target']"
            ]
          },
          "metadata": {},
          "execution_count": 31
        }
      ]
    },
    {
      "cell_type": "code",
      "source": [
        "#show statistics of the data\n",
        "df2.describe().show()"
      ],
      "metadata": {
        "colab": {
          "base_uri": "https://localhost:8080/"
        },
        "id": "hA2ld_E8hvNZ",
        "outputId": "b2976759-4de8-49d2-d11f-ae653715b7e3"
      },
      "execution_count": null,
      "outputs": [
        {
          "output_type": "stream",
          "name": "stdout",
          "text": [
            "+-------+-----------------+------------------+------------------+------------------+-----------------+-------------------+------------------+------------------+-------------------+------------------+------------------+------------------+------------------+------------------+\n",
            "|summary|              age|               sex|                cp|          trestbps|             chol|                fbs|           restecg|           thalach|              exang|           oldpeak|             slope|                ca|              thal|            target|\n",
            "+-------+-----------------+------------------+------------------+------------------+-----------------+-------------------+------------------+------------------+-------------------+------------------+------------------+------------------+------------------+------------------+\n",
            "|  count|             1025|              1025|              1025|              1025|             1025|               1025|              1025|              1025|               1025|              1025|              1025|              1025|              1025|              1025|\n",
            "|   mean|54.43414634146342|0.6956097560975609|0.9424390243902439|131.61170731707318|            246.0|0.14926829268292682|0.5297560975609756|149.11414634146342|0.33658536585365856|1.0715121951219524|1.3853658536585365|0.7541463414634146|  2.32390243902439|0.5131707317073171|\n",
            "| stddev|9.072290233244278|0.4603733241196495| 1.029640743645865|17.516718005376408|51.59251020618203|0.35652668972715756|0.5278775668748918| 23.00572374597721| 0.4727723760037115|1.1750532551501767|0.6177552671745918|1.0307976650242825|0.6206602380510303|0.5000704980788011|\n",
            "|    min|             29.0|               0.0|               0.0|              94.0|            126.0|                0.0|               0.0|              71.0|                0.0|               0.0|               0.0|               0.0|               0.0|               0.0|\n",
            "|    max|             77.0|               1.0|               3.0|             200.0|            564.0|                1.0|               2.0|             202.0|                1.0|               6.2|               2.0|               4.0|               3.0|               1.0|\n",
            "+-------+-----------------+------------------+------------------+------------------+-----------------+-------------------+------------------+------------------+-------------------+------------------+------------------+------------------+------------------+------------------+\n",
            "\n"
          ]
        }
      ]
    },
    {
      "cell_type": "code",
      "source": [
        "#Total number of patients with Diabetes Mellitus affected with CKD\n",
        "newDataframe = df2.select(df2['age'], df2['chol'])\n",
        "\n",
        "df3 = newDataframe.groupBy(\"age\",\"chol\").count()\n",
        "df3.show()"
      ],
      "metadata": {
        "colab": {
          "base_uri": "https://localhost:8080/"
        },
        "id": "z_dErd5ahxnb",
        "outputId": "3a834659-98cc-438f-9381-be2b74cc7891"
      },
      "execution_count": null,
      "outputs": [
        {
          "output_type": "stream",
          "name": "stdout",
          "text": [
            "+----+-----+-----+\n",
            "| age| chol|count|\n",
            "+----+-----+-----+\n",
            "|39.0|199.0|    3|\n",
            "|59.0|204.0|    4|\n",
            "|69.0|254.0|    3|\n",
            "|56.0|240.0|    4|\n",
            "|54.0|266.0|    3|\n",
            "|54.0|288.0|    3|\n",
            "|62.0|231.0|    3|\n",
            "|53.0|264.0|    3|\n",
            "|37.0|250.0|    3|\n",
            "|51.0|175.0|    3|\n",
            "|59.0|234.0|    3|\n",
            "|50.0|233.0|    3|\n",
            "|34.0|182.0|    3|\n",
            "|71.0|265.0|    4|\n",
            "|62.0|294.0|    3|\n",
            "|58.0|248.0|    3|\n",
            "|64.0|246.0|    4|\n",
            "|35.0|183.0|    4|\n",
            "|55.0|327.0|    4|\n",
            "|51.0|213.0|    3|\n",
            "+----+-----+-----+\n",
            "only showing top 20 rows\n",
            "\n"
          ]
        }
      ]
    },
    {
      "cell_type": "code",
      "source": [
        "#Finding missing value\n",
        "n1 =df2.count()\n",
        "PurchaseNoMissingValue = df2.dropna(how=\"any\")\n",
        "numberOfMissingValueAny = n1 - PurchaseNoMissingValue.count()\n",
        "print(\"number of rows with missing data: \", numberOfMissingValueAny)"
      ],
      "metadata": {
        "colab": {
          "base_uri": "https://localhost:8080/"
        },
        "id": "jGNtshYRh9YI",
        "outputId": "f313f3c4-6ac2-4b79-a6d6-f29dfb6fe1e2"
      },
      "execution_count": null,
      "outputs": [
        {
          "output_type": "stream",
          "name": "stdout",
          "text": [
            "number of rows with missing data:  0\n"
          ]
        }
      ]
    },
    {
      "cell_type": "markdown",
      "source": [
        "# 6. Linear regression or classification"
      ],
      "metadata": {
        "id": "mwNeEx0PimTV"
      }
    },
    {
      "cell_type": "code",
      "source": [
        "df2.describe().toPandas().transpose()"
      ],
      "metadata": {
        "colab": {
          "base_uri": "https://localhost:8080/",
          "height": 519
        },
        "id": "zWPFDCwYiXfS",
        "outputId": "1d975d01-b5b9-47a9-b81c-376f64146cb6"
      },
      "execution_count": null,
      "outputs": [
        {
          "output_type": "execute_result",
          "data": {
            "text/plain": [
              "              0                    1                    2      3      4\n",
              "summary   count                 mean               stddev    min    max\n",
              "age        1025    54.43414634146342    9.072290233244278   29.0   77.0\n",
              "sex        1025   0.6956097560975609   0.4603733241196495    0.0    1.0\n",
              "cp         1025   0.9424390243902439    1.029640743645865    0.0    3.0\n",
              "trestbps   1025   131.61170731707318   17.516718005376408   94.0  200.0\n",
              "chol       1025                246.0    51.59251020618203  126.0  564.0\n",
              "fbs        1025  0.14926829268292682  0.35652668972715756    0.0    1.0\n",
              "restecg    1025   0.5297560975609756   0.5278775668748918    0.0    2.0\n",
              "thalach    1025   149.11414634146342    23.00572374597721   71.0  202.0\n",
              "exang      1025  0.33658536585365856   0.4727723760037115    0.0    1.0\n",
              "oldpeak    1025   1.0715121951219524   1.1750532551501767    0.0    6.2\n",
              "slope      1025   1.3853658536585365   0.6177552671745918    0.0    2.0\n",
              "ca         1025   0.7541463414634146   1.0307976650242825    0.0    4.0\n",
              "thal       1025     2.32390243902439   0.6206602380510303    0.0    3.0\n",
              "target     1025   0.5131707317073171   0.5000704980788011    0.0    1.0"
            ],
            "text/html": [
              "\n",
              "  <div id=\"df-210d6bd8-8833-4e88-a03b-c8e36cfc7198\" class=\"colab-df-container\">\n",
              "    <div>\n",
              "<style scoped>\n",
              "    .dataframe tbody tr th:only-of-type {\n",
              "        vertical-align: middle;\n",
              "    }\n",
              "\n",
              "    .dataframe tbody tr th {\n",
              "        vertical-align: top;\n",
              "    }\n",
              "\n",
              "    .dataframe thead th {\n",
              "        text-align: right;\n",
              "    }\n",
              "</style>\n",
              "<table border=\"1\" class=\"dataframe\">\n",
              "  <thead>\n",
              "    <tr style=\"text-align: right;\">\n",
              "      <th></th>\n",
              "      <th>0</th>\n",
              "      <th>1</th>\n",
              "      <th>2</th>\n",
              "      <th>3</th>\n",
              "      <th>4</th>\n",
              "    </tr>\n",
              "  </thead>\n",
              "  <tbody>\n",
              "    <tr>\n",
              "      <th>summary</th>\n",
              "      <td>count</td>\n",
              "      <td>mean</td>\n",
              "      <td>stddev</td>\n",
              "      <td>min</td>\n",
              "      <td>max</td>\n",
              "    </tr>\n",
              "    <tr>\n",
              "      <th>age</th>\n",
              "      <td>1025</td>\n",
              "      <td>54.43414634146342</td>\n",
              "      <td>9.072290233244278</td>\n",
              "      <td>29.0</td>\n",
              "      <td>77.0</td>\n",
              "    </tr>\n",
              "    <tr>\n",
              "      <th>sex</th>\n",
              "      <td>1025</td>\n",
              "      <td>0.6956097560975609</td>\n",
              "      <td>0.4603733241196495</td>\n",
              "      <td>0.0</td>\n",
              "      <td>1.0</td>\n",
              "    </tr>\n",
              "    <tr>\n",
              "      <th>cp</th>\n",
              "      <td>1025</td>\n",
              "      <td>0.9424390243902439</td>\n",
              "      <td>1.029640743645865</td>\n",
              "      <td>0.0</td>\n",
              "      <td>3.0</td>\n",
              "    </tr>\n",
              "    <tr>\n",
              "      <th>trestbps</th>\n",
              "      <td>1025</td>\n",
              "      <td>131.61170731707318</td>\n",
              "      <td>17.516718005376408</td>\n",
              "      <td>94.0</td>\n",
              "      <td>200.0</td>\n",
              "    </tr>\n",
              "    <tr>\n",
              "      <th>chol</th>\n",
              "      <td>1025</td>\n",
              "      <td>246.0</td>\n",
              "      <td>51.59251020618203</td>\n",
              "      <td>126.0</td>\n",
              "      <td>564.0</td>\n",
              "    </tr>\n",
              "    <tr>\n",
              "      <th>fbs</th>\n",
              "      <td>1025</td>\n",
              "      <td>0.14926829268292682</td>\n",
              "      <td>0.35652668972715756</td>\n",
              "      <td>0.0</td>\n",
              "      <td>1.0</td>\n",
              "    </tr>\n",
              "    <tr>\n",
              "      <th>restecg</th>\n",
              "      <td>1025</td>\n",
              "      <td>0.5297560975609756</td>\n",
              "      <td>0.5278775668748918</td>\n",
              "      <td>0.0</td>\n",
              "      <td>2.0</td>\n",
              "    </tr>\n",
              "    <tr>\n",
              "      <th>thalach</th>\n",
              "      <td>1025</td>\n",
              "      <td>149.11414634146342</td>\n",
              "      <td>23.00572374597721</td>\n",
              "      <td>71.0</td>\n",
              "      <td>202.0</td>\n",
              "    </tr>\n",
              "    <tr>\n",
              "      <th>exang</th>\n",
              "      <td>1025</td>\n",
              "      <td>0.33658536585365856</td>\n",
              "      <td>0.4727723760037115</td>\n",
              "      <td>0.0</td>\n",
              "      <td>1.0</td>\n",
              "    </tr>\n",
              "    <tr>\n",
              "      <th>oldpeak</th>\n",
              "      <td>1025</td>\n",
              "      <td>1.0715121951219524</td>\n",
              "      <td>1.1750532551501767</td>\n",
              "      <td>0.0</td>\n",
              "      <td>6.2</td>\n",
              "    </tr>\n",
              "    <tr>\n",
              "      <th>slope</th>\n",
              "      <td>1025</td>\n",
              "      <td>1.3853658536585365</td>\n",
              "      <td>0.6177552671745918</td>\n",
              "      <td>0.0</td>\n",
              "      <td>2.0</td>\n",
              "    </tr>\n",
              "    <tr>\n",
              "      <th>ca</th>\n",
              "      <td>1025</td>\n",
              "      <td>0.7541463414634146</td>\n",
              "      <td>1.0307976650242825</td>\n",
              "      <td>0.0</td>\n",
              "      <td>4.0</td>\n",
              "    </tr>\n",
              "    <tr>\n",
              "      <th>thal</th>\n",
              "      <td>1025</td>\n",
              "      <td>2.32390243902439</td>\n",
              "      <td>0.6206602380510303</td>\n",
              "      <td>0.0</td>\n",
              "      <td>3.0</td>\n",
              "    </tr>\n",
              "    <tr>\n",
              "      <th>target</th>\n",
              "      <td>1025</td>\n",
              "      <td>0.5131707317073171</td>\n",
              "      <td>0.5000704980788011</td>\n",
              "      <td>0.0</td>\n",
              "      <td>1.0</td>\n",
              "    </tr>\n",
              "  </tbody>\n",
              "</table>\n",
              "</div>\n",
              "    <div class=\"colab-df-buttons\">\n",
              "\n",
              "  <div class=\"colab-df-container\">\n",
              "    <button class=\"colab-df-convert\" onclick=\"convertToInteractive('df-210d6bd8-8833-4e88-a03b-c8e36cfc7198')\"\n",
              "            title=\"Convert this dataframe to an interactive table.\"\n",
              "            style=\"display:none;\">\n",
              "\n",
              "  <svg xmlns=\"http://www.w3.org/2000/svg\" height=\"24px\" viewBox=\"0 -960 960 960\">\n",
              "    <path d=\"M120-120v-720h720v720H120Zm60-500h600v-160H180v160Zm220 220h160v-160H400v160Zm0 220h160v-160H400v160ZM180-400h160v-160H180v160Zm440 0h160v-160H620v160ZM180-180h160v-160H180v160Zm440 0h160v-160H620v160Z\"/>\n",
              "  </svg>\n",
              "    </button>\n",
              "\n",
              "  <style>\n",
              "    .colab-df-container {\n",
              "      display:flex;\n",
              "      gap: 12px;\n",
              "    }\n",
              "\n",
              "    .colab-df-convert {\n",
              "      background-color: #E8F0FE;\n",
              "      border: none;\n",
              "      border-radius: 50%;\n",
              "      cursor: pointer;\n",
              "      display: none;\n",
              "      fill: #1967D2;\n",
              "      height: 32px;\n",
              "      padding: 0 0 0 0;\n",
              "      width: 32px;\n",
              "    }\n",
              "\n",
              "    .colab-df-convert:hover {\n",
              "      background-color: #E2EBFA;\n",
              "      box-shadow: 0px 1px 2px rgba(60, 64, 67, 0.3), 0px 1px 3px 1px rgba(60, 64, 67, 0.15);\n",
              "      fill: #174EA6;\n",
              "    }\n",
              "\n",
              "    .colab-df-buttons div {\n",
              "      margin-bottom: 4px;\n",
              "    }\n",
              "\n",
              "    [theme=dark] .colab-df-convert {\n",
              "      background-color: #3B4455;\n",
              "      fill: #D2E3FC;\n",
              "    }\n",
              "\n",
              "    [theme=dark] .colab-df-convert:hover {\n",
              "      background-color: #434B5C;\n",
              "      box-shadow: 0px 1px 3px 1px rgba(0, 0, 0, 0.15);\n",
              "      filter: drop-shadow(0px 1px 2px rgba(0, 0, 0, 0.3));\n",
              "      fill: #FFFFFF;\n",
              "    }\n",
              "  </style>\n",
              "\n",
              "    <script>\n",
              "      const buttonEl =\n",
              "        document.querySelector('#df-210d6bd8-8833-4e88-a03b-c8e36cfc7198 button.colab-df-convert');\n",
              "      buttonEl.style.display =\n",
              "        google.colab.kernel.accessAllowed ? 'block' : 'none';\n",
              "\n",
              "      async function convertToInteractive(key) {\n",
              "        const element = document.querySelector('#df-210d6bd8-8833-4e88-a03b-c8e36cfc7198');\n",
              "        const dataTable =\n",
              "          await google.colab.kernel.invokeFunction('convertToInteractive',\n",
              "                                                    [key], {});\n",
              "        if (!dataTable) return;\n",
              "\n",
              "        const docLinkHtml = 'Like what you see? Visit the ' +\n",
              "          '<a target=\"_blank\" href=https://colab.research.google.com/notebooks/data_table.ipynb>data table notebook</a>'\n",
              "          + ' to learn more about interactive tables.';\n",
              "        element.innerHTML = '';\n",
              "        dataTable['output_type'] = 'display_data';\n",
              "        await google.colab.output.renderOutput(dataTable, element);\n",
              "        const docLink = document.createElement('div');\n",
              "        docLink.innerHTML = docLinkHtml;\n",
              "        element.appendChild(docLink);\n",
              "      }\n",
              "    </script>\n",
              "  </div>\n",
              "\n",
              "\n",
              "<div id=\"df-4ab19a68-2140-4ef1-88ef-011bbb5a1430\">\n",
              "  <button class=\"colab-df-quickchart\" onclick=\"quickchart('df-4ab19a68-2140-4ef1-88ef-011bbb5a1430')\"\n",
              "            title=\"Suggest charts\"\n",
              "            style=\"display:none;\">\n",
              "\n",
              "<svg xmlns=\"http://www.w3.org/2000/svg\" height=\"24px\"viewBox=\"0 0 24 24\"\n",
              "     width=\"24px\">\n",
              "    <g>\n",
              "        <path d=\"M19 3H5c-1.1 0-2 .9-2 2v14c0 1.1.9 2 2 2h14c1.1 0 2-.9 2-2V5c0-1.1-.9-2-2-2zM9 17H7v-7h2v7zm4 0h-2V7h2v10zm4 0h-2v-4h2v4z\"/>\n",
              "    </g>\n",
              "</svg>\n",
              "  </button>\n",
              "\n",
              "<style>\n",
              "  .colab-df-quickchart {\n",
              "      --bg-color: #E8F0FE;\n",
              "      --fill-color: #1967D2;\n",
              "      --hover-bg-color: #E2EBFA;\n",
              "      --hover-fill-color: #174EA6;\n",
              "      --disabled-fill-color: #AAA;\n",
              "      --disabled-bg-color: #DDD;\n",
              "  }\n",
              "\n",
              "  [theme=dark] .colab-df-quickchart {\n",
              "      --bg-color: #3B4455;\n",
              "      --fill-color: #D2E3FC;\n",
              "      --hover-bg-color: #434B5C;\n",
              "      --hover-fill-color: #FFFFFF;\n",
              "      --disabled-bg-color: #3B4455;\n",
              "      --disabled-fill-color: #666;\n",
              "  }\n",
              "\n",
              "  .colab-df-quickchart {\n",
              "    background-color: var(--bg-color);\n",
              "    border: none;\n",
              "    border-radius: 50%;\n",
              "    cursor: pointer;\n",
              "    display: none;\n",
              "    fill: var(--fill-color);\n",
              "    height: 32px;\n",
              "    padding: 0;\n",
              "    width: 32px;\n",
              "  }\n",
              "\n",
              "  .colab-df-quickchart:hover {\n",
              "    background-color: var(--hover-bg-color);\n",
              "    box-shadow: 0 1px 2px rgba(60, 64, 67, 0.3), 0 1px 3px 1px rgba(60, 64, 67, 0.15);\n",
              "    fill: var(--button-hover-fill-color);\n",
              "  }\n",
              "\n",
              "  .colab-df-quickchart-complete:disabled,\n",
              "  .colab-df-quickchart-complete:disabled:hover {\n",
              "    background-color: var(--disabled-bg-color);\n",
              "    fill: var(--disabled-fill-color);\n",
              "    box-shadow: none;\n",
              "  }\n",
              "\n",
              "  .colab-df-spinner {\n",
              "    border: 2px solid var(--fill-color);\n",
              "    border-color: transparent;\n",
              "    border-bottom-color: var(--fill-color);\n",
              "    animation:\n",
              "      spin 1s steps(1) infinite;\n",
              "  }\n",
              "\n",
              "  @keyframes spin {\n",
              "    0% {\n",
              "      border-color: transparent;\n",
              "      border-bottom-color: var(--fill-color);\n",
              "      border-left-color: var(--fill-color);\n",
              "    }\n",
              "    20% {\n",
              "      border-color: transparent;\n",
              "      border-left-color: var(--fill-color);\n",
              "      border-top-color: var(--fill-color);\n",
              "    }\n",
              "    30% {\n",
              "      border-color: transparent;\n",
              "      border-left-color: var(--fill-color);\n",
              "      border-top-color: var(--fill-color);\n",
              "      border-right-color: var(--fill-color);\n",
              "    }\n",
              "    40% {\n",
              "      border-color: transparent;\n",
              "      border-right-color: var(--fill-color);\n",
              "      border-top-color: var(--fill-color);\n",
              "    }\n",
              "    60% {\n",
              "      border-color: transparent;\n",
              "      border-right-color: var(--fill-color);\n",
              "    }\n",
              "    80% {\n",
              "      border-color: transparent;\n",
              "      border-right-color: var(--fill-color);\n",
              "      border-bottom-color: var(--fill-color);\n",
              "    }\n",
              "    90% {\n",
              "      border-color: transparent;\n",
              "      border-bottom-color: var(--fill-color);\n",
              "    }\n",
              "  }\n",
              "</style>\n",
              "\n",
              "  <script>\n",
              "    async function quickchart(key) {\n",
              "      const quickchartButtonEl =\n",
              "        document.querySelector('#' + key + ' button');\n",
              "      quickchartButtonEl.disabled = true;  // To prevent multiple clicks.\n",
              "      quickchartButtonEl.classList.add('colab-df-spinner');\n",
              "      try {\n",
              "        const charts = await google.colab.kernel.invokeFunction(\n",
              "            'suggestCharts', [key], {});\n",
              "      } catch (error) {\n",
              "        console.error('Error during call to suggestCharts:', error);\n",
              "      }\n",
              "      quickchartButtonEl.classList.remove('colab-df-spinner');\n",
              "      quickchartButtonEl.classList.add('colab-df-quickchart-complete');\n",
              "    }\n",
              "    (() => {\n",
              "      let quickchartButtonEl =\n",
              "        document.querySelector('#df-4ab19a68-2140-4ef1-88ef-011bbb5a1430 button');\n",
              "      quickchartButtonEl.style.display =\n",
              "        google.colab.kernel.accessAllowed ? 'block' : 'none';\n",
              "    })();\n",
              "  </script>\n",
              "</div>\n",
              "\n",
              "    </div>\n",
              "  </div>\n"
            ]
          },
          "metadata": {},
          "execution_count": 35
        }
      ]
    },
    {
      "cell_type": "code",
      "source": [
        "col = df2.columns"
      ],
      "metadata": {
        "id": "8ksfymQ_Y1ee"
      },
      "execution_count": null,
      "outputs": []
    },
    {
      "cell_type": "code",
      "source": [
        "col.remove('age')\n",
        "col.remove('fbs')"
      ],
      "metadata": {
        "id": "qWBBdVFzY8Ba"
      },
      "execution_count": null,
      "outputs": []
    },
    {
      "cell_type": "markdown",
      "source": [
        "## Linear Regression"
      ],
      "metadata": {
        "id": "VnY1nv4Rjmsz"
      }
    },
    {
      "cell_type": "code",
      "source": [
        "from pyspark.ml.regression import LinearRegression\n",
        "from pyspark.ml.feature import VectorAssembler\n",
        "from pyspark.ml.evaluation import RegressionEvaluator\n",
        "from pyspark.ml.classification import LogisticRegression\n",
        "from pyspark.ml import Pipeline\n",
        "from pyspark.ml.evaluation import BinaryClassificationEvaluator\n",
        "\n",
        "assembler = VectorAssembler(\n",
        "    inputCols= col,\n",
        "    outputCol=\"features\")\n",
        "\n",
        "data = assembler.transform(df2)\n",
        "final_data = data.select(\"features\", \"target\")\n",
        "\n",
        "train_data, test_data = final_data.randomSplit([0.8, 0.2], seed=42)"
      ],
      "metadata": {
        "id": "il7UPxyMitEX"
      },
      "execution_count": null,
      "outputs": []
    },
    {
      "cell_type": "code",
      "source": [
        "lr = LogisticRegression(labelCol=\"target\", featuresCol=\"features\")\n",
        "\n",
        "# Create a pipeline\n",
        "pipeline = Pipeline(stages=[lr])\n",
        "\n",
        "# Train the model\n",
        "model = pipeline.fit(train_data)\n",
        "\n",
        "# Make predictions on the test set\n",
        "lr_predictions = model.transform(test_data)\n",
        "\n",
        "# Evaluate the model\n",
        "evaluator = BinaryClassificationEvaluator(labelCol=\"target\", rawPredictionCol=\"rawPrediction\", metricName=\"areaUnderROC\")\n",
        "area_under_curve = evaluator.evaluate(lr_predictions)\n",
        "print(f\"Area Under ROC Curve: {area_under_curve}\")\n",
        "\n",
        "# Show the predictions\n",
        "lr_predictions.select(\"target\", \"prediction\", \"probability\").show()"
      ],
      "metadata": {
        "colab": {
          "base_uri": "https://localhost:8080/"
        },
        "id": "JRlis5v6SdyH",
        "outputId": "00920aea-40f8-4e2e-80f6-eab11a5eaa57"
      },
      "execution_count": null,
      "outputs": [
        {
          "output_type": "stream",
          "name": "stdout",
          "text": [
            "Area Under ROC Curve: 1.0\n",
            "+------+----------+--------------------+\n",
            "|target|prediction|         probability|\n",
            "+------+----------+--------------------+\n",
            "|   0.0|       0.0|[0.99999998233350...|\n",
            "|   0.0|       0.0|[0.99999999666682...|\n",
            "|   0.0|       0.0|[0.99999999666682...|\n",
            "|   0.0|       0.0|[0.99999996899755...|\n",
            "|   1.0|       1.0|[3.19663592566554...|\n",
            "|   1.0|       1.0|[7.54393468552271...|\n",
            "|   1.0|       1.0|[5.81530404291303...|\n",
            "|   0.0|       0.0|[0.99999999279860...|\n",
            "|   0.0|       0.0|[0.99999998213938...|\n",
            "|   1.0|       1.0|[2.49535731955706...|\n",
            "|   1.0|       1.0|[2.49535731955706...|\n",
            "|   1.0|       1.0|[2.49535731955706...|\n",
            "|   0.0|       0.0|[0.99999999425003...|\n",
            "|   1.0|       1.0|[5.62690166986880...|\n",
            "|   1.0|       1.0|[6.50861589126853...|\n",
            "|   1.0|       1.0|[2.24837500397860...|\n",
            "|   0.0|       0.0|[0.99999999793648...|\n",
            "|   0.0|       0.0|[0.99999999410748...|\n",
            "|   0.0|       0.0|[0.99999999594624...|\n",
            "|   0.0|       0.0|[0.99999999872357...|\n",
            "+------+----------+--------------------+\n",
            "only showing top 20 rows\n",
            "\n"
          ]
        }
      ]
    },
    {
      "cell_type": "markdown",
      "source": [
        "## Classification - Decision Tree"
      ],
      "metadata": {
        "id": "5XokHaapjrme"
      }
    },
    {
      "cell_type": "code",
      "source": [
        "from pyspark.ml.evaluation import MulticlassClassificationEvaluator\n",
        "from pyspark.ml.classification import DecisionTreeClassifier\n",
        "\n",
        "# Create a Decision Tree model\n",
        "dt = DecisionTreeClassifier(labelCol=\"target\", featuresCol=\"features\", maxDepth=3)\n",
        "\n",
        "# Create a pipeline\n",
        "pipeline = Pipeline(stages=[dt])\n",
        "\n",
        "# Train the model\n",
        "model = pipeline.fit(train_data)\n",
        "\n",
        "# Make predictions on the test set\n",
        "dt_predictions = model.transform(test_data)\n",
        "\n",
        "# Evaluate the model\n",
        "evaluator = MulticlassClassificationEvaluator(labelCol=\"target\", predictionCol=\"prediction\", metricName=\"accuracy\")\n",
        "accuracy = evaluator.evaluate(dt_predictions)\n",
        "print(f\"Accuracy: {accuracy}\")\n",
        "\n",
        "# Show the predictions\n",
        "dt_predictions.select(\"target\", \"prediction\", \"probability\").show()"
      ],
      "metadata": {
        "colab": {
          "base_uri": "https://localhost:8080/"
        },
        "id": "Kl9NpGJ0jj16",
        "outputId": "3cc9377c-baa2-4ca6-aecc-968aa47f2967"
      },
      "execution_count": null,
      "outputs": [
        {
          "output_type": "stream",
          "name": "stdout",
          "text": [
            "Accuracy: 1.0\n",
            "+------+----------+-----------+\n",
            "|target|prediction|probability|\n",
            "+------+----------+-----------+\n",
            "|   0.0|       0.0|  [1.0,0.0]|\n",
            "|   0.0|       0.0|  [1.0,0.0]|\n",
            "|   0.0|       0.0|  [1.0,0.0]|\n",
            "|   0.0|       0.0|  [1.0,0.0]|\n",
            "|   1.0|       1.0|  [0.0,1.0]|\n",
            "|   1.0|       1.0|  [0.0,1.0]|\n",
            "|   1.0|       1.0|  [0.0,1.0]|\n",
            "|   0.0|       0.0|  [1.0,0.0]|\n",
            "|   0.0|       0.0|  [1.0,0.0]|\n",
            "|   1.0|       1.0|  [0.0,1.0]|\n",
            "|   1.0|       1.0|  [0.0,1.0]|\n",
            "|   1.0|       1.0|  [0.0,1.0]|\n",
            "|   0.0|       0.0|  [1.0,0.0]|\n",
            "|   1.0|       1.0|  [0.0,1.0]|\n",
            "|   1.0|       1.0|  [0.0,1.0]|\n",
            "|   1.0|       1.0|  [0.0,1.0]|\n",
            "|   0.0|       0.0|  [1.0,0.0]|\n",
            "|   0.0|       0.0|  [1.0,0.0]|\n",
            "|   0.0|       0.0|  [1.0,0.0]|\n",
            "|   0.0|       0.0|  [1.0,0.0]|\n",
            "+------+----------+-----------+\n",
            "only showing top 20 rows\n",
            "\n"
          ]
        }
      ]
    },
    {
      "cell_type": "markdown",
      "source": [
        "# 7. Model Evaluation"
      ],
      "metadata": {
        "id": "iFMKgw1dj_3u"
      }
    },
    {
      "cell_type": "code",
      "source": [
        "r_evaluator = BinaryClassificationEvaluator(labelCol=\"target\", rawPredictionCol=\"rawPrediction\", metricName=\"areaUnderROC\")\n",
        "lr_auc = lr_evaluator.evaluate(lr_predictions)\n",
        "print(f\"Logistic Regression AUC: {lr_auc}\")\n",
        "\n",
        "# Evaluate Decision Tree model\n",
        "dt_evaluator = MulticlassClassificationEvaluator(labelCol=\"target\", predictionCol=\"prediction\", metricName=\"accuracy\")\n",
        "dt_accuracy = dt_evaluator.evaluate(dt_predictions)\n",
        "print(f\"Decision Tree Accuracy: {dt_accuracy}\")"
      ],
      "metadata": {
        "id": "abc-c_9bZFcf"
      },
      "execution_count": null,
      "outputs": []
    }
  ]
}